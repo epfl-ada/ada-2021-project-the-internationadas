{
  "nbformat": 4,
  "nbformat_minor": 5,
  "metadata": {
    "kernelspec": {
      "display_name": "Python 3 (ipykernel)",
      "language": "python",
      "name": "python3"
    },
    "language_info": {
      "codemirror_mode": {
        "name": "ipython",
        "version": 3
      },
      "file_extension": ".py",
      "mimetype": "text/x-python",
      "name": "python",
      "nbconvert_exporter": "python",
      "pygments_lexer": "ipython3",
      "version": "3.8.11"
    },
    "colab": {
      "name": "Copy of data_exploration.ipynb",
      "provenance": []
    }
  },
  "cells": [
    {
      "cell_type": "code",
      "metadata": {
        "colab": {
          "base_uri": "https://localhost:8080/"
        },
        "id": "e3283779",
        "outputId": "0135f6fd-2b3d-4697-a932-2775a7217cc8"
      },
      "source": [
        "from google.colab import drive\n",
        "drive.mount('/content/drive')"
      ],
      "id": "e3283779",
      "execution_count": null,
      "outputs": [
        {
          "output_type": "stream",
          "name": "stdout",
          "text": [
            "Mounted at /content/drive\n"
          ]
        }
      ]
    },
    {
      "cell_type": "code",
      "metadata": {
        "colab": {
          "base_uri": "https://localhost:8080/"
        },
        "id": "ylZG2PXVZMEA",
        "outputId": "c1aae85a-5fd6-429b-8d08-466f33143194"
      },
      "source": [
        "!pip install qwikidata"
      ],
      "id": "ylZG2PXVZMEA",
      "execution_count": null,
      "outputs": [
        {
          "output_type": "stream",
          "name": "stdout",
          "text": [
            "Collecting qwikidata\n",
            "  Downloading qwikidata-0.4.0-py3-none-any.whl (20 kB)\n",
            "Requirement already satisfied: requests in /usr/local/lib/python3.7/dist-packages (from qwikidata) (2.23.0)\n",
            "Collecting mypy-extensions\n",
            "  Downloading mypy_extensions-0.4.3-py2.py3-none-any.whl (4.5 kB)\n",
            "Requirement already satisfied: urllib3!=1.25.0,!=1.25.1,<1.26,>=1.21.1 in /usr/local/lib/python3.7/dist-packages (from requests->qwikidata) (1.24.3)\n",
            "Requirement already satisfied: chardet<4,>=3.0.2 in /usr/local/lib/python3.7/dist-packages (from requests->qwikidata) (3.0.4)\n",
            "Requirement already satisfied: idna<3,>=2.5 in /usr/local/lib/python3.7/dist-packages (from requests->qwikidata) (2.10)\n",
            "Requirement already satisfied: certifi>=2017.4.17 in /usr/local/lib/python3.7/dist-packages (from requests->qwikidata) (2021.10.8)\n",
            "Installing collected packages: mypy-extensions, qwikidata\n",
            "Successfully installed mypy-extensions-0.4.3 qwikidata-0.4.0\n"
          ]
        }
      ]
    },
    {
      "cell_type": "code",
      "metadata": {
        "id": "946910a3"
      },
      "source": [
        "import bz2\n",
        "import json\n",
        "import pandas as pd\n",
        "import numpy as np\n",
        "import seaborn as sns\n",
        "import matplotlib.pyplot as plt\n",
        "import scipy.stats as stats\n",
        "from qwikidata.linked_data_interface import get_entity_dict_from_api"
      ],
      "id": "946910a3",
      "execution_count": null,
      "outputs": []
    },
    {
      "cell_type": "code",
      "metadata": {
        "colab": {
          "base_uri": "https://localhost:8080/",
          "height": 589
        },
        "id": "a7b83287",
        "outputId": "d70b3a1e-dbed-4cf8-880c-aa019c09c1e6"
      },
      "source": [
        "# Load the new file as a dataframe\n",
        "file_path = '/content/drive/MyDrive/ada/quotes-2020-repub-dem.json.bz2'\n",
        "df = pd.read_json(file_path, compression='bz2')\n",
        "df"
      ],
      "id": "a7b83287",
      "execution_count": null,
      "outputs": [
        {
          "output_type": "execute_result",
          "data": {
            "text/html": [
              "<div>\n",
              "<style scoped>\n",
              "    .dataframe tbody tr th:only-of-type {\n",
              "        vertical-align: middle;\n",
              "    }\n",
              "\n",
              "    .dataframe tbody tr th {\n",
              "        vertical-align: top;\n",
              "    }\n",
              "\n",
              "    .dataframe thead th {\n",
              "        text-align: right;\n",
              "    }\n",
              "</style>\n",
              "<table border=\"1\" class=\"dataframe\">\n",
              "  <thead>\n",
              "    <tr style=\"text-align: right;\">\n",
              "      <th></th>\n",
              "      <th>quoteID</th>\n",
              "      <th>quotation</th>\n",
              "      <th>speaker</th>\n",
              "      <th>qids</th>\n",
              "      <th>probas</th>\n",
              "      <th>gender</th>\n",
              "      <th>occupation</th>\n",
              "      <th>party</th>\n",
              "    </tr>\n",
              "  </thead>\n",
              "  <tbody>\n",
              "    <tr>\n",
              "      <th>0</th>\n",
              "      <td>2020-01-16-000088</td>\n",
              "      <td>[ Department of Homeland Security ] was livid ...</td>\n",
              "      <td>Sue Myrick</td>\n",
              "      <td>Q367796</td>\n",
              "      <td>[[Sue Myrick, 0.8867], [None, 0.0992], [Ron Wy...</td>\n",
              "      <td>[Q6581072]</td>\n",
              "      <td>[Q82955]</td>\n",
              "      <td>[Q29468]</td>\n",
              "    </tr>\n",
              "    <tr>\n",
              "      <th>1</th>\n",
              "      <td>2020-01-16-012811</td>\n",
              "      <td>cancel contracts to train Saudi police and oth...</td>\n",
              "      <td>Sue Myrick</td>\n",
              "      <td>Q367796</td>\n",
              "      <td>[[Sue Myrick, 0.8677], [None, 0.1323]]</td>\n",
              "      <td>[Q6581072]</td>\n",
              "      <td>[Q82955]</td>\n",
              "      <td>[Q29468]</td>\n",
              "    </tr>\n",
              "    <tr>\n",
              "      <th>2</th>\n",
              "      <td>2020-01-16-094237</td>\n",
              "      <td>to block the sale of sensitive military munitions</td>\n",
              "      <td>Sue Myrick</td>\n",
              "      <td>Q367796</td>\n",
              "      <td>[[Sue Myrick, 0.604], [Ron Wyden, 0.2891], [No...</td>\n",
              "      <td>[Q6581072]</td>\n",
              "      <td>[Q82955]</td>\n",
              "      <td>[Q29468]</td>\n",
              "    </tr>\n",
              "    <tr>\n",
              "      <th>3</th>\n",
              "      <td>2020-02-28-013721</td>\n",
              "      <td>enlisted the help of Hezbollah</td>\n",
              "      <td>Sue Myrick</td>\n",
              "      <td>Q367796</td>\n",
              "      <td>[[Sue Myrick, 0.7064], [None, 0.2936]]</td>\n",
              "      <td>[Q6581072]</td>\n",
              "      <td>[Q82955]</td>\n",
              "      <td>[Q29468]</td>\n",
              "    </tr>\n",
              "    <tr>\n",
              "      <th>4</th>\n",
              "      <td>2020-02-28-034001</td>\n",
              "      <td>implies a Persian influence that can likely be...</td>\n",
              "      <td>Sue Myrick</td>\n",
              "      <td>Q367796</td>\n",
              "      <td>[[Sue Myrick, 0.963], [None, 0.037]]</td>\n",
              "      <td>[Q6581072]</td>\n",
              "      <td>[Q82955]</td>\n",
              "      <td>[Q29468]</td>\n",
              "    </tr>\n",
              "    <tr>\n",
              "      <th>...</th>\n",
              "      <td>...</td>\n",
              "      <td>...</td>\n",
              "      <td>...</td>\n",
              "      <td>...</td>\n",
              "      <td>...</td>\n",
              "      <td>...</td>\n",
              "      <td>...</td>\n",
              "      <td>...</td>\n",
              "    </tr>\n",
              "    <tr>\n",
              "      <th>444089</th>\n",
              "      <td>2020-02-14-054657</td>\n",
              "      <td>It's not only affecting businesses but it's al...</td>\n",
              "      <td>Tim Stine</td>\n",
              "      <td>Q21064330</td>\n",
              "      <td>[[Tim Stine, 0.7644], [None, 0.2356]]</td>\n",
              "      <td>[Q6581097]</td>\n",
              "      <td>[Q43845, Q82955]</td>\n",
              "      <td>[Q29552]</td>\n",
              "    </tr>\n",
              "    <tr>\n",
              "      <th>444090</th>\n",
              "      <td>2020-02-06-002083</td>\n",
              "      <td>A nonprofit will open some other doors. It wil...</td>\n",
              "      <td>Pat McDonough</td>\n",
              "      <td>Q7143736</td>\n",
              "      <td>[[Pat McDonough, 0.9043], [None, 0.0957]]</td>\n",
              "      <td>[Q6581097]</td>\n",
              "      <td>[Q82955]</td>\n",
              "      <td>[Q29468]</td>\n",
              "    </tr>\n",
              "    <tr>\n",
              "      <th>444091</th>\n",
              "      <td>2020-02-07-000825</td>\n",
              "      <td>5-point Border Security Initiative,</td>\n",
              "      <td>Roger Hedgecock</td>\n",
              "      <td>Q3439068</td>\n",
              "      <td>[[Roger Hedgecock, 0.6745], [Carl DeMaio, 0.25...</td>\n",
              "      <td>[Q6581097]</td>\n",
              "      <td>[Q2722764, Q82955]</td>\n",
              "      <td>[Q29468]</td>\n",
              "    </tr>\n",
              "    <tr>\n",
              "      <th>444092</th>\n",
              "      <td>2020-02-18-007399</td>\n",
              "      <td>As the city's mayor, the issues that were most...</td>\n",
              "      <td>Daniel M. Pierce</td>\n",
              "      <td>Q18739817</td>\n",
              "      <td>[[Daniel M. Pierce, 0.5388], [None, 0.4612]]</td>\n",
              "      <td>[Q6581097]</td>\n",
              "      <td>[Q40348, Q82955]</td>\n",
              "      <td>[Q29552]</td>\n",
              "    </tr>\n",
              "    <tr>\n",
              "      <th>444093</th>\n",
              "      <td>2020-03-21-024086</td>\n",
              "      <td>NYCHA will continue to fall into deep disrepai...</td>\n",
              "      <td>Robert J. Rodriguez</td>\n",
              "      <td>Q7345965</td>\n",
              "      <td>[[Robert J. Rodriguez, 0.6855], [None, 0.3145]]</td>\n",
              "      <td>[Q6581097]</td>\n",
              "      <td>[Q82955]</td>\n",
              "      <td>[Q29552]</td>\n",
              "    </tr>\n",
              "  </tbody>\n",
              "</table>\n",
              "<p>444094 rows × 8 columns</p>\n",
              "</div>"
            ],
            "text/plain": [
              "                  quoteID  ...     party\n",
              "0       2020-01-16-000088  ...  [Q29468]\n",
              "1       2020-01-16-012811  ...  [Q29468]\n",
              "2       2020-01-16-094237  ...  [Q29468]\n",
              "3       2020-02-28-013721  ...  [Q29468]\n",
              "4       2020-02-28-034001  ...  [Q29468]\n",
              "...                   ...  ...       ...\n",
              "444089  2020-02-14-054657  ...  [Q29552]\n",
              "444090  2020-02-06-002083  ...  [Q29468]\n",
              "444091  2020-02-07-000825  ...  [Q29468]\n",
              "444092  2020-02-18-007399  ...  [Q29552]\n",
              "444093  2020-03-21-024086  ...  [Q29552]\n",
              "\n",
              "[444094 rows x 8 columns]"
            ]
          },
          "metadata": {},
          "execution_count": 11
        }
      ]
    },
    {
      "cell_type": "code",
      "metadata": {
        "id": "ePprO8R3_8Lm"
      },
      "source": [
        "# Add number of quotations per qid to dataframe (Caution: this column is already aggregated)\n",
        "df['quotationCounts'] = df.groupby(['qids'])['quoteID'].transform(\"count\")"
      ],
      "id": "ePprO8R3_8Lm",
      "execution_count": null,
      "outputs": []
    },
    {
      "cell_type": "code",
      "metadata": {
        "id": "KCSItTBh-ae2"
      },
      "source": [
        "republican_qid = 'Q29468'\n",
        "democrats_qid = 'Q29552'\n",
        "republicans_df = df.loc[df['party'].str[0] == republican_qid] #People from the republican party\n",
        "democrats_df = df.loc[df['party'].str[0] == democrats_qid] #People from the democratic party"
      ],
      "id": "KCSItTBh-ae2",
      "execution_count": null,
      "outputs": []
    },
    {
      "cell_type": "code",
      "metadata": {
        "id": "Hvi_cKv_AGRb"
      },
      "source": [
        "#number of of quotations per qid for republicans\n",
        "n_quotes_per_qid_repub = republicans_df.groupby(['qids'])['quotationCounts'].mean()\n",
        "n_quotes_per_qid_repub.describe()"
      ],
      "id": "Hvi_cKv_AGRb",
      "execution_count": null,
      "outputs": []
    },
    {
      "cell_type": "code",
      "metadata": {
        "id": "3dUsLzmbAdEx"
      },
      "source": [
        "#number of of quotations per qid for democrats\n",
        "n_quotes_per_qid_demo = democrats_df.groupby(['qids'])['quotationCounts'].mean()\n",
        "n_quotes_per_qid_demo.describe()"
      ],
      "id": "3dUsLzmbAdEx",
      "execution_count": null,
      "outputs": []
    },
    {
      "cell_type": "markdown",
      "metadata": {
        "id": "kxLn6cZ3F9t7"
      },
      "source": [
        "The number of the republican speakers (3754) and  the democrats (3924) is almost the same. "
      ],
      "id": "kxLn6cZ3F9t7"
    },
    {
      "cell_type": "code",
      "metadata": {
        "colab": {
          "base_uri": "https://localhost:8080/",
          "height": 530
        },
        "id": "7137bc49",
        "outputId": "f99a7102-f332-4b81-df87-5be2bb960955"
      },
      "source": [
        "# Visualize the number of quotations per speaker grouped by Democrats and Republicans\n",
        "fig, axes = plt.subplots(nrows=1, ncols=2, figsize=(12, 8))\n",
        "\n",
        "subplot = axes[0];\n",
        "subplot.hist(np.log10(n_quotes_per_qid_repub), bins = 50, color=\"lightsteelblue\")#\n",
        "subplot.set_title(\"Quotations per Speaker (Republican)\")\n",
        "subplot.set_xlabel(\"log 10 Quotation Count\")\n",
        "subplot.set_ylabel(\"Number of Speakers\")\n",
        "\n",
        "\n",
        "subplot = axes[1];\n",
        "subplot.hist(np.log10(n_quotes_per_qid_demo), bins = 50, color=\"cornflowerblue\")\n",
        "subplot.set_title(\"Quotations per Speaker (Democrat)\")\n",
        "subplot.set_xlabel(\"log 10 Quotation Count\")\n",
        "subplot.set_ylabel(\"Number of Speakers\")\n"
      ],
      "id": "7137bc49",
      "execution_count": null,
      "outputs": [
        {
          "output_type": "execute_result",
          "data": {
            "text/plain": [
              "Text(0, 0.5, 'Number of Speakers')"
            ]
          },
          "metadata": {},
          "execution_count": 39
        },
        {
          "output_type": "display_data",
          "data": {
            "image/png": "[encoded data removed]",
            "text/plain": [
              "<Figure size 864x576 with 2 Axes>"
            ]
          },
          "metadata": {
            "needs_background": "light"
          }
        }
      ]
    },
    {
      "cell_type": "code",
      "metadata": {
        "colab": {
          "base_uri": "https://localhost:8080/"
        },
        "id": "5db1aa32",
        "outputId": "2b8db9de-551f-4c73-c463-7262c7f61b47"
      },
      "source": [
        "# Top Speakers of the Democratic Party\n",
        "n_quotes_per_qid_demo.sort_values(ascending=False)"
      ],
      "id": "5db1aa32",
      "execution_count": null,
      "outputs": [
        {
          "output_type": "execute_result",
          "data": {
            "text/plain": [
              "qids\n",
              "Q6279        12937\n",
              "Q11673       11133\n",
              "Q434706       7672\n",
              "Q7173106      6111\n",
              "Q607          6041\n",
              "             ...  \n",
              "Q350542          1\n",
              "Q5622348         1\n",
              "Q16194806        1\n",
              "Q56192167        1\n",
              "Q991543          1\n",
              "Name: quotationCounts, Length: 3924, dtype: int64"
            ]
          },
          "metadata": {},
          "execution_count": 32
        }
      ]
    },
    {
      "cell_type": "code",
      "metadata": {
        "colab": {
          "base_uri": "https://localhost:8080/"
        },
        "id": "cb45c4d1",
        "outputId": "5bab895d-ef22-4349-bee5-5d7081c44f14"
      },
      "source": [
        "# Top Speakers of the Republican Party\n",
        "n_quotes_per_qid_repub.sort_values(ascending=False)"
      ],
      "id": "cb45c4d1",
      "execution_count": null,
      "outputs": [
        {
          "output_type": "execute_result",
          "data": {
            "text/plain": [
              "qids\n",
              "Q22686       41358\n",
              "Q473239       6000\n",
              "Q24313        3530\n",
              "Q355522       3355\n",
              "Q33190271     2994\n",
              "             ...  \n",
              "Q171989          1\n",
              "Q5213267         1\n",
              "Q17091503        1\n",
              "Q17027771        1\n",
              "Q16987098        1\n",
              "Name: quotationCounts, Length: 3754, dtype: int64"
            ]
          },
          "metadata": {},
          "execution_count": 33
        }
      ]
    },
    {
      "cell_type": "code",
      "metadata": {
        "colab": {
          "base_uri": "https://localhost:8080/",
          "height": 383
        },
        "id": "2xvJmgBtMOhU",
        "outputId": "e572342c-4021-4e49-b02a-d0cd57684c0f"
      },
      "source": [
        "ax = sns.distplot(np.log10(n_quotes_per_qid_demo), hist=True, label='democrats');\n",
        "ax = sns.distplot(np.log10(n_quotes_per_qid_repub), hist=True, label='republicans')\n",
        "ax.set(title='Quotations per Speaker (Republican/democrats)',xlabel='log 10 number of quotes', ylabel='speakers density')\n",
        "plt.legend()\n",
        "plt.show()"
      ],
      "id": "2xvJmgBtMOhU",
      "execution_count": null,
      "outputs": [
        {
          "output_type": "stream",
          "name": "stderr",
          "text": [
            "/usr/local/lib/python3.7/dist-packages/seaborn/distributions.py:2619: FutureWarning: `distplot` is a deprecated function and will be removed in a future version. Please adapt your code to use either `displot` (a figure-level function with similar flexibility) or `histplot` (an axes-level function for histograms).\n",
            "  warnings.warn(msg, FutureWarning)\n",
            "/usr/local/lib/python3.7/dist-packages/seaborn/distributions.py:2619: FutureWarning: `distplot` is a deprecated function and will be removed in a future version. Please adapt your code to use either `displot` (a figure-level function with similar flexibility) or `histplot` (an axes-level function for histograms).\n",
            "  warnings.warn(msg, FutureWarning)\n"
          ]
        },
        {
          "output_type": "display_data",
          "data": {
            "image/png": "[encoded data removed]",
            "text/plain": [
              "<Figure size 432x288 with 1 Axes>"
            ]
          },
          "metadata": {
            "needs_background": "light"
          }
        }
      ]
    },
    {
      "cell_type": "markdown",
      "metadata": {
        "id": "lZgY5Re0IqWb"
      },
      "source": [
        "## Distribution of male/female speaker within each political party"
      ],
      "id": "lZgY5Re0IqWb"
    },
    {
      "cell_type": "code",
      "metadata": {
        "colab": {
          "base_uri": "https://localhost:8080/",
          "height": 297
        },
        "id": "NYHa9--48iBa",
        "outputId": "91e767b7-3318-4df5-bd5f-734517855b53"
      },
      "source": [
        "female_qid = 'Q6581072'\n",
        "male_qid = 'Q6581097'\n",
        "# let's start with the republicans\n",
        "repub_females = republicans_df[republicans_df['gender'].str[0] == female_qid ]\n",
        "repub_females.describe()"
      ],
      "id": "NYHa9--48iBa",
      "execution_count": null,
      "outputs": [
        {
          "output_type": "execute_result",
          "data": {
            "text/html": [
              "<div>\n",
              "<style scoped>\n",
              "    .dataframe tbody tr th:only-of-type {\n",
              "        vertical-align: middle;\n",
              "    }\n",
              "\n",
              "    .dataframe tbody tr th {\n",
              "        vertical-align: top;\n",
              "    }\n",
              "\n",
              "    .dataframe thead th {\n",
              "        text-align: right;\n",
              "    }\n",
              "</style>\n",
              "<table border=\"1\" class=\"dataframe\">\n",
              "  <thead>\n",
              "    <tr style=\"text-align: right;\">\n",
              "      <th></th>\n",
              "      <th>quotationCounts</th>\n",
              "    </tr>\n",
              "  </thead>\n",
              "  <tbody>\n",
              "    <tr>\n",
              "      <th>count</th>\n",
              "      <td>25844.000000</td>\n",
              "    </tr>\n",
              "    <tr>\n",
              "      <th>mean</th>\n",
              "      <td>436.856214</td>\n",
              "    </tr>\n",
              "    <tr>\n",
              "      <th>std</th>\n",
              "      <td>456.722322</td>\n",
              "    </tr>\n",
              "    <tr>\n",
              "      <th>min</th>\n",
              "      <td>1.000000</td>\n",
              "    </tr>\n",
              "    <tr>\n",
              "      <th>25%</th>\n",
              "      <td>53.000000</td>\n",
              "    </tr>\n",
              "    <tr>\n",
              "      <th>50%</th>\n",
              "      <td>250.000000</td>\n",
              "    </tr>\n",
              "    <tr>\n",
              "      <th>75%</th>\n",
              "      <td>674.000000</td>\n",
              "    </tr>\n",
              "    <tr>\n",
              "      <th>max</th>\n",
              "      <td>1432.000000</td>\n",
              "    </tr>\n",
              "  </tbody>\n",
              "</table>\n",
              "</div>"
            ],
            "text/plain": [
              "       quotationCounts\n",
              "count     25844.000000\n",
              "mean        436.856214\n",
              "std         456.722322\n",
              "min           1.000000\n",
              "25%          53.000000\n",
              "50%         250.000000\n",
              "75%         674.000000\n",
              "max        1432.000000"
            ]
          },
          "metadata": {},
          "execution_count": 80
        }
      ]
    },
    {
      "cell_type": "code",
      "metadata": {
        "colab": {
          "base_uri": "https://localhost:8080/",
          "height": 297
        },
        "id": "KtPqEYTsJWXJ",
        "outputId": "980316df-74eb-4dcb-f3c4-e8b330b3bf2d"
      },
      "source": [
        "repub_males = republicans_df[republicans_df['gender'].str[0] == male_qid ]\n",
        "repub_males.describe()"
      ],
      "id": "KtPqEYTsJWXJ",
      "execution_count": null,
      "outputs": [
        {
          "output_type": "execute_result",
          "data": {
            "text/html": [
              "<div>\n",
              "<style scoped>\n",
              "    .dataframe tbody tr th:only-of-type {\n",
              "        vertical-align: middle;\n",
              "    }\n",
              "\n",
              "    .dataframe tbody tr th {\n",
              "        vertical-align: top;\n",
              "    }\n",
              "\n",
              "    .dataframe thead th {\n",
              "        text-align: right;\n",
              "    }\n",
              "</style>\n",
              "<table border=\"1\" class=\"dataframe\">\n",
              "  <thead>\n",
              "    <tr style=\"text-align: right;\">\n",
              "      <th></th>\n",
              "      <th>quotationCounts</th>\n",
              "    </tr>\n",
              "  </thead>\n",
              "  <tbody>\n",
              "    <tr>\n",
              "      <th>count</th>\n",
              "      <td>161675.000000</td>\n",
              "    </tr>\n",
              "    <tr>\n",
              "      <th>mean</th>\n",
              "      <td>11363.897133</td>\n",
              "    </tr>\n",
              "    <tr>\n",
              "      <th>std</th>\n",
              "      <td>17634.280375</td>\n",
              "    </tr>\n",
              "    <tr>\n",
              "      <th>min</th>\n",
              "      <td>1.000000</td>\n",
              "    </tr>\n",
              "    <tr>\n",
              "      <th>25%</th>\n",
              "      <td>132.000000</td>\n",
              "    </tr>\n",
              "    <tr>\n",
              "      <th>50%</th>\n",
              "      <td>817.000000</td>\n",
              "    </tr>\n",
              "    <tr>\n",
              "      <th>75%</th>\n",
              "      <td>41358.000000</td>\n",
              "    </tr>\n",
              "    <tr>\n",
              "      <th>max</th>\n",
              "      <td>41358.000000</td>\n",
              "    </tr>\n",
              "  </tbody>\n",
              "</table>\n",
              "</div>"
            ],
            "text/plain": [
              "       quotationCounts\n",
              "count    161675.000000\n",
              "mean      11363.897133\n",
              "std       17634.280375\n",
              "min           1.000000\n",
              "25%         132.000000\n",
              "50%         817.000000\n",
              "75%       41358.000000\n",
              "max       41358.000000"
            ]
          },
          "metadata": {},
          "execution_count": 79
        }
      ]
    },
    {
      "cell_type": "code",
      "metadata": {
        "colab": {
          "base_uri": "https://localhost:8080/"
        },
        "id": "Wo0zPHBjJpoz",
        "outputId": "1e32f95b-3b1e-41d6-b7c6-577c61c9b37b"
      },
      "source": [
        "female_male_quotes_fraction_repub = len(repub_females)/len(republicans_df)*100\n",
        "print(f'only {female_male_quotes_fraction_repub:.2f} % of the republican quotes are delivered from women')"
      ],
      "id": "Wo0zPHBjJpoz",
      "execution_count": null,
      "outputs": [
        {
          "output_type": "stream",
          "name": "stdout",
          "text": [
            "only 13.76 % of the republican quotes are delivered from women\n"
          ]
        }
      ]
    },
    {
      "cell_type": "code",
      "metadata": {
        "id": "xPTDqFZRUvoh"
      },
      "source": [
        "#let's do the same analysis with the democrats\n",
        "democrats_females = democrats_df[democrats_df['gender'].str[0] == female_qid ]\n",
        "democrats_females"
      ],
      "id": "xPTDqFZRUvoh",
      "execution_count": null,
      "outputs": []
    },
    {
      "cell_type": "code",
      "metadata": {
        "id": "-ifnF1PmJ82_"
      },
      "source": [
        "democrats_males = democrats_df[democrats_df['gender'].str[0] == male_qid ]\n",
        "democrats_males"
      ],
      "id": "-ifnF1PmJ82_",
      "execution_count": null,
      "outputs": []
    },
    {
      "cell_type": "markdown",
      "metadata": {
        "id": "9W4MPhqkLtIa"
      },
      "source": [
        ""
      ],
      "id": "9W4MPhqkLtIa"
    },
    {
      "cell_type": "code",
      "metadata": {
        "colab": {
          "base_uri": "https://localhost:8080/"
        },
        "id": "wxhk-c6JLYLN",
        "outputId": "035012ec-3b5e-4de2-cccf-e72db49f3f86"
      },
      "source": [
        "female_male_quotes_fraction_demo = len(democrats_females)/len(democrats_df)*100\n",
        "print(f' {female_male_quotes_fraction_demo:.2f} % of the democrats quotes are delivered from women')"
      ],
      "id": "wxhk-c6JLYLN",
      "execution_count": null,
      "outputs": [
        {
          "output_type": "stream",
          "name": "stdout",
          "text": [
            " 33.69 % of the democrats quotes are delivered from women\n"
          ]
        }
      ]
    },
    {
      "cell_type": "code",
      "metadata": {
        "id": "IDXn_OdKRZQ5"
      },
      "source": [
        "n_quotes_female_per_qid_demo = democrats_females.groupby(['qids'])['quotationCounts'].mean()\n",
        "n_quotes_female_per_qid_repub = repub_females.groupby(['qids'])['quotationCounts'].mean()\n",
        "n_quotes_male_per_qid_demo = democrats_males.groupby(['qids'])['quotationCounts'].mean()\n",
        "n_quotes_male_per_qid_repub = repub_males.groupby(['qids'])['quotationCounts'].mean()"
      ],
      "id": "IDXn_OdKRZQ5",
      "execution_count": null,
      "outputs": []
    },
    {
      "cell_type": "code",
      "metadata": {
        "colab": {
          "base_uri": "https://localhost:8080/"
        },
        "id": "zo1VVFecVB42",
        "outputId": "2bc8454e-c277-42be-db66-63855cf9eccb"
      },
      "source": [
        "n_quotes_female_per_qid_demo.describe()"
      ],
      "id": "zo1VVFecVB42",
      "execution_count": null,
      "outputs": [
        {
          "output_type": "execute_result",
          "data": {
            "text/plain": [
              "count    1442.000000\n",
              "mean       53.625520\n",
              "std       290.176423\n",
              "min         1.000000\n",
              "25%         3.000000\n",
              "50%         9.000000\n",
              "75%        29.000000\n",
              "max      7672.000000\n",
              "Name: quotationCounts, dtype: float64"
            ]
          },
          "metadata": {},
          "execution_count": 86
        }
      ]
    },
    {
      "cell_type": "code",
      "metadata": {
        "colab": {
          "base_uri": "https://localhost:8080/"
        },
        "id": "T5N_HY30VUkB",
        "outputId": "b9eca051-193e-495e-bd71-10e51ee5e0d2"
      },
      "source": [
        "n_quotes_female_per_qid_repub.describe()"
      ],
      "id": "T5N_HY30VUkB",
      "execution_count": null,
      "outputs": [
        {
          "output_type": "execute_result",
          "data": {
            "text/plain": [
              "count     730.000000\n",
              "mean       35.402740\n",
              "std       119.298151\n",
              "min         1.000000\n",
              "25%         2.000000\n",
              "50%         7.000000\n",
              "75%        20.000000\n",
              "max      1432.000000\n",
              "Name: quotationCounts, dtype: float64"
            ]
          },
          "metadata": {},
          "execution_count": 87
        }
      ]
    },
    {
      "cell_type": "code",
      "metadata": {
        "colab": {
          "base_uri": "https://localhost:8080/",
          "height": 729
        },
        "id": "w7WB7OT7Qi2g",
        "outputId": "7b21c050-69de-47c8-e726-266e8de55307"
      },
      "source": [
        "ax = sns.distplot(np.log10(n_quotes_female_per_qid_demo), hist=True, label='women democrats');\n",
        "ax = sns.distplot(np.log10(n_quotes_female_per_qid_repub), hist=True, label='women republicans')\n",
        "ax.set(title='Quotations per Speaker women (Republican/democrats)',xlabel='log 10 number of quotes', ylabel='speakers density')\n",
        "plt.legend()\n",
        "plt.show()\n",
        "\n",
        "ax2 = sns.distplot(np.log10(n_quotes_male_per_qid_demo), hist=True, label='men democrats');\n",
        "ax2 = sns.distplot(np.log10(n_quotes_male_per_qid_repub), hist=True, label='men republicans')\n",
        "ax2.set(title='Quotations per Speaker men (Republican/democrats)',xlabel='log 10 number of quotes', ylabel='speakers density')\n",
        "plt.legend()\n",
        "plt.show()"
      ],
      "id": "w7WB7OT7Qi2g",
      "execution_count": null,
      "outputs": [
        {
          "output_type": "stream",
          "name": "stderr",
          "text": [
            "/usr/local/lib/python3.7/dist-packages/seaborn/distributions.py:2619: FutureWarning: `distplot` is a deprecated function and will be removed in a future version. Please adapt your code to use either `displot` (a figure-level function with similar flexibility) or `histplot` (an axes-level function for histograms).\n",
            "  warnings.warn(msg, FutureWarning)\n",
            "/usr/local/lib/python3.7/dist-packages/seaborn/distributions.py:2619: FutureWarning: `distplot` is a deprecated function and will be removed in a future version. Please adapt your code to use either `displot` (a figure-level function with similar flexibility) or `histplot` (an axes-level function for histograms).\n",
            "  warnings.warn(msg, FutureWarning)\n"
          ]
        },
        {
          "output_type": "display_data",
          "data": {
            "image/png": "[encoded data removed]",
            "text/plain": [
              "<Figure size 432x288 with 1 Axes>"
            ]
          },
          "metadata": {
            "needs_background": "light"
          }
        },
        {
          "output_type": "stream",
          "name": "stderr",
          "text": [
            "/usr/local/lib/python3.7/dist-packages/seaborn/distributions.py:2619: FutureWarning: `distplot` is a deprecated function and will be removed in a future version. Please adapt your code to use either `displot` (a figure-level function with similar flexibility) or `histplot` (an axes-level function for histograms).\n",
            "  warnings.warn(msg, FutureWarning)\n",
            "/usr/local/lib/python3.7/dist-packages/seaborn/distributions.py:2619: FutureWarning: `distplot` is a deprecated function and will be removed in a future version. Please adapt your code to use either `displot` (a figure-level function with similar flexibility) or `histplot` (an axes-level function for histograms).\n",
            "  warnings.warn(msg, FutureWarning)\n"
          ]
        },
        {
          "output_type": "display_data",
          "data": {
            "image/png": "[encoded data removed]",
            "text/plain": [
              "<Figure size 432x288 with 1 Axes>"
            ]
          },
          "metadata": {
            "needs_background": "light"
          }
        }
      ]
    },
    {
      "cell_type": "code",
      "metadata": {
        "colab": {
          "base_uri": "https://localhost:8080/",
          "height": 729
        },
        "id": "Dda2OD-IR7fm",
        "outputId": "8b04864c-38e7-4de9-98c7-2d503f3dba08"
      },
      "source": [
        "ax = sns.distplot(np.log10(n_quotes_male_per_qid_repub), hist=True, label='men republicans');\n",
        "axes = sns.distplot(np.log10(n_quotes_female_per_qid_repub), hist=True, label='women republicans')\n",
        "ax.set(title='Quotations per Speaker Republican (Women/Men)',xlabel='log 10 number of quotes', ylabel='speakers density')\n",
        "plt.legend()\n",
        "plt.show()\n",
        "ax2 = sns.distplot(np.log10(n_quotes_male_per_qid_demo), hist=True, label='men democrats');\n",
        "ax2 = sns.distplot(np.log10(n_quotes_female_per_qid_demo), hist=True, label='women democrats')\n",
        "ax2.set(title='Quotations per Speaker Democrats (Women/Men)',xlabel='log 10 number of quotes', ylabel='speakers density')\n",
        "plt.legend()\n",
        "plt.show()"
      ],
      "id": "Dda2OD-IR7fm",
      "execution_count": null,
      "outputs": [
        {
          "output_type": "stream",
          "name": "stderr",
          "text": [
            "/usr/local/lib/python3.7/dist-packages/seaborn/distributions.py:2619: FutureWarning: `distplot` is a deprecated function and will be removed in a future version. Please adapt your code to use either `displot` (a figure-level function with similar flexibility) or `histplot` (an axes-level function for histograms).\n",
            "  warnings.warn(msg, FutureWarning)\n",
            "/usr/local/lib/python3.7/dist-packages/seaborn/distributions.py:2619: FutureWarning: `distplot` is a deprecated function and will be removed in a future version. Please adapt your code to use either `displot` (a figure-level function with similar flexibility) or `histplot` (an axes-level function for histograms).\n",
            "  warnings.warn(msg, FutureWarning)\n"
          ]
        },
        {
          "output_type": "display_data",
          "data": {
            "image/png": "[encoded data removed]",
            "text/plain": [
              "<Figure size 432x288 with 1 Axes>"
            ]
          },
          "metadata": {
            "needs_background": "light"
          }
        },
        {
          "output_type": "stream",
          "name": "stderr",
          "text": [
            "/usr/local/lib/python3.7/dist-packages/seaborn/distributions.py:2619: FutureWarning: `distplot` is a deprecated function and will be removed in a future version. Please adapt your code to use either `displot` (a figure-level function with similar flexibility) or `histplot` (an axes-level function for histograms).\n",
            "  warnings.warn(msg, FutureWarning)\n",
            "/usr/local/lib/python3.7/dist-packages/seaborn/distributions.py:2619: FutureWarning: `distplot` is a deprecated function and will be removed in a future version. Please adapt your code to use either `displot` (a figure-level function with similar flexibility) or `histplot` (an axes-level function for histograms).\n",
            "  warnings.warn(msg, FutureWarning)\n"
          ]
        },
        {
          "output_type": "display_data",
          "data": {
            "image/png": "[encoded data removed]",
            "text/plain": [
              "<Figure size 432x288 with 1 Axes>"
            ]
          },
          "metadata": {
            "needs_background": "light"
          }
        }
      ]
    },
    {
      "cell_type": "markdown",
      "metadata": {
        "id": "EZyPIvuhe9o0"
      },
      "source": [
        "# extract information from qid"
      ],
      "id": "EZyPIvuhe9o0"
    },
    {
      "cell_type": "code",
      "metadata": {
        "id": "BfAHaniUaAXe"
      },
      "source": [
        "#extract information from qid\n",
        "def extract_value_from_qid(qid):\n",
        "  '''\n",
        "  qid = string\n",
        "  '''\n",
        "  q_dict = get_entity_dict_from_api(qid)\n",
        "  return q_dict['aliases']['en'][0]['value']"
      ],
      "id": "BfAHaniUaAXe",
      "execution_count": null,
      "outputs": []
    },
    {
      "cell_type": "code",
      "metadata": {
        "colab": {
          "base_uri": "https://localhost:8080/",
          "height": 37
        },
        "id": "d-m374-obD1Y",
        "outputId": "5a899d9e-797c-4055-f571-0abd93f40821"
      },
      "source": [
        "extract_value_from_qid(female_qid)"
      ],
      "id": "d-m374-obD1Y",
      "execution_count": null,
      "outputs": [
        {
          "output_type": "execute_result",
          "data": {
            "application/vnd.google.colaboratory.intrinsic+json": {
              "type": "string"
            },
            "text/plain": [
              "'woman'"
            ]
          },
          "metadata": {},
          "execution_count": 108
        }
      ]
    },
    {
      "cell_type": "markdown",
      "metadata": {
        "id": "fhbgcmXIfEIU"
      },
      "source": [
        "# Handle the quotes"
      ],
      "id": "fhbgcmXIfEIU"
    },
    {
      "cell_type": "code",
      "metadata": {
        "colab": {
          "base_uri": "https://localhost:8080/"
        },
        "id": "W6PczdkXehKR",
        "outputId": "846706c2-3482-406b-ecfb-84523fc3251e"
      },
      "source": [
        "from nltk.stem import PorterStemmer, WordNetLemmatizer\n",
        "import nltk\n",
        "from sklearn.feature_extraction.text import CountVectorizer, TfidfVectorizer\n",
        "from sklearn.metrics.pairwise import linear_kernel\n",
        "import string\n",
        "from nltk.corpus import stopwords\n",
        "import math\n",
        "from collections import Counter\n",
        "import numpy as np\n",
        "nltk.download('stopwords')\n",
        "nltk.download('punkt')\n",
        "\n",
        "stemmer = PorterStemmer()\n",
        "\n",
        "# Tokenize, stem a document\n",
        "def tokenize(text):\n",
        "    text = \"\".join([ch for ch in text if ch not in string.punctuation])\n",
        "    tokens = nltk.word_tokenize(text)\n",
        "    return \" \".join([stemmer.stem(word.lower()) for word in tokens])\n"
      ],
      "id": "W6PczdkXehKR",
      "execution_count": null,
      "outputs": [
        {
          "output_type": "stream",
          "name": "stdout",
          "text": [
            "[nltk_data] Downloading package stopwords to /root/nltk_data...\n",
            "[nltk_data]   Package stopwords is already up-to-date!\n",
            "[nltk_data] Downloading package punkt to /root/nltk_data...\n",
            "[nltk_data]   Package punkt is already up-to-date!\n"
          ]
        }
      ]
    },
    {
      "cell_type": "code",
      "metadata": {
        "colab": {
          "base_uri": "https://localhost:8080/",
          "height": 198
        },
        "id": "O236FopCgAns",
        "outputId": "668b98e0-989a-430c-b381-005287edafa7"
      },
      "source": [
        "content = df['quotation'] #quotations\n",
        "original_documents = [x.strip() for x in content] \n",
        "documents = [tokenize(d).split() for d in original_documents]\n",
        "docs_n_doc_ids = list(zip(range(len(documents)), documents))\n"
      ],
      "id": "O236FopCgAns",
      "execution_count": null,
      "outputs": [
        {
          "output_type": "error",
          "ename": "NameError",
          "evalue": "ignored",
          "traceback": [
            "\u001b[0;31m---------------------------------------------------------------------------\u001b[0m",
            "\u001b[0;31mNameError\u001b[0m                                 Traceback (most recent call last)",
            "\u001b[0;32m<ipython-input-147-c793962ef866>\u001b[0m in \u001b[0;36m<module>\u001b[0;34m()\u001b[0m\n\u001b[1;32m      3\u001b[0m \u001b[0mdocuments\u001b[0m \u001b[0;34m=\u001b[0m \u001b[0;34m[\u001b[0m\u001b[0mtokenize\u001b[0m\u001b[0;34m(\u001b[0m\u001b[0md\u001b[0m\u001b[0;34m)\u001b[0m\u001b[0;34m.\u001b[0m\u001b[0msplit\u001b[0m\u001b[0;34m(\u001b[0m\u001b[0;34m)\u001b[0m \u001b[0;32mfor\u001b[0m \u001b[0md\u001b[0m \u001b[0;32min\u001b[0m \u001b[0moriginal_documents\u001b[0m\u001b[0;34m]\u001b[0m\u001b[0;34m\u001b[0m\u001b[0;34m\u001b[0m\u001b[0m\n\u001b[1;32m      4\u001b[0m \u001b[0mdocs_n_doc_ids\u001b[0m \u001b[0;34m=\u001b[0m \u001b[0mlist\u001b[0m\u001b[0;34m(\u001b[0m\u001b[0mzip\u001b[0m\u001b[0;34m(\u001b[0m\u001b[0mrange\u001b[0m\u001b[0;34m(\u001b[0m\u001b[0mlen\u001b[0m\u001b[0;34m(\u001b[0m\u001b[0mdocuments\u001b[0m\u001b[0;34m)\u001b[0m\u001b[0;34m)\u001b[0m\u001b[0;34m,\u001b[0m \u001b[0mdocuments\u001b[0m\u001b[0;34m)\u001b[0m\u001b[0;34m)\u001b[0m\u001b[0;34m\u001b[0m\u001b[0;34m\u001b[0m\u001b[0m\n\u001b[0;32m----> 5\u001b[0;31m \u001b[0mco\u001b[0m\u001b[0;34m\u001b[0m\u001b[0;34m\u001b[0m\u001b[0m\n\u001b[0m",
            "\u001b[0;31mNameError\u001b[0m: name 'co' is not defined"
          ]
        }
      ]
    },
    {
      "cell_type": "code",
      "metadata": {
        "id": "8KPk7lqMgT8_"
      },
      "source": [
        "original_documents"
      ],
      "id": "8KPk7lqMgT8_",
      "execution_count": null,
      "outputs": []
    },
    {
      "cell_type": "code",
      "metadata": {
        "id": "1tzhAOaUgX0P"
      },
      "source": [
        "documents"
      ],
      "id": "1tzhAOaUgX0P",
      "execution_count": null,
      "outputs": []
    },
    {
      "cell_type": "code",
      "metadata": {
        "id": "6ytL6rf4gm_U"
      },
      "source": [
        "docs_n_doc_ids"
      ],
      "id": "6ytL6rf4gm_U",
      "execution_count": null,
      "outputs": []
    },
    {
      "cell_type": "code",
      "metadata": {
        "id": "DeT_jq6esbT8"
      },
      "source": [
        "# create the vocabulary\n",
        "vocabulary = set([item for sublist in documents for item in sublist])\n",
        "vocabulary = [word for word in vocabulary if word not in stopwords.words('english')]\n",
        "vocabulary.sort()"
      ],
      "id": "DeT_jq6esbT8",
      "execution_count": null,
      "outputs": []
    },
    {
      "cell_type": "code",
      "metadata": {
        "id": "H2Um7BDDsQgc"
      },
      "source": [
        "# compute IDF, storing idf values in a dictionary\n",
        "def idf_values(vocabulary, documents):\n",
        "    idf = {}\n",
        "    num_documents = len(documents)\n",
        "    for i, term in enumerate(vocabulary):\n",
        "        idf[term] = math.log(num_documents/sum(term in document for document in documents), math.e)\n",
        "    return idf\n",
        "\n",
        "# Function to generate the vector for a document (with normalisation)\n",
        "def vectorize(document, vocabulary, idf):\n",
        "    vector = [0]*len(vocabulary)\n",
        "    counts = Counter(document)\n",
        "    max_count = counts.most_common(1)[0][1]\n",
        "    for i,term in enumerate(vocabulary):\n",
        "        vector[i] = idf[term] * counts[term]/max_count\n",
        "    return vector\n",
        "\n",
        "# Function to compute cosine similarity\n",
        "def cosine_similarity(v1,v2):\n",
        "    sumxx, sumxy, sumyy = 0, 0, 0\n",
        "    for i in range(len(v1)):\n",
        "        x = v1[i]; y = v2[i]\n",
        "        sumxx += x*x\n",
        "        sumyy += y*y\n",
        "        sumxy += x*y\n",
        "    if sumxy == 0:\n",
        "            result = 0\n",
        "    else:\n",
        "            result = sumxy/math.sqrt(sumxx*sumyy)\n",
        "    return result\n",
        "\n",
        "def vectorize_query(query, vocabulary, idf):\n",
        "    q = query.split()\n",
        "    q = [stemmer.stem(w) for w in q]\n",
        "    query_vector = vectorize(q, vocabulary, idf)\n",
        "    return query_vector\n",
        "    \n",
        "def search_vec(query, k):\n",
        "    query_vector = vectorize_query(query, vocabulary, idf)\n",
        "    scores = [[cosine_similarity(query_vector, document_vectors[d]), d] for d in range(len(documents))]\n",
        "    scores.sort(key=lambda x: -x[0])\n",
        "    ans = []\n",
        "    indices = []\n",
        "    for i in range(min(k,len(original_documents))):\n",
        "        ans.append(original_documents[scores[i][1]])\n",
        "        indices.append(scores[i][1])\n",
        "    return ans, indices, query_vector\n",
        "\n",
        "# Compute IDF values and vectors\n",
        "idf = idf_values(vocabulary, documents)\n",
        "document_vectors = [vectorize(s, vocabulary, idf) for s in documents]"
      ],
      "id": "H2Um7BDDsQgc",
      "execution_count": null,
      "outputs": []
    },
    {
      "cell_type": "code",
      "metadata": {
        "id": "hbbAd3Uwskzv"
      },
      "source": [
        "import operator\n",
        "\n",
        "doc_vecs = np.transpose(np.array(document_vectors))\n",
        "h = {}\n",
        "for i, term in enumerate(vocabulary):\n",
        "    ha = {}\n",
        "    for docj in range(len(original_documents)):\n",
        "        tfidf = doc_vecs[i][docj]\n",
        "        ha[docj] = tfidf\n",
        "    sorted_ha = sorted(ha.items(), key=operator.itemgetter(1), reverse=True)\n",
        "    h[term] = sorted_ha"
      ],
      "id": "hbbAd3Uwskzv",
      "execution_count": null,
      "outputs": []
    },
    {
      "cell_type": "code",
      "metadata": {
        "id": "UdPAg1u8tciy"
      },
      "source": [
        "def fagin_algorithm(query, h, k, vocabulary):\n",
        "    \n",
        "    # Split and stem the query\n",
        "    q = query.split()\n",
        "    q = set([stemmer.stem(w) for w in q])\n",
        "    query_term_cnt = len(q)\n",
        "    \n",
        "    # select the posting lists for the query terms\n",
        "    posting_lists = {}\n",
        "    for term in q:\n",
        "        if term in h:\n",
        "            posting_lists[term] = h[term]\n",
        "    \n",
        "    max_len = len(documents)\n",
        "    \n",
        "    # Traverse the selected posting lists until we found k documents that appear in ALL posting lists\n",
        "    # This corresponds to phase 1 of Fagin's algorithm.\n",
        "    # As a result you produce a dictionary documents_occurrences, with the document identifiers as keys, \n",
        "    # and the number of documents found as value.\n",
        "    # We stop traversing the posting lists until we have found k documents that appear in ALL posting lists \n",
        "    # of the query terms\n",
        "\n",
        "    documents_occurrences = {}\n",
        "    l = 0\n",
        "    found_documents = 0\n",
        "    while l < max_len:\n",
        "        for term in q:\n",
        "            d  = posting_lists[term][l][0]\n",
        "            if d in documents_occurrences.keys():\n",
        "                documents_occurrences[d] = documents_occurrences[d]+1\n",
        "            else:\n",
        "                documents_occurrences[d] = 1\n",
        "            if documents_occurrences[d] == query_term_cnt:\n",
        "                found_documents = found_documents + 1\n",
        "        if found_documents == k:\n",
        "            l = max_len + 1\n",
        "            break\n",
        "        else:\n",
        "            l = l+1\n",
        "                \n",
        "    print(documents_occurrences)\n",
        "        \n",
        "    # Retrieve for the found documents the tfidf values and add them up.\n",
        "    # For simplicity, we do not distinguish the cases whether the values have already been retrieved in the \n",
        "    # previous phase, or whether we use random access to obtain those values\n",
        "    \n",
        "    tfidf = {}\n",
        "    for d in documents_occurrences.keys():\n",
        "        t = 0\n",
        "        for term in q:\n",
        "            t = t + dict(posting_lists[term])[d]\n",
        "        tfidf[d] = t\n",
        "        \n",
        "    # Finally we compute the top-k documents and return the answer\n",
        "    \n",
        "    ans = sorted(tfidf.items(), key=lambda x:x[1], reverse = True)[:k]\n",
        "    return ans"
      ],
      "id": "UdPAg1u8tciy",
      "execution_count": null,
      "outputs": []
    },
    {
      "cell_type": "code",
      "metadata": {
        "colab": {
          "base_uri": "https://localhost:8080/"
        },
        "id": "93EOisqht4CI",
        "outputId": "ed94971e-3d1c-4623-f34b-9092a3b48914"
      },
      "source": [
        "ans = fagin_algorithm(\"police\", h, 2, vocabulary)\n",
        "print(ans)\n",
        "for document_id in ans:\n",
        "    print(original_documents[document_id[0]])"
      ],
      "id": "93EOisqht4CI",
      "execution_count": null,
      "outputs": [
        {
          "output_type": "stream",
          "name": "stdout",
          "text": [
            "{1: 1, 0: 1}\n",
            "[(1, 1.6094379124341003), (0, 0.0)]\n",
            "cancel contracts to train Saudi police and other security forces in U.S. counterterrorism tactics.\n",
            "[ Department of Homeland Security ] was livid and strongly urged to have the agenda pulled.\n"
          ]
        }
      ]
    },
    {
      "cell_type": "markdown",
      "metadata": {
        "id": "yoMksPR-ioGp"
      },
      "source": [
        "# Generate Embeddings"
      ],
      "id": "yoMksPR-ioGp"
    }
  ]
}