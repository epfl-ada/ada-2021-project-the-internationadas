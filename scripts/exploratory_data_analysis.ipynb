{
  "nbformat": 4,
  "nbformat_minor": 0,
  "metadata": {
    "colab": {
      "name": "exploratory_data_analysis.ipynb",
      "provenance": [],
      "collapsed_sections": []
    },
    "kernelspec": {
      "name": "python3",
      "display_name": "Python 3"
    },
    "language_info": {
      "name": "python"
    }
  },
  "cells": [
    {
      "cell_type": "code",
      "execution_count": 1,
      "metadata": {
        "colab": {
          "base_uri": "https://localhost:8080/"
        },
        "id": "k8Ngtbp5a8V2",
        "outputId": "212c0b46-ff92-47b5-def4-a00ba4fc01d6"
      },
      "outputs": [
        {
          "output_type": "stream",
          "name": "stdout",
          "text": [
            "Drive already mounted at /content/drive; to attempt to forcibly remount, call drive.mount(\"/content/drive\", force_remount=True).\n"
          ]
        }
      ],
      "source": [
        "from google.colab import drive\n",
        "drive.mount('/content/drive')"
      ]
    },
    {
      "cell_type": "code",
      "source": [
        "!pip install pandas==1.3.1\n",
        "!pip install qwikidata"
      ],
      "metadata": {
        "colab": {
          "base_uri": "https://localhost:8080/"
        },
        "id": "ZprYljOSbP_z",
        "outputId": "12a968e1-ee6e-4a4b-f106-416cb64172d5"
      },
      "execution_count": 2,
      "outputs": [
        {
          "output_type": "stream",
          "name": "stdout",
          "text": [
            "Requirement already satisfied: pandas==1.3.1 in /usr/local/lib/python3.7/dist-packages (1.3.1)\n",
            "Requirement already satisfied: pytz>=2017.3 in /usr/local/lib/python3.7/dist-packages (from pandas==1.3.1) (2018.9)\n",
            "Requirement already satisfied: numpy>=1.17.3 in /usr/local/lib/python3.7/dist-packages (from pandas==1.3.1) (1.19.5)\n",
            "Requirement already satisfied: python-dateutil>=2.7.3 in /usr/local/lib/python3.7/dist-packages (from pandas==1.3.1) (2.8.2)\n",
            "Requirement already satisfied: six>=1.5 in /usr/local/lib/python3.7/dist-packages (from python-dateutil>=2.7.3->pandas==1.3.1) (1.15.0)\n",
            "Requirement already satisfied: qwikidata in /usr/local/lib/python3.7/dist-packages (0.4.0)\n",
            "Requirement already satisfied: requests in /usr/local/lib/python3.7/dist-packages (from qwikidata) (2.23.0)\n",
            "Requirement already satisfied: mypy-extensions in /usr/local/lib/python3.7/dist-packages (from qwikidata) (0.4.3)\n",
            "Requirement already satisfied: idna<3,>=2.5 in /usr/local/lib/python3.7/dist-packages (from requests->qwikidata) (2.10)\n",
            "Requirement already satisfied: chardet<4,>=3.0.2 in /usr/local/lib/python3.7/dist-packages (from requests->qwikidata) (3.0.4)\n",
            "Requirement already satisfied: certifi>=2017.4.17 in /usr/local/lib/python3.7/dist-packages (from requests->qwikidata) (2021.10.8)\n",
            "Requirement already satisfied: urllib3!=1.25.0,!=1.25.1,<1.26,>=1.21.1 in /usr/local/lib/python3.7/dist-packages (from requests->qwikidata) (1.24.3)\n"
          ]
        }
      ]
    },
    {
      "cell_type": "code",
      "source": [
        "# import warnings; warnings.simplefilter('ignore')\n",
        "import os, codecs, string, random\n",
        "import bz2\n",
        "import json\n",
        "import pandas as pd\n",
        "import numpy as np\n",
        "import seaborn as sns\n",
        "import matplotlib.pyplot as plt\n",
        "import re\n",
        "# import scipy.stats as stats\n",
        "from qwikidata.linked_data_interface import get_entity_dict_from_api\n",
        "\n",
        "seed = 42\n",
        "random.seed(seed)\n",
        "np.random.seed(seed)"
      ],
      "metadata": {
        "id": "w5zzHrzvbUbd"
      },
      "execution_count": 3,
      "outputs": []
    },
    {
      "cell_type": "markdown",
      "source": [
        "## **Load and Merge Preprocessed Data Into Single Dataframe**\n",
        "The first step is to merge together all different parquet files from different year in a single dataframe. It will allow to work easily on it, and perform the entire analysis.<br>\n",
        "After an initial analysis on the preprocessed data, it was noticed that further filtering operations were needed. All were performed in the same function loading the data, and are the following:\n",
        "- drop quotations of politicians who switched parties during the time frame (about 14,11%). Considering them would have meant integrating also the time frame related to each political party \"phase\" (not necessary for our analysis);\n",
        "- drop quotation with an unordered probability list (0,00092%);\n",
        "- remove entries with speaker maximum probability < 0.6, in order to reduce uncertainty. This value could be changed in the future, depending on the analysis results."
      ],
      "metadata": {
        "id": "CjTRjtmrb8n5"
      }
    },
    {
      "cell_type": "code",
      "source": [
        "file_path_2020 = '/content/drive/MyDrive/Quotebank_Repub_Dem/new-quotes-2020-repub-dem.parquet'\n",
        "file_path_2019 = '/content/drive/MyDrive/Quotebank_Repub_Dem/new-quotes-2019-repub-dem.parquet'\n",
        "file_path_2018 = '/content/drive/MyDrive/Quotebank_Repub_Dem/new-quotes-2018-repub-dem.parquet'\n",
        "file_path_2017 = '/content/drive/MyDrive/Quotebank_Repub_Dem/new-quotes-2017-repub-dem.parquet'\n",
        "file_path_2016 = '/content/drive/MyDrive/Quotebank_Repub_Dem/new-quotes-2016-repub-dem.parquet'\n",
        "file_path_2015 = '/content/drive/MyDrive/Quotebank_Repub_Dem/new-quotes-2015-repub-dem.parquet'\n",
        "file_path_final = '/content/drive/MyDrive/Quotebank_Repub_Dem/new-quotes-final-repub-dem.parquet'\n",
        "\n",
        "prob_threshold = 0.6\n",
        "\n",
        "# load preprocessed data and merge them in a single dataframe\n",
        "def load_and_merge():\n",
        "  # load\n",
        "  df_20 = pd.read_parquet(file_path_2020)\n",
        "  df_19 = pd.read_parquet(file_path_2019)\n",
        "  df_18 = pd.read_parquet(file_path_2018)\n",
        "  df_17 = pd.read_parquet(file_path_2017)\n",
        "  df_16 = pd.read_parquet(file_path_2016)\n",
        "  df_15 = pd.read_parquet(file_path_2015)\n",
        "\n",
        "  # merge into single dataframe\n",
        "  df = pd.concat([df_20, df_19, df_18, df_17, df_16, df_15], ignore_index=True)\n",
        "\n",
        "  # delete unused variables for garbage collector\n",
        "  del df_20\n",
        "  del df_19\n",
        "  del df_18\n",
        "  del df_17\n",
        "  del df_16\n",
        "  del df_15\n",
        "\n",
        "  # remove entries with more then 1 party\n",
        "  df = df[df[\"party\"].apply(len) == 1]\n",
        "\n",
        "  # remove entries where the speaker with maximum probability is not the first in the list\n",
        "  max_prob_speaker = df['probas'].apply(lambda x: x[0][0])\n",
        "  df['max_prob_speaker'] = max_prob_speaker\n",
        "  df = df[df[\"speaker\"] == df['max_prob_speaker']]\n",
        "\n",
        "  # remove entries with best speaker probability less the 0.6\n",
        "  max_probas = df['probas'].apply(lambda x: x[0][1])\n",
        "  df['max_probas'] = max_probas.astype(float)\n",
        "  df = df[df[\"max_probas\"] > prob_threshold]\n",
        "\n",
        "  # remove added columns\n",
        "  #df = df.drop([\"max_probas\", \"max_prob_speaker\"], axis=1)\n",
        "\n",
        "  return df\n",
        "\n",
        "# Load and merge into a single dataframe\n",
        "df = load_and_merge()\n",
        "df"
      ],
      "metadata": {
        "colab": {
          "base_uri": "https://localhost:8080/",
          "height": 597
        },
        "id": "QzLyWEv_b81l",
        "outputId": "1cd04fbb-87bb-43ce-dd55-7efdc3ab0005"
      },
      "execution_count": 4,
      "outputs": [
        {
          "output_type": "execute_result",
          "data": {
            "text/html": [
              "<div>\n",
              "<style scoped>\n",
              "    .dataframe tbody tr th:only-of-type {\n",
              "        vertical-align: middle;\n",
              "    }\n",
              "\n",
              "    .dataframe tbody tr th {\n",
              "        vertical-align: top;\n",
              "    }\n",
              "\n",
              "    .dataframe thead th {\n",
              "        text-align: right;\n",
              "    }\n",
              "</style>\n",
              "<table border=\"1\" class=\"dataframe\">\n",
              "  <thead>\n",
              "    <tr style=\"text-align: right;\">\n",
              "      <th></th>\n",
              "      <th>quoteID</th>\n",
              "      <th>quotation</th>\n",
              "      <th>speaker</th>\n",
              "      <th>qids</th>\n",
              "      <th>probas</th>\n",
              "      <th>gender</th>\n",
              "      <th>occupation</th>\n",
              "      <th>party</th>\n",
              "      <th>max_prob_speaker</th>\n",
              "      <th>max_probas</th>\n",
              "    </tr>\n",
              "  </thead>\n",
              "  <tbody>\n",
              "    <tr>\n",
              "      <th>0</th>\n",
              "      <td>2020-01-16-000088</td>\n",
              "      <td>[ Department of Homeland Security ] was livid ...</td>\n",
              "      <td>Sue Myrick</td>\n",
              "      <td>Q367796</td>\n",
              "      <td>[[Sue Myrick, 0.8867], [None, 0.0992], [Ron Wy...</td>\n",
              "      <td>[Q6581072]</td>\n",
              "      <td>[Q82955]</td>\n",
              "      <td>[Q29468]</td>\n",
              "      <td>Sue Myrick</td>\n",
              "      <td>0.8867</td>\n",
              "    </tr>\n",
              "    <tr>\n",
              "      <th>9</th>\n",
              "      <td>2020-01-26-000499</td>\n",
              "      <td>a few of the candidates who will do better in ...</td>\n",
              "      <td>Dave Loebsack</td>\n",
              "      <td>Q771586</td>\n",
              "      <td>[[Dave Loebsack, 0.9011], [None, 0.0949], [Joe...</td>\n",
              "      <td>[Q6581097]</td>\n",
              "      <td>[Q82955, Q1622272, Q1238570]</td>\n",
              "      <td>[Q29552]</td>\n",
              "      <td>Dave Loebsack</td>\n",
              "      <td>0.9011</td>\n",
              "    </tr>\n",
              "    <tr>\n",
              "      <th>10</th>\n",
              "      <td>2020-01-26-040663</td>\n",
              "      <td>The generational thing is important, quite hon...</td>\n",
              "      <td>Dave Loebsack</td>\n",
              "      <td>Q771586</td>\n",
              "      <td>[[Dave Loebsack, 0.7419], [None, 0.2133], [Pet...</td>\n",
              "      <td>[Q6581097]</td>\n",
              "      <td>[Q82955, Q1622272, Q1238570]</td>\n",
              "      <td>[Q29552]</td>\n",
              "      <td>Dave Loebsack</td>\n",
              "      <td>0.7419</td>\n",
              "    </tr>\n",
              "    <tr>\n",
              "      <th>12</th>\n",
              "      <td>2020-01-09-060095</td>\n",
              "      <td>No, are you kidding? The way that this place l...</td>\n",
              "      <td>Debbie Lesko</td>\n",
              "      <td>Q16731415</td>\n",
              "      <td>[[Debbie Lesko, 0.7444], [None, 0.2323], [Pres...</td>\n",
              "      <td>[Q6581072]</td>\n",
              "      <td>[Q82955]</td>\n",
              "      <td>[Q29468]</td>\n",
              "      <td>Debbie Lesko</td>\n",
              "      <td>0.7444</td>\n",
              "    </tr>\n",
              "    <tr>\n",
              "      <th>14</th>\n",
              "      <td>2020-01-30-029113</td>\n",
              "      <td>I actually believe that we do need to change t...</td>\n",
              "      <td>Julián Castro</td>\n",
              "      <td>Q970720</td>\n",
              "      <td>[[Julián Castro, 0.9028], [None, 0.0972]]</td>\n",
              "      <td>[Q6581097]</td>\n",
              "      <td>[Q82955, Q40348]</td>\n",
              "      <td>[Q29552]</td>\n",
              "      <td>Julián Castro</td>\n",
              "      <td>0.9028</td>\n",
              "    </tr>\n",
              "    <tr>\n",
              "      <th>...</th>\n",
              "      <td>...</td>\n",
              "      <td>...</td>\n",
              "      <td>...</td>\n",
              "      <td>...</td>\n",
              "      <td>...</td>\n",
              "      <td>...</td>\n",
              "      <td>...</td>\n",
              "      <td>...</td>\n",
              "      <td>...</td>\n",
              "      <td>...</td>\n",
              "    </tr>\n",
              "    <tr>\n",
              "      <th>7681437</th>\n",
              "      <td>2015-10-07-024138</td>\n",
              "      <td>For them to come back sends a message that we'...</td>\n",
              "      <td>Steve Tumlin</td>\n",
              "      <td>Q7614169</td>\n",
              "      <td>[[Steve Tumlin, 0.7326], [None, 0.2674]]</td>\n",
              "      <td>[Q6581097]</td>\n",
              "      <td>[Q82955]</td>\n",
              "      <td>[Q29468]</td>\n",
              "      <td>Steve Tumlin</td>\n",
              "      <td>0.7326</td>\n",
              "    </tr>\n",
              "    <tr>\n",
              "      <th>7681438</th>\n",
              "      <td>2015-03-14-008824</td>\n",
              "      <td>From the beginning, the whole issue has had hi...</td>\n",
              "      <td>Jamie Raskin</td>\n",
              "      <td>Q640835</td>\n",
              "      <td>[[Jamie Raskin, 0.661], [None, 0.2843], [Jim O...</td>\n",
              "      <td>[Q6581097]</td>\n",
              "      <td>[Q82955, Q1622272]</td>\n",
              "      <td>[Q29552]</td>\n",
              "      <td>Jamie Raskin</td>\n",
              "      <td>0.6610</td>\n",
              "    </tr>\n",
              "    <tr>\n",
              "      <th>7681439</th>\n",
              "      <td>2015-10-17-014629</td>\n",
              "      <td>He [ Hansen ] was writing that grant while he ...</td>\n",
              "      <td>Teresa Fedor</td>\n",
              "      <td>Q7702134</td>\n",
              "      <td>[[Teresa Fedor, 0.7461], [None, 0.1156], [Rich...</td>\n",
              "      <td>[Q6581072]</td>\n",
              "      <td>[Q82955]</td>\n",
              "      <td>[Q29552]</td>\n",
              "      <td>Teresa Fedor</td>\n",
              "      <td>0.7461</td>\n",
              "    </tr>\n",
              "    <tr>\n",
              "      <th>7681440</th>\n",
              "      <td>2015-06-19-015086</td>\n",
              "      <td>help stop profitable multinationals from engag...</td>\n",
              "      <td>Carl Levin</td>\n",
              "      <td>Q444652</td>\n",
              "      <td>[[Carl Levin, 0.8162], [None, 0.1838]]</td>\n",
              "      <td>[Q6581097]</td>\n",
              "      <td>[Q82955, Q40348]</td>\n",
              "      <td>[Q29552]</td>\n",
              "      <td>Carl Levin</td>\n",
              "      <td>0.8162</td>\n",
              "    </tr>\n",
              "    <tr>\n",
              "      <th>7681442</th>\n",
              "      <td>2015-08-09-015594</td>\n",
              "      <td>Higher education should be a path to shared pr...</td>\n",
              "      <td>Tammy Baldwin</td>\n",
              "      <td>Q40628</td>\n",
              "      <td>[[Tammy Baldwin, 0.8135], [None, 0.1736], [Pre...</td>\n",
              "      <td>[Q6581072]</td>\n",
              "      <td>[Q82955, Q40348]</td>\n",
              "      <td>[Q29552]</td>\n",
              "      <td>Tammy Baldwin</td>\n",
              "      <td>0.8135</td>\n",
              "    </tr>\n",
              "  </tbody>\n",
              "</table>\n",
              "<p>5286461 rows × 10 columns</p>\n",
              "</div>"
            ],
            "text/plain": [
              "                   quoteID  ... max_probas\n",
              "0        2020-01-16-000088  ...     0.8867\n",
              "9        2020-01-26-000499  ...     0.9011\n",
              "10       2020-01-26-040663  ...     0.7419\n",
              "12       2020-01-09-060095  ...     0.7444\n",
              "14       2020-01-30-029113  ...     0.9028\n",
              "...                    ...  ...        ...\n",
              "7681437  2015-10-07-024138  ...     0.7326\n",
              "7681438  2015-03-14-008824  ...     0.6610\n",
              "7681439  2015-10-17-014629  ...     0.7461\n",
              "7681440  2015-06-19-015086  ...     0.8162\n",
              "7681442  2015-08-09-015594  ...     0.8135\n",
              "\n",
              "[5286461 rows x 10 columns]"
            ]
          },
          "metadata": {},
          "execution_count": 4
        }
      ]
    },
    {
      "cell_type": "markdown",
      "source": [
        "# **Exploratory Data Analysis**"
      ],
      "metadata": {
        "id": "fXUfX8RucHtg"
      }
    },
    {
      "cell_type": "markdown",
      "source": [
        "The association between quotations and speakers is not given by a deterministic mapping. In fact, the column max_probas states the probability that a quotations has been delivered by the speaker which has been associated with (which is the max probability over all the speakers).\n",
        "\n",
        "First of all, we plot the distribution of these max probabilities. "
      ],
      "metadata": {
        "id": "4tEMCG-XdK3p"
      }
    },
    {
      "cell_type": "code",
      "source": [
        "# Plot the distribution of the speakers' probabilities\n",
        "df['max_probas'] = df['max_probas'].astype(float) # transform the string values into float\n",
        "ax = df['max_probas'].plot.hist(bins=20, color = 'cornflowerblue')\n",
        "ax.set_title('Distribution of the Probability That a Speaker Delivered the Quote')\n",
        "ax.set_xlabel(\"Probability\")\n",
        "ax.set_ylabel(\"Number of Speakers\")"
      ],
      "metadata": {
        "colab": {
          "base_uri": "https://localhost:8080/",
          "height": 312
        },
        "id": "KSD5kIdXbNeg",
        "outputId": "04436a60-e9c3-4ac9-d8ff-b17526d6fa64"
      },
      "execution_count": 5,
      "outputs": [
        {
          "output_type": "execute_result",
          "data": {
            "text/plain": [
              "Text(0, 0.5, 'Number of Speakers')"
            ]
          },
          "metadata": {},
          "execution_count": 5
        },
        {
          "output_type": "display_data",
          "data": {
            "image/png": "[encoded data removed]",
            "text/plain": [
              "<Figure size 432x288 with 1 Axes>"
            ]
          },
          "metadata": {
            "needs_background": "light"
          }
        }
      ]
    },
    {
      "cell_type": "markdown",
      "source": [
        "We then add a new column to the dataframe containing the number of quotation associated with each speaker"
      ],
      "metadata": {
        "id": "AikoiU0Ecq6P"
      }
    },
    {
      "cell_type": "code",
      "source": [
        "# Add number of quotations per qid to dataframe (Caution: this column is already aggregated)\n",
        "df['quotationCounts'] = df.groupby(['qids'])['quoteID'].transform(\"count\")"
      ],
      "metadata": {
        "id": "NEj6Oq_acrIU"
      },
      "execution_count": 8,
      "outputs": []
    },
    {
      "cell_type": "markdown",
      "source": [
        ""
      ],
      "metadata": {
        "id": "CLGnAePRyQ08"
      }
    },
    {
      "cell_type": "code",
      "source": [
        "df.loc[df['gender'] == \"Q6581097\", \"gender\"] = \"Male\"\n",
        "df.loc[df['gender'] == \"Q6581072\", \"gender\"] = \"Female\"\n",
        "df.loc[~df.gender.isin([\"Female\", \"Male\"]), \"gender\"] = \"Diverse\""
      ],
      "metadata": {
        "id": "Q8JNlVJezal6"
      },
      "execution_count": 94,
      "outputs": []
    },
    {
      "cell_type": "markdown",
      "source": [
        ""
      ],
      "metadata": {
        "id": "FLCArDhEzbX5"
      }
    },
    {
      "cell_type": "code",
      "source": [
        "df.loc[df['party'] == \"Q29552\", \"party\"] = \"Democrat\"\n",
        "df.loc[df['party'] == \"Q29468\", \"party\"] = \"Republican\""
      ],
      "metadata": {
        "id": "SOEUlBWNxEfx"
      },
      "execution_count": 95,
      "outputs": []
    },
    {
      "cell_type": "markdown",
      "source": [
        "We divide the dataset according to the speaker affiliation to either the Republicans or Democratics party."
      ],
      "metadata": {
        "id": "aK5-iZf4ezhi"
      }
    },
    {
      "cell_type": "code",
      "source": [
        "# republican_qid = 'Q29468'\n",
        "# democrats_qid = 'Q29552'\n",
        "# republicans_df = df.loc[df['party'].str[0] == republican_qid] #People from the republican party\n",
        "# democrats_df = df.loc[df['party'].str[0] == democrats_qid] #People from the democratic party\n",
        "\n",
        "republicans_df = df[df['party'] == 'Republican'] #People from the republican party\n",
        "democrats_df = df[df['party'] == 'Democrat'] #People from the democratic party\n"
      ],
      "metadata": {
        "id": "i39O3HMuezwk"
      },
      "execution_count": 96,
      "outputs": []
    },
    {
      "cell_type": "code",
      "source": [
        "# Number of of quotations per qid for democrats\n",
        "# we take the number of quotation by taking the mean since the value of quotationCount for a specific speaker is repeated on each wuotation of that speaker\n",
        "n_quotes_per_qid_repub = republicans_df.groupby(['qids'])['quotationCounts'].mean()\n",
        "n_quotes_per_qid_repub.describe()"
      ],
      "metadata": {
        "colab": {
          "base_uri": "https://localhost:8080/"
        },
        "id": "Tb3nDROvfo_F",
        "outputId": "801b4200-58ce-4d81-c5da-f7b01423eb91"
      },
      "execution_count": 138,
      "outputs": [
        {
          "output_type": "execute_result",
          "data": {
            "text/plain": [
              "count     7927.000000\n",
              "mean       318.935789\n",
              "std       1496.761344\n",
              "min          1.000000\n",
              "25%         11.000000\n",
              "50%         48.000000\n",
              "75%        177.000000\n",
              "max      35694.000000\n",
              "Name: quotationCounts, dtype: float64"
            ]
          },
          "metadata": {},
          "execution_count": 138
        }
      ]
    },
    {
      "cell_type": "code",
      "source": [
        "# Number of of quotations per qid for democrats\n",
        "n_quotes_per_qid_demo = democrats_df.groupby(['qids'])['quotationCounts'].mean()\n",
        "n_quotes_per_qid_demo.describe()"
      ],
      "metadata": {
        "colab": {
          "base_uri": "https://localhost:8080/"
        },
        "id": "r7KACh_tftsp",
        "outputId": "08b2df93-2313-40f2-de52-50f72b53d532"
      },
      "execution_count": 137,
      "outputs": [
        {
          "output_type": "execute_result",
          "data": {
            "text/plain": [
              "count      7899.000000\n",
              "mean        349.190657\n",
              "std        1991.496176\n",
              "min           1.000000\n",
              "25%          10.000000\n",
              "50%          49.000000\n",
              "75%         193.000000\n",
              "max      118912.000000\n",
              "Name: quotationCounts, dtype: float64"
            ]
          },
          "metadata": {},
          "execution_count": 137
        }
      ]
    },
    {
      "cell_type": "markdown",
      "source": [
        "Notice that there are slightly more speakers from the Republican party (7927) than the Democrats(7899), however in average Democrats have more quotes per speaker(349 and 318 resp.), and the most quoted Democrat has about 3 times the quotes of the most quoted Republican (118912 and 35694 resp.)."
      ],
      "metadata": {
        "id": "sk0l-UYffwBc"
      }
    },
    {
      "cell_type": "markdown",
      "source": [
        "### Distributions of quotations and speakers"
      ],
      "metadata": {
        "id": "q8YQ4TeJ7IZH"
      }
    },
    {
      "cell_type": "markdown",
      "source": [
        "We then plot the distribution of quotations per speaker"
      ],
      "metadata": {
        "id": "EbMQHZgOiXvO"
      }
    },
    {
      "cell_type": "code",
      "source": [
        "# Visualize the number of quotations per speaker grouped by Democrats and Republicans\n",
        "fig, axes = plt.subplots(nrows=1, ncols=2, figsize=(12, 8))\n",
        "\n",
        "subplot = axes[0];\n",
        "subplot.hist(np.log10(n_quotes_per_qid_repub), bins = 50, color = 'lightsteelblue')\n",
        "subplot.set_title('Quotations per Speaker (Republican)')\n",
        "subplot.set_xlabel('log 10 Quotation Count')\n",
        "subplot.set_ylabel('Number of Speakers')\n",
        "\n",
        "\n",
        "subplot = axes[1];\n",
        "subplot.hist(np.log10(n_quotes_per_qid_demo), bins = 50, color = 'cornflowerblue')\n",
        "subplot.set_title('Quotations per Speaker (Democrat)')\n",
        "subplot.set_xlabel('log 10 Quotation Count')\n",
        "subplot.set_ylabel('Number of Speakers')"
      ],
      "metadata": {
        "colab": {
          "base_uri": "https://localhost:8080/",
          "height": 530
        },
        "id": "_fCq0nIRiYMT",
        "outputId": "de1c1362-8253-4ee0-de81-55ff5d47b445"
      },
      "execution_count": 16,
      "outputs": [
        {
          "output_type": "execute_result",
          "data": {
            "text/plain": [
              "Text(0, 0.5, 'Number of Speakers')"
            ]
          },
          "metadata": {},
          "execution_count": 16
        },
        {
          "output_type": "display_data",
          "data": {
            "image/png": "[encoded data removed]",
            "text/plain": [
              "<Figure size 864x576 with 2 Axes>"
            ]
          },
          "metadata": {
            "needs_background": "light"
          }
        }
      ]
    },
    {
      "cell_type": "code",
      "source": [
        "ax = sns.distplot(np.log10(n_quotes_per_qid_demo), hist=True, label='Democrats');\n",
        "ax = sns.distplot(np.log10(n_quotes_per_qid_repub), hist=True, label='Republicans')\n",
        "ax.set(title='Quotations per Speaker (Republican/Democrats)',xlabel='log 10 Number Of Quotes', ylabel='Speakers Density')\n",
        "plt.legend()\n",
        "plt.show()"
      ],
      "metadata": {
        "colab": {
          "base_uri": "https://localhost:8080/",
          "height": 385
        },
        "id": "-ysVwn4HsJpM",
        "outputId": "21a4a8b1-b17f-444d-fcaf-031bd659f9fd"
      },
      "execution_count": 19,
      "outputs": [
        {
          "output_type": "stream",
          "name": "stderr",
          "text": [
            "/usr/local/lib/python3.7/dist-packages/seaborn/distributions.py:2619: FutureWarning: `distplot` is a deprecated function and will be removed in a future version. Please adapt your code to use either `displot` (a figure-level function with similar flexibility) or `histplot` (an axes-level function for histograms).\n",
            "  warnings.warn(msg, FutureWarning)\n",
            "/usr/local/lib/python3.7/dist-packages/seaborn/distributions.py:2619: FutureWarning: `distplot` is a deprecated function and will be removed in a future version. Please adapt your code to use either `displot` (a figure-level function with similar flexibility) or `histplot` (an axes-level function for histograms).\n",
            "  warnings.warn(msg, FutureWarning)\n"
          ]
        },
        {
          "output_type": "display_data",
          "data": {
            "image/png": "[encoded data removed]",
            "text/plain": [
              "<Figure size 432x288 with 1 Axes>"
            ]
          },
          "metadata": {
            "needs_background": "light"
          }
        }
      ]
    },
    {
      "cell_type": "markdown",
      "source": [
        "We can observe that the distributions are left skewed and are very similar to each others. "
      ],
      "metadata": {
        "id": "OxDuPcG83vcv"
      }
    },
    {
      "cell_type": "markdown",
      "source": [
        "### TOP Speakers"
      ],
      "metadata": {
        "id": "fEjTtu39spaT"
      }
    },
    {
      "cell_type": "code",
      "source": [
        "# Top speakers of the Democratic Party\n",
        "n_quotes_per_qid_demo.sort_values(ascending=False)"
      ],
      "metadata": {
        "colab": {
          "base_uri": "https://localhost:8080/"
        },
        "id": "hdoEySuxsDiQ",
        "outputId": "cd2d0a92-206f-4551-bc57-2f16cb939e21"
      },
      "execution_count": 139,
      "outputs": [
        {
          "output_type": "execute_result",
          "data": {
            "text/plain": [
              "qids\n",
              "Q76          118912.0\n",
              "Q6279         42902.0\n",
              "Q170581       40580.0\n",
              "Q11673        37313.0\n",
              "Q434706       36874.0\n",
              "               ...   \n",
              "Q6766234          1.0\n",
              "Q35929088         1.0\n",
              "Q7945405          1.0\n",
              "Q4081194          1.0\n",
              "Q6152901          1.0\n",
              "Name: quotationCounts, Length: 7899, dtype: float64"
            ]
          },
          "metadata": {},
          "execution_count": 139
        }
      ]
    },
    {
      "cell_type": "code",
      "source": [
        "# Top speakers of the Republican Party\n",
        "n_quotes_per_qid_repub.sort_values(ascending=False)"
      ],
      "metadata": {
        "colab": {
          "base_uri": "https://localhost:8080/"
        },
        "id": "qoNI8cSIsGtn",
        "outputId": "c3d08743-5195-418e-c417-46c442b2604b"
      },
      "execution_count": 140,
      "outputs": [
        {
          "output_type": "execute_result",
          "data": {
            "text/plain": [
              "qids\n",
              "Q473239      35694.0\n",
              "Q24313       35650.0\n",
              "Q22212       35365.0\n",
              "Q2036942     34682.0\n",
              "Q324546      32509.0\n",
              "              ...   \n",
              "Q58815627        1.0\n",
              "Q6105180         1.0\n",
              "Q6106530         1.0\n",
              "Q6112264         1.0\n",
              "Q4756899         1.0\n",
              "Name: quotationCounts, Length: 7927, dtype: float64"
            ]
          },
          "metadata": {},
          "execution_count": 140
        }
      ]
    },
    {
      "cell_type": "markdown",
      "source": [
        "## Distribution of Male/Female Speaker within Each Political Party"
      ],
      "metadata": {
        "id": "8TwdAzEh7ekS"
      }
    },
    {
      "cell_type": "markdown",
      "source": [
        "We analize how is the ratio female/male in the Republicans and Democrats quotations.\n"
      ],
      "metadata": {
        "id": "euuw9TU69RrD"
      }
    },
    {
      "cell_type": "code",
      "source": [
        "# Let's start with the Republicans\n",
        "repub_females = republicans_df[republicans_df['gender'] == 'Female']\n",
        "repub_females.describe()"
      ],
      "metadata": {
        "colab": {
          "base_uri": "https://localhost:8080/",
          "height": 300
        },
        "id": "0WU3fQSj7lyg",
        "outputId": "4d391865-2efa-436b-ac29-ef482fb25a2b"
      },
      "execution_count": 47,
      "outputs": [
        {
          "output_type": "execute_result",
          "data": {
            "text/html": [
              "<div>\n",
              "<style scoped>\n",
              "    .dataframe tbody tr th:only-of-type {\n",
              "        vertical-align: middle;\n",
              "    }\n",
              "\n",
              "    .dataframe tbody tr th {\n",
              "        vertical-align: top;\n",
              "    }\n",
              "\n",
              "    .dataframe thead th {\n",
              "        text-align: right;\n",
              "    }\n",
              "</style>\n",
              "<table border=\"1\" class=\"dataframe\">\n",
              "  <thead>\n",
              "    <tr style=\"text-align: right;\">\n",
              "      <th></th>\n",
              "      <th>max_probas</th>\n",
              "      <th>quotationCounts</th>\n",
              "    </tr>\n",
              "  </thead>\n",
              "  <tbody>\n",
              "    <tr>\n",
              "      <th>count</th>\n",
              "      <td>418644.000000</td>\n",
              "      <td>418644.000000</td>\n",
              "    </tr>\n",
              "    <tr>\n",
              "      <th>mean</th>\n",
              "      <td>0.795721</td>\n",
              "      <td>4758.786415</td>\n",
              "    </tr>\n",
              "    <tr>\n",
              "      <th>std</th>\n",
              "      <td>0.097809</td>\n",
              "      <td>6093.054274</td>\n",
              "    </tr>\n",
              "    <tr>\n",
              "      <th>min</th>\n",
              "      <td>0.600100</td>\n",
              "      <td>1.000000</td>\n",
              "    </tr>\n",
              "    <tr>\n",
              "      <th>25%</th>\n",
              "      <td>0.717500</td>\n",
              "      <td>451.000000</td>\n",
              "    </tr>\n",
              "    <tr>\n",
              "      <th>50%</th>\n",
              "      <td>0.805500</td>\n",
              "      <td>1723.000000</td>\n",
              "    </tr>\n",
              "    <tr>\n",
              "      <th>75%</th>\n",
              "      <td>0.877500</td>\n",
              "      <td>6763.000000</td>\n",
              "    </tr>\n",
              "    <tr>\n",
              "      <th>max</th>\n",
              "      <td>0.986700</td>\n",
              "      <td>20259.000000</td>\n",
              "    </tr>\n",
              "  </tbody>\n",
              "</table>\n",
              "</div>"
            ],
            "text/plain": [
              "          max_probas  quotationCounts\n",
              "count  418644.000000    418644.000000\n",
              "mean        0.795721      4758.786415\n",
              "std         0.097809      6093.054274\n",
              "min         0.600100         1.000000\n",
              "25%         0.717500       451.000000\n",
              "50%         0.805500      1723.000000\n",
              "75%         0.877500      6763.000000\n",
              "max         0.986700     20259.000000"
            ]
          },
          "metadata": {},
          "execution_count": 47
        }
      ]
    },
    {
      "cell_type": "code",
      "source": [
        "repub_males = republicans_df[republicans_df['gender'] == 'Male' ]\n",
        "repub_males.describe()"
      ],
      "metadata": {
        "colab": {
          "base_uri": "https://localhost:8080/",
          "height": 300
        },
        "id": "o6d5KhKW7stq",
        "outputId": "45b33f91-dd06-4b35-acc5-f932e32ee797"
      },
      "execution_count": 48,
      "outputs": [
        {
          "output_type": "execute_result",
          "data": {
            "text/html": [
              "<div>\n",
              "<style scoped>\n",
              "    .dataframe tbody tr th:only-of-type {\n",
              "        vertical-align: middle;\n",
              "    }\n",
              "\n",
              "    .dataframe tbody tr th {\n",
              "        vertical-align: top;\n",
              "    }\n",
              "\n",
              "    .dataframe thead th {\n",
              "        text-align: right;\n",
              "    }\n",
              "</style>\n",
              "<table border=\"1\" class=\"dataframe\">\n",
              "  <thead>\n",
              "    <tr style=\"text-align: right;\">\n",
              "      <th></th>\n",
              "      <th>max_probas</th>\n",
              "      <th>quotationCounts</th>\n",
              "    </tr>\n",
              "  </thead>\n",
              "  <tbody>\n",
              "    <tr>\n",
              "      <th>count</th>\n",
              "      <td>2.099264e+06</td>\n",
              "      <td>2.099264e+06</td>\n",
              "    </tr>\n",
              "    <tr>\n",
              "      <th>mean</th>\n",
              "      <td>7.965755e-01</td>\n",
              "      <td>7.854988e+03</td>\n",
              "    </tr>\n",
              "    <tr>\n",
              "      <th>std</th>\n",
              "      <td>9.926443e-02</td>\n",
              "      <td>1.058324e+04</td>\n",
              "    </tr>\n",
              "    <tr>\n",
              "      <th>min</th>\n",
              "      <td>6.001000e-01</td>\n",
              "      <td>1.000000e+00</td>\n",
              "    </tr>\n",
              "    <tr>\n",
              "      <th>25%</th>\n",
              "      <td>7.167000e-01</td>\n",
              "      <td>5.750000e+02</td>\n",
              "    </tr>\n",
              "    <tr>\n",
              "      <th>50%</th>\n",
              "      <td>8.052000e-01</td>\n",
              "      <td>2.529000e+03</td>\n",
              "    </tr>\n",
              "    <tr>\n",
              "      <th>75%</th>\n",
              "      <td>8.799000e-01</td>\n",
              "      <td>1.036200e+04</td>\n",
              "    </tr>\n",
              "    <tr>\n",
              "      <th>max</th>\n",
              "      <td>9.941000e-01</td>\n",
              "      <td>3.569400e+04</td>\n",
              "    </tr>\n",
              "  </tbody>\n",
              "</table>\n",
              "</div>"
            ],
            "text/plain": [
              "         max_probas  quotationCounts\n",
              "count  2.099264e+06     2.099264e+06\n",
              "mean   7.965755e-01     7.854988e+03\n",
              "std    9.926443e-02     1.058324e+04\n",
              "min    6.001000e-01     1.000000e+00\n",
              "25%    7.167000e-01     5.750000e+02\n",
              "50%    8.052000e-01     2.529000e+03\n",
              "75%    8.799000e-01     1.036200e+04\n",
              "max    9.941000e-01     3.569400e+04"
            ]
          },
          "metadata": {},
          "execution_count": 48
        }
      ]
    },
    {
      "cell_type": "code",
      "source": [
        ""
      ],
      "metadata": {
        "id": "wxErgSxB9MCe"
      },
      "execution_count": null,
      "outputs": []
    },
    {
      "cell_type": "code",
      "source": [
        "female_male_quotes_fraction_repub = len(repub_females)/len(republicans_df)*100\n",
        "print(f'only {female_male_quotes_fraction_repub:.2f} % of the republican quotes are delivered from women')"
      ],
      "metadata": {
        "colab": {
          "base_uri": "https://localhost:8080/"
        },
        "id": "XWuaEtL98gsb",
        "outputId": "37d5f11e-f592-44d7-f0ad-5beb2c741131"
      },
      "execution_count": 49,
      "outputs": [
        {
          "output_type": "stream",
          "name": "stdout",
          "text": [
            "only 16.56 % of the republican quotes are delivered from women\n"
          ]
        }
      ]
    },
    {
      "cell_type": "code",
      "source": [
        "# Let's start with the Republicans\n",
        "democrats_females = democrats_df[democrats_df['gender'] == 'Female']\n",
        "democrats_females.describe()"
      ],
      "metadata": {
        "colab": {
          "base_uri": "https://localhost:8080/",
          "height": 300
        },
        "id": "rqur3Fmj9Khu",
        "outputId": "bd67218e-3881-4f6c-9863-e0d299fba357"
      },
      "execution_count": 51,
      "outputs": [
        {
          "output_type": "execute_result",
          "data": {
            "text/html": [
              "<div>\n",
              "<style scoped>\n",
              "    .dataframe tbody tr th:only-of-type {\n",
              "        vertical-align: middle;\n",
              "    }\n",
              "\n",
              "    .dataframe tbody tr th {\n",
              "        vertical-align: top;\n",
              "    }\n",
              "\n",
              "    .dataframe thead th {\n",
              "        text-align: right;\n",
              "    }\n",
              "</style>\n",
              "<table border=\"1\" class=\"dataframe\">\n",
              "  <thead>\n",
              "    <tr style=\"text-align: right;\">\n",
              "      <th></th>\n",
              "      <th>max_probas</th>\n",
              "      <th>quotationCounts</th>\n",
              "    </tr>\n",
              "  </thead>\n",
              "  <tbody>\n",
              "    <tr>\n",
              "      <th>count</th>\n",
              "      <td>951601.000000</td>\n",
              "      <td>951601.000000</td>\n",
              "    </tr>\n",
              "    <tr>\n",
              "      <th>mean</th>\n",
              "      <td>0.796321</td>\n",
              "      <td>6782.161487</td>\n",
              "    </tr>\n",
              "    <tr>\n",
              "      <th>std</th>\n",
              "      <td>0.097632</td>\n",
              "      <td>10820.664278</td>\n",
              "    </tr>\n",
              "    <tr>\n",
              "      <th>min</th>\n",
              "      <td>0.600100</td>\n",
              "      <td>1.000000</td>\n",
              "    </tr>\n",
              "    <tr>\n",
              "      <th>25%</th>\n",
              "      <td>0.718300</td>\n",
              "      <td>593.000000</td>\n",
              "    </tr>\n",
              "    <tr>\n",
              "      <th>50%</th>\n",
              "      <td>0.807100</td>\n",
              "      <td>2490.000000</td>\n",
              "    </tr>\n",
              "    <tr>\n",
              "      <th>75%</th>\n",
              "      <td>0.877900</td>\n",
              "      <td>6451.000000</td>\n",
              "    </tr>\n",
              "    <tr>\n",
              "      <th>max</th>\n",
              "      <td>0.993000</td>\n",
              "      <td>40580.000000</td>\n",
              "    </tr>\n",
              "  </tbody>\n",
              "</table>\n",
              "</div>"
            ],
            "text/plain": [
              "          max_probas  quotationCounts\n",
              "count  951601.000000    951601.000000\n",
              "mean        0.796321      6782.161487\n",
              "std         0.097632     10820.664278\n",
              "min         0.600100         1.000000\n",
              "25%         0.718300       593.000000\n",
              "50%         0.807100      2490.000000\n",
              "75%         0.877900      6451.000000\n",
              "max         0.993000     40580.000000"
            ]
          },
          "metadata": {},
          "execution_count": 51
        }
      ]
    },
    {
      "cell_type": "code",
      "source": [
        "democrats_males = democrats_df[democrats_df['gender'] == 'Male' ]\n",
        "democrats_males.describe()"
      ],
      "metadata": {
        "colab": {
          "base_uri": "https://localhost:8080/",
          "height": 300
        },
        "id": "jZ9fsqpY9M85",
        "outputId": "bf16993b-121a-48d8-8ff8-4a9d8adc2177"
      },
      "execution_count": 52,
      "outputs": [
        {
          "output_type": "execute_result",
          "data": {
            "text/html": [
              "<div>\n",
              "<style scoped>\n",
              "    .dataframe tbody tr th:only-of-type {\n",
              "        vertical-align: middle;\n",
              "    }\n",
              "\n",
              "    .dataframe tbody tr th {\n",
              "        vertical-align: top;\n",
              "    }\n",
              "\n",
              "    .dataframe thead th {\n",
              "        text-align: right;\n",
              "    }\n",
              "</style>\n",
              "<table border=\"1\" class=\"dataframe\">\n",
              "  <thead>\n",
              "    <tr style=\"text-align: right;\">\n",
              "      <th></th>\n",
              "      <th>max_probas</th>\n",
              "      <th>quotationCounts</th>\n",
              "    </tr>\n",
              "  </thead>\n",
              "  <tbody>\n",
              "    <tr>\n",
              "      <th>count</th>\n",
              "      <td>1.790005e+06</td>\n",
              "      <td>1.790005e+06</td>\n",
              "    </tr>\n",
              "    <tr>\n",
              "      <th>mean</th>\n",
              "      <td>8.014559e-01</td>\n",
              "      <td>1.437178e+04</td>\n",
              "    </tr>\n",
              "    <tr>\n",
              "      <th>std</th>\n",
              "      <td>1.002505e-01</td>\n",
              "      <td>2.969817e+04</td>\n",
              "    </tr>\n",
              "    <tr>\n",
              "      <th>min</th>\n",
              "      <td>6.001000e-01</td>\n",
              "      <td>1.000000e+00</td>\n",
              "    </tr>\n",
              "    <tr>\n",
              "      <th>25%</th>\n",
              "      <td>7.214000e-01</td>\n",
              "      <td>6.710000e+02</td>\n",
              "    </tr>\n",
              "    <tr>\n",
              "      <th>50%</th>\n",
              "      <td>8.117000e-01</td>\n",
              "      <td>2.824000e+03</td>\n",
              "    </tr>\n",
              "    <tr>\n",
              "      <th>75%</th>\n",
              "      <td>8.858000e-01</td>\n",
              "      <td>1.007600e+04</td>\n",
              "    </tr>\n",
              "    <tr>\n",
              "      <th>max</th>\n",
              "      <td>9.909000e-01</td>\n",
              "      <td>1.189120e+05</td>\n",
              "    </tr>\n",
              "  </tbody>\n",
              "</table>\n",
              "</div>"
            ],
            "text/plain": [
              "         max_probas  quotationCounts\n",
              "count  1.790005e+06     1.790005e+06\n",
              "mean   8.014559e-01     1.437178e+04\n",
              "std    1.002505e-01     2.969817e+04\n",
              "min    6.001000e-01     1.000000e+00\n",
              "25%    7.214000e-01     6.710000e+02\n",
              "50%    8.117000e-01     2.824000e+03\n",
              "75%    8.858000e-01     1.007600e+04\n",
              "max    9.909000e-01     1.189120e+05"
            ]
          },
          "metadata": {},
          "execution_count": 52
        }
      ]
    },
    {
      "cell_type": "code",
      "source": [
        "female_male_quotes_fraction_demo = len(democrats_females)/len(democrats_df)*100\n",
        "print(f' {female_male_quotes_fraction_demo:.2f} % of the democrats quotes are delivered from women')"
      ],
      "metadata": {
        "colab": {
          "base_uri": "https://localhost:8080/"
        },
        "id": "MTLm64cr9P70",
        "outputId": "226e2cf8-0262-4e2d-81f3-312d55fe9e66"
      },
      "execution_count": 53,
      "outputs": [
        {
          "output_type": "stream",
          "name": "stdout",
          "text": [
            " 34.50 % of the democrats quotes are delivered from women\n"
          ]
        }
      ]
    },
    {
      "cell_type": "markdown",
      "source": [
        "Despite the ratio is unbalanced in both party towards males, it is significantly more balanced in the Democrats(34.50 %) than in Republicans (16.56 %). "
      ],
      "metadata": {
        "id": "fErh1qQi-LHM"
      }
    },
    {
      "cell_type": "code",
      "source": [
        "n_quotes_female_per_qid_demo = democrats_females.groupby(['qids'])['quotationCounts'].mean()\n",
        "n_quotes_female_per_qid_repub = repub_females.groupby(['qids'])['quotationCounts'].mean()\n",
        "n_quotes_male_per_qid_demo = democrats_males.groupby(['qids'])['quotationCounts'].mean()\n",
        "n_quotes_male_per_qid_repub = repub_males.groupby(['qids'])['quotationCounts'].mean()"
      ],
      "metadata": {
        "id": "bTrcZKp1-4Lj"
      },
      "execution_count": 54,
      "outputs": []
    },
    {
      "cell_type": "code",
      "source": [
        "n_quotes_female_per_qid_demo.describe()"
      ],
      "metadata": {
        "colab": {
          "base_uri": "https://localhost:8080/"
        },
        "id": "X6bccK3m-7Cs",
        "outputId": "ccbb95cb-cb74-49b2-da92-7cdb7bf6a487"
      },
      "execution_count": 55,
      "outputs": [
        {
          "output_type": "execute_result",
          "data": {
            "text/plain": [
              "count     2601.000000\n",
              "mean       365.859669\n",
              "std       1532.438884\n",
              "min          1.000000\n",
              "25%         14.000000\n",
              "50%         63.000000\n",
              "75%        219.000000\n",
              "max      40580.000000\n",
              "Name: quotationCounts, dtype: float64"
            ]
          },
          "metadata": {},
          "execution_count": 55
        }
      ]
    },
    {
      "cell_type": "code",
      "source": [
        "n_quotes_female_per_qid_repub.describe()"
      ],
      "metadata": {
        "colab": {
          "base_uri": "https://localhost:8080/"
        },
        "id": "shPmqisN-9Uj",
        "outputId": "39176d25-4e5c-45c9-8bad-907c03895f91"
      },
      "execution_count": 56,
      "outputs": [
        {
          "output_type": "execute_result",
          "data": {
            "text/plain": [
              "count     1534.000000\n",
              "mean       272.910039\n",
              "std       1106.814930\n",
              "min          1.000000\n",
              "25%         11.000000\n",
              "50%         48.000000\n",
              "75%        167.000000\n",
              "max      20259.000000\n",
              "Name: quotationCounts, dtype: float64"
            ]
          },
          "metadata": {},
          "execution_count": 56
        }
      ]
    },
    {
      "cell_type": "code",
      "source": [
        "# Visualize quotations per speaker by same gender and different party\n",
        "ax = sns.distplot(np.log10(n_quotes_female_per_qid_demo), hist=True, label='Female Democrats');\n",
        "ax = sns.distplot(np.log10(n_quotes_female_per_qid_repub), hist=True, label='Female Republicans')\n",
        "ax.set(title='Quotations per Female Speaker (Republican/Democrats)',xlabel='log 10 Number of Quotes', ylabel='Speakers Density')\n",
        "plt.legend()\n",
        "plt.show()\n",
        "\n",
        "ax2 = sns.distplot(np.log10(n_quotes_male_per_qid_demo), hist=True, label='Male Democrats');\n",
        "ax2 = sns.distplot(np.log10(n_quotes_male_per_qid_repub), hist=True, label='Male Republicans')\n",
        "ax2.set(title='Quotations per Male Speaker (Republican/Democrats)',xlabel='log 10 Number of Quotes', ylabel='Speakers Density')\n",
        "plt.legend()\n",
        "plt.show()"
      ],
      "metadata": {
        "colab": {
          "base_uri": "https://localhost:8080/",
          "height": 732
        },
        "id": "ks8B0JOSJo8p",
        "outputId": "8e0eb8b5-46b9-4f9a-9892-ceecf9c3c34d"
      },
      "execution_count": 57,
      "outputs": [
        {
          "output_type": "stream",
          "name": "stderr",
          "text": [
            "/usr/local/lib/python3.7/dist-packages/seaborn/distributions.py:2619: FutureWarning: `distplot` is a deprecated function and will be removed in a future version. Please adapt your code to use either `displot` (a figure-level function with similar flexibility) or `histplot` (an axes-level function for histograms).\n",
            "  warnings.warn(msg, FutureWarning)\n",
            "/usr/local/lib/python3.7/dist-packages/seaborn/distributions.py:2619: FutureWarning: `distplot` is a deprecated function and will be removed in a future version. Please adapt your code to use either `displot` (a figure-level function with similar flexibility) or `histplot` (an axes-level function for histograms).\n",
            "  warnings.warn(msg, FutureWarning)\n"
          ]
        },
        {
          "output_type": "display_data",
          "data": {
            "image/png": "[encoded data removed]",
            "text/plain": [
              "<Figure size 432x288 with 1 Axes>"
            ]
          },
          "metadata": {
            "needs_background": "light"
          }
        },
        {
          "output_type": "stream",
          "name": "stderr",
          "text": [
            "/usr/local/lib/python3.7/dist-packages/seaborn/distributions.py:2619: FutureWarning: `distplot` is a deprecated function and will be removed in a future version. Please adapt your code to use either `displot` (a figure-level function with similar flexibility) or `histplot` (an axes-level function for histograms).\n",
            "  warnings.warn(msg, FutureWarning)\n",
            "/usr/local/lib/python3.7/dist-packages/seaborn/distributions.py:2619: FutureWarning: `distplot` is a deprecated function and will be removed in a future version. Please adapt your code to use either `displot` (a figure-level function with similar flexibility) or `histplot` (an axes-level function for histograms).\n",
            "  warnings.warn(msg, FutureWarning)\n"
          ]
        },
        {
          "output_type": "display_data",
          "data": {
            "image/png": "[encoded data removed]",
            "text/plain": [
              "<Figure size 432x288 with 1 Axes>"
            ]
          },
          "metadata": {
            "needs_background": "light"
          }
        }
      ]
    },
    {
      "cell_type": "markdown",
      "source": [
        "##Topic: **Climate Change**"
      ],
      "metadata": {
        "id": "uDeJGRB3LMSf"
      }
    },
    {
      "cell_type": "markdown",
      "source": [
        "Since we want to focus our analysis on the climate change topic, it is reasonable to analize the dataset filtering the quotations by keeping only the ones related to the topic."
      ],
      "metadata": {
        "id": "4JUe1qFhN3rY"
      }
    },
    {
      "cell_type": "markdown",
      "source": [
        "We decided to use the vocabulary provided by the US minister of health [(https://www.health.state.mn.us/communities/environment/climate/docs/film/vocab_list.pdf)](https://www.health.state.mn.us/communities/environment/climate/docs/film/vocab_list.pdf) in order to decide whether to keep or discard a quotation."
      ],
      "metadata": {
        "id": "Ko7w9UHIOyzo"
      }
    },
    {
      "cell_type": "code",
      "source": [
        "climate_change_vocabulary = 'climate change|ecosystem|habitat|atmosphere|weather|precipitation|climate|global climate|\\\n",
        "  fossil fuel| coal | oil |natural gas|greenhouse gas|water vapor|carbon dioxide|methane|ozone|ultraviolet radioation|greenhouse effect|global warming|\\\n",
        "  adaptation|mitigation|carbon footprint|renewable resource|extreme weather event|drought|infectious disease|invasive species|pollutant|allergen|asthma'"
      ],
      "metadata": {
        "id": "Uiul4YbsOZn-"
      },
      "execution_count": 61,
      "outputs": []
    },
    {
      "cell_type": "markdown",
      "source": [
        "We filter the dataset according to the vocabulary and we save it in a parquet file, to speed up further analysis, since the operation of filtering appears to be computational consuming."
      ],
      "metadata": {
        "id": "SwrR-rVqPkWd"
      }
    },
    {
      "cell_type": "code",
      "source": [
        "# Only get quotes that contain key vocabulary related to climate change\n",
        "# Vocabulary list extracted from https://www.health.state.mn.us/communities/environment/climate/docs/film/vocab_list.pdf\n",
        "climate_change_data_path = '/content/drive/MyDrive/Quotebank_Repub_Dem/climate_change_quotes.parquet'\n",
        "if os.path.exists(climate_change_data_path):\n",
        "  df_climate_change = pd.read_parquet(climate_change_data_path)\n",
        "else:\n",
        "  df['climate_change_voc'] = df['quotation'].str.findall(climate_change_vocabulary, flags=re.IGNORECASE)\n",
        "  df_climate_change = df[df['climate_change_voc'].apply(lambda x: len(x)) > 0]\n",
        "  df_climate_change.to_parquet('/content/drive/MyDrive/Quotebank_Repub_Dem/climate_change_quotes.parquet')\n",
        "\n",
        "# df_climate_change['party'] = df_climate_change['party'].apply(lambda x: x[0])"
      ],
      "metadata": {
        "id": "jeqpthzyLO-6"
      },
      "execution_count": 104,
      "outputs": []
    },
    {
      "cell_type": "code",
      "source": [
        "df.head()"
      ],
      "metadata": {
        "colab": {
          "base_uri": "https://localhost:8080/",
          "height": 380
        },
        "id": "9MM4l03ZQDZH",
        "outputId": "9708db5e-f51a-4c58-94be-9dfd731c1731"
      },
      "execution_count": 119,
      "outputs": [
        {
          "output_type": "execute_result",
          "data": {
            "text/html": [
              "<div>\n",
              "<style scoped>\n",
              "    .dataframe tbody tr th:only-of-type {\n",
              "        vertical-align: middle;\n",
              "    }\n",
              "\n",
              "    .dataframe tbody tr th {\n",
              "        vertical-align: top;\n",
              "    }\n",
              "\n",
              "    .dataframe thead th {\n",
              "        text-align: right;\n",
              "    }\n",
              "</style>\n",
              "<table border=\"1\" class=\"dataframe\">\n",
              "  <thead>\n",
              "    <tr style=\"text-align: right;\">\n",
              "      <th></th>\n",
              "      <th>quoteID</th>\n",
              "      <th>quotation</th>\n",
              "      <th>speaker</th>\n",
              "      <th>qids</th>\n",
              "      <th>probas</th>\n",
              "      <th>gender</th>\n",
              "      <th>occupation</th>\n",
              "      <th>party</th>\n",
              "      <th>max_prob_speaker</th>\n",
              "      <th>max_probas</th>\n",
              "      <th>quotationCounts</th>\n",
              "      <th>climate_change_voc</th>\n",
              "    </tr>\n",
              "  </thead>\n",
              "  <tbody>\n",
              "    <tr>\n",
              "      <th>0</th>\n",
              "      <td>2020-01-16-000088</td>\n",
              "      <td>[ Department of Homeland Security ] was livid ...</td>\n",
              "      <td>Sue Myrick</td>\n",
              "      <td>Q367796</td>\n",
              "      <td>[[Sue Myrick, 0.8867], [None, 0.0992], [Ron Wy...</td>\n",
              "      <td>Female</td>\n",
              "      <td>[Q82955]</td>\n",
              "      <td>Republican</td>\n",
              "      <td>Sue Myrick</td>\n",
              "      <td>0.8867</td>\n",
              "      <td>19</td>\n",
              "      <td>[]</td>\n",
              "    </tr>\n",
              "    <tr>\n",
              "      <th>9</th>\n",
              "      <td>2020-01-26-000499</td>\n",
              "      <td>a few of the candidates who will do better in ...</td>\n",
              "      <td>Dave Loebsack</td>\n",
              "      <td>Q771586</td>\n",
              "      <td>[[Dave Loebsack, 0.9011], [None, 0.0949], [Joe...</td>\n",
              "      <td>Male</td>\n",
              "      <td>[Q82955, Q1622272, Q1238570]</td>\n",
              "      <td>Democrat</td>\n",
              "      <td>Dave Loebsack</td>\n",
              "      <td>0.9011</td>\n",
              "      <td>1113</td>\n",
              "      <td>[]</td>\n",
              "    </tr>\n",
              "    <tr>\n",
              "      <th>10</th>\n",
              "      <td>2020-01-26-040663</td>\n",
              "      <td>The generational thing is important, quite hon...</td>\n",
              "      <td>Dave Loebsack</td>\n",
              "      <td>Q771586</td>\n",
              "      <td>[[Dave Loebsack, 0.7419], [None, 0.2133], [Pet...</td>\n",
              "      <td>Male</td>\n",
              "      <td>[Q82955, Q1622272, Q1238570]</td>\n",
              "      <td>Democrat</td>\n",
              "      <td>Dave Loebsack</td>\n",
              "      <td>0.7419</td>\n",
              "      <td>1113</td>\n",
              "      <td>[]</td>\n",
              "    </tr>\n",
              "    <tr>\n",
              "      <th>12</th>\n",
              "      <td>2020-01-09-060095</td>\n",
              "      <td>No, are you kidding? The way that this place l...</td>\n",
              "      <td>Debbie Lesko</td>\n",
              "      <td>Q16731415</td>\n",
              "      <td>[[Debbie Lesko, 0.7444], [None, 0.2323], [Pres...</td>\n",
              "      <td>Female</td>\n",
              "      <td>[Q82955]</td>\n",
              "      <td>Republican</td>\n",
              "      <td>Debbie Lesko</td>\n",
              "      <td>0.7444</td>\n",
              "      <td>935</td>\n",
              "      <td>[]</td>\n",
              "    </tr>\n",
              "    <tr>\n",
              "      <th>14</th>\n",
              "      <td>2020-01-30-029113</td>\n",
              "      <td>I actually believe that we do need to change t...</td>\n",
              "      <td>Julián Castro</td>\n",
              "      <td>Q970720</td>\n",
              "      <td>[[Julián Castro, 0.9028], [None, 0.0972]]</td>\n",
              "      <td>Male</td>\n",
              "      <td>[Q82955, Q40348]</td>\n",
              "      <td>Democrat</td>\n",
              "      <td>Julián Castro</td>\n",
              "      <td>0.9028</td>\n",
              "      <td>6947</td>\n",
              "      <td>[]</td>\n",
              "    </tr>\n",
              "  </tbody>\n",
              "</table>\n",
              "</div>"
            ],
            "text/plain": [
              "              quoteID  ... climate_change_voc\n",
              "0   2020-01-16-000088  ...                 []\n",
              "9   2020-01-26-000499  ...                 []\n",
              "10  2020-01-26-040663  ...                 []\n",
              "12  2020-01-09-060095  ...                 []\n",
              "14  2020-01-30-029113  ...                 []\n",
              "\n",
              "[5 rows x 12 columns]"
            ]
          },
          "metadata": {},
          "execution_count": 119
        }
      ]
    },
    {
      "cell_type": "markdown",
      "source": [
        "## Distribution of words related to climate change"
      ],
      "metadata": {
        "id": "YEAWwacsLRx0"
      }
    },
    {
      "cell_type": "markdown",
      "source": [
        "We calculate the occurrences of each \"word\" first in the whole dataframe, and then by taking into the account the party associated with the quotes."
      ],
      "metadata": {
        "id": "kY5NzxyvQ_pH"
      }
    },
    {
      "cell_type": "code",
      "source": [
        "list_climate_change_words = climate_change_vocabulary.split(\"|\")\n",
        "\n",
        "count_gw_words_dem = {}\n",
        "count_gw_words_rep = {}\n",
        "count_gw_words = {}\n",
        "for word in list_climate_change_words:\n",
        "    count_gw_words[word] = df_climate_change[df_climate_change[\"climate_change_voc\"].apply(lambda x: word in x)]['quotation'].count()\n",
        "    count_gw_words_dem[word] = df_climate_change[df_climate_change[\"climate_change_voc\"].apply(lambda x: word in x) & (df_climate_change[\"party\"] == democrats_qid)]['quotation'].count()\n",
        "    count_gw_words_rep[word] = df_climate_change[df_climate_change[\"climate_change_voc\"].apply(lambda x: word in x) & (df_climate_change[\"party\"] == republican_qid)]['quotation'].count()\n",
        "\n",
        "df_climate_change_words = pd.DataFrame({'climate change vocabulary': count_gw_words.keys(), 'count':pd.Series(count_gw_words)})#.sort_values(by='count', ascending=False)\n",
        "df_climate_change_words_dem = pd.DataFrame({'climate change vocabulary': count_gw_words.keys(), 'count':pd.Series(count_gw_words_dem)})#.sort_values(by='count', ascending=False)\n",
        "df_climate_change_words_rep = pd.DataFrame({'climate change vocabulary': count_gw_words.keys(), 'count':pd.Series(count_gw_words_rep)})#.sort_values(by='count', ascending=False)\n",
        "\n",
        "# df_climate_change_words = pd.DataFrame({'count':count_climate_change_words, 'count_rep':count_climate_change_words_rep, 'count_dem':count_climate_change_words_dem})"
      ],
      "metadata": {
        "id": "rRwCEuBaLU7K"
      },
      "execution_count": 64,
      "outputs": []
    },
    {
      "cell_type": "markdown",
      "source": [
        "We Plot the distribution of words in the dataset without distinguish by the party (left-figure), and by taking the party into account (right-figure). \n",
        "Notice that the vocabulary contains actually some small sentences like \"fossil fuel\" or \"climate change\". But we decided to not splitting them into single words because the meaning of them is defined by the entire sentence. From now on, we refer to word simply as an element of the climate change vocabulary, and not as a word of the english dictionary."
      ],
      "metadata": {
        "id": "X49W0AIsRBez"
      }
    },
    {
      "cell_type": "code",
      "source": [
        "fig, ax = plt.subplots(nrows=1, ncols=2, figsize=(15, 8))\n",
        "\n",
        "sns.barplot(data=df_climate_change_words, x = 'climate change vocabulary', y='count', label='tot', color='cornflowerblue', ax=ax[0], alpha=1)\n",
        "sns.barplot(data=df_climate_change_words_dem, x = 'climate change vocabulary', y='count', ax=ax[1], color='r', alpha=0.3)\n",
        "sns.barplot(data=df_climate_change_words_rep, x = 'climate change vocabulary', y='count', ax=ax[1], color='b', alpha=0.3)\n",
        "\n",
        "leg = ax[1].legend(['Republicans', 'Democrats'])\n",
        "# leg = ax.get_legend()\n",
        "leg.legendHandles[0].set_color('b')\n",
        "leg.legendHandles[0].set_alpha(0.3)\n",
        "leg.legendHandles[1].set_color('r')\n",
        "leg.legendHandles[1].set_alpha(0.3)\n",
        "\n",
        "ax[0].set_xticklabels(list_climate_change_words, rotation=90)\n",
        "ax[1].set_xticklabels(list_climate_change_words, rotation=90)\n",
        "\n",
        "ax[0].set_ylabel('frequency')\n",
        "ax[1].set_ylabel('frequency')\n",
        "\n",
        "ax[0].set_title('Distribution of words in all the quotes sorted by number of occurrences')\n",
        "ax[1].set_title('Distribution of words in the democrats\\' and republicans\\' quotes')\n"
      ],
      "metadata": {
        "colab": {
          "base_uri": "https://localhost:8080/",
          "height": 638
        },
        "id": "3IdnQjjxLYSP",
        "outputId": "66c0f3d2-11f8-43d3-8739-9ab42b5bda86"
      },
      "execution_count": 85,
      "outputs": [
        {
          "output_type": "execute_result",
          "data": {
            "text/plain": [
              "Text(0.5, 1.0, \"Distribution of words in the democrats' and republicans' quotes\")"
            ]
          },
          "metadata": {},
          "execution_count": 85
        },
        {
          "output_type": "display_data",
          "data": {
            "image/png": "[encoded data removed]",
            "text/plain": [
              "<Figure size 1080x576 with 2 Axes>"
            ]
          },
          "metadata": {
            "needs_background": "light"
          }
        }
      ]
    },
    {
      "cell_type": "markdown",
      "source": [
        "Some observations regarding the word frequencies by taking into account the party, have to be made. In fact, it the frequence for the word \"climate change\" in the democrats quotes is way bigger than in the republicans quotes. Whereas the word \"oil\" has a bigger frequency in the republicans quotes than in the democrats'."
      ],
      "metadata": {
        "id": "BkTrHerYYvkI"
      }
    },
    {
      "cell_type": "markdown",
      "source": [
        "Now we plot the distribution of quotes for the top 10 speakers of each party"
      ],
      "metadata": {
        "id": "lTuZsaLdjPc9"
      }
    },
    {
      "cell_type": "code",
      "source": [
        "# Add number of quotations per qid to dataframe (Caution: this column is already aggregated)\n",
        "df_climate_change['quotationCounts'] = df_climate_change.groupby(['qids'])['quoteID'].transform(\"count\")\n",
        "n_quotes_qid_df = df_climate_change.drop_duplicates(subset=['qids'])[['party', 'speaker', 'quotationCounts']].sort_values(by='quotationCounts', ascending=False)"
      ],
      "metadata": {
        "colab": {
          "base_uri": "https://localhost:8080/"
        },
        "id": "bYB60iVcbw5d",
        "outputId": "0c66cce3-dc37-43ee-e33c-f061f75161f3"
      },
      "execution_count": 116,
      "outputs": [
        {
          "output_type": "stream",
          "name": "stderr",
          "text": [
            "/usr/local/lib/python3.7/dist-packages/ipykernel_launcher.py:2: SettingWithCopyWarning: \n",
            "A value is trying to be set on a copy of a slice from a DataFrame.\n",
            "Try using .loc[row_indexer,col_indexer] = value instead\n",
            "\n",
            "See the caveats in the documentation: https://pandas.pydata.org/pandas-docs/stable/user_guide/indexing.html#returning-a-view-versus-a-copy\n",
            "  \n"
          ]
        }
      ]
    },
    {
      "cell_type": "code",
      "source": [
        "n_quotes_per_qid_demo = n_quotes_qid_df[n_quotes_qid_df['party'] == 'Democrat']\n",
        "n_quotes_per_qid_rep = n_quotes_qid_df[n_quotes_qid_df['party'] == 'Republican']\n",
        "\n",
        "fig, ax = plt.subplots(nrows=1, ncols=2, figsize=(10, 8))\n",
        "top_10_rep = n_quotes_per_qid_rep.head(10)['speaker']\n",
        "top_10_demo = n_quotes_per_qid_demo.head(10)['speaker']\n",
        "sns.barplot(data=n_quotes_per_qid_demo.head(10), x = 'speaker', y='quotationCounts', label='Democrats', color='cornflowerblue', ax=ax[0], alpha=1)\n",
        "sns.barplot(data=n_quotes_per_qid_rep.head(10), x = 'speaker', y='quotationCounts', label='Republicans', color='lightsteelblue', ax=ax[1], alpha=1)\n",
        "\n",
        "ax[0].set_xticklabels(top_10_demo, rotation=90)\n",
        "ax[1].set_xticklabels(top_10_rep, rotation=90)\n",
        "\n",
        "ax[0].set_title('Distribution of Number of Quotes \\n for the Top 10 Democrats Speakers')\n",
        "ax[1].set_title('Distribution of Number of Quotes \\n for the Top 10 Republican Speakers')\n",
        "\n",
        "ax[0].set_ylim(top=2800)\n",
        "ax[1].set_ylim(top=2800)\n",
        "\n",
        "plt.show()"
      ],
      "metadata": {
        "colab": {
          "base_uri": "https://localhost:8080/",
          "height": 644
        },
        "id": "UwPqJT5OZJ9D",
        "outputId": "6db09341-7cd8-4312-9782-2c5fa7c307a2"
      },
      "execution_count": 118,
      "outputs": [
        {
          "output_type": "display_data",
          "data": {
            "image/png": "[encoded data removed]",
            "text/plain": [
              "<Figure size 720x576 with 2 Axes>"
            ]
          },
          "metadata": {
            "needs_background": "light"
          }
        }
      ]
    }
  ]
}