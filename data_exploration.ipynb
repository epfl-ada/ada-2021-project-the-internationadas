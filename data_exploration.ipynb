{
 "cells": [
  {
   "cell_type": "code",
   "execution_count": null,
   "id": "e3283779",
   "metadata": {},
   "outputs": [],
   "source": [
    "from google.colab import drive\n",
    "drive.mount('/content/drive')"
   ]
  },
  {
   "cell_type": "code",
   "execution_count": null,
   "id": "946910a3",
   "metadata": {},
   "outputs": [],
   "source": [
    "import bz2\n",
    "import json\n",
    "import pandas as pd\n",
    "import numpy as np\n",
    "import seaborn as sns\n",
    "import matplotlib.pyplot as plt\n",
    "import scipy.stats as stats"
   ]
  },
  {
   "cell_type": "code",
   "execution_count": null,
   "id": "a7b83287",
   "metadata": {},
   "outputs": [],
   "source": [
    "# Load the new file as a dataframe\n",
    "file_path = '/content/drive/MyDrive/ada/quotes-2020-repub-dem.json.bz2'\n",
    "df = pd.read_json(file_path, compression='bz2')"
   ]
  },
  {
   "cell_type": "code",
   "execution_count": null,
   "id": "7137bc49",
   "metadata": {},
   "outputs": [],
   "source": [
    "# Add number of quotations per qid to dataframe (Caution: this column is already aggregated)\n",
    "df['quotationCounts'] = df.groupby(['qids'])['quoteID'].transform(\"count\")\n",
    "\n",
    "# Visualize the number of quotations per speaker grouped by Democrats and Republicans\n",
    "fig, axes = plt.subplots(nrows=1, ncols=2, figsize=(12, 8))\n",
    "\n",
    "subplot = axes[0];\n",
    "subplot.hist(df[df['party'].str[0] == 'Q29468']['quotationCounts'].values, bins = 50, color=\"lightsteelblue\")\n",
    "subplot.set_title(\"Quotations per Speaker (Republican)\")\n",
    "subplot.set_xlabel(\"Quotation Count\")\n",
    "subplot.set_ylabel(\"Number of Speakers\")\n",
    "subplot.set_xlim([0,45000])\n",
    "subplot.set_ylim([0,80000])\n",
    "\n",
    "subplot = axes[1];\n",
    "subplot.hist(df[df['party'].str[0] == 'Q29552']['quotationCounts'].values, bins = 50, color=\"cornflowerblue\")\n",
    "subplot.set_title(\"Quotations per Speaker (Democrat)\")\n",
    "subplot.set_xlabel(\"Quotation Count\")\n",
    "subplot.set_ylabel(\"Number of Speakers\")\n",
    "subplot.set_xlim([0,45000])\n",
    "subplot.set_ylim([0,80000])"
   ]
  },
  {
   "cell_type": "code",
   "execution_count": null,
   "id": "5db1aa32",
   "metadata": {},
   "outputs": [],
   "source": [
    "# Top Speakers of the Republican Party\n",
    "df[df['party'].str[0] == 'Q29468'].groupby(['qids']).mean().sort_values(by='quotationCounts', ascending=False)"
   ]
  },
  {
   "cell_type": "code",
   "execution_count": null,
   "id": "cb45c4d1",
   "metadata": {},
   "outputs": [],
   "source": [
    "# Top Speakers of the Democratic Party\n",
    "df[df['party'].str[0] == 'Q29552'].groupby(['qids']).mean().sort_values(by='quotationCounts', ascending=False)"
   ]
  }
 ],
 "metadata": {
  "kernelspec": {
   "display_name": "Python 3 (ipykernel)",
   "language": "python",
   "name": "python3"
  },
  "language_info": {
   "codemirror_mode": {
    "name": "ipython",
    "version": 3
   },
   "file_extension": ".py",
   "mimetype": "text/x-python",
   "name": "python",
   "nbconvert_exporter": "python",
   "pygments_lexer": "ipython3",
   "version": "3.8.11"
  }
 },
 "nbformat": 4,
 "nbformat_minor": 5
}
