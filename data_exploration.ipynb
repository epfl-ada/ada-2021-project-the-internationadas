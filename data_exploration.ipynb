{
  "nbformat": 4,
  "nbformat_minor": 5,
  "metadata": {
    "kernelspec": {
      "display_name": "Python 3 (ipykernel)",
      "language": "python",
      "name": "python3"
    },
    "language_info": {
      "codemirror_mode": {
        "name": "ipython",
        "version": 3
      },
      "file_extension": ".py",
      "mimetype": "text/x-python",
      "name": "python",
      "nbconvert_exporter": "python",
      "pygments_lexer": "ipython3",
      "version": "3.8.11"
    },
    "colab": {
      "name": "Copy of Copy of data_exploration.ipynb",
      "provenance": []
    }
  },
  "cells": [
    {
      "cell_type": "markdown",
      "metadata": {
        "id": "J0K5FimjD4L0"
      },
      "source": [
        "# Data Exploration: **Do People with Different Ideologies Speak Differently?**\n"
      ],
      "id": "J0K5FimjD4L0"
    },
    {
      "cell_type": "markdown",
      "metadata": {
        "id": "xUhint87Jpki"
      },
      "source": [
        "## **Mounting the Google Drive**\n",
        "\n",
        "It is possible to mount your Google Drive to Colab if you need additional storage or if you need to use files from it. To do that run (click on play button or use keyboard shortcut 'Command/Ctrl+Enter') the following code cell:"
      ],
      "id": "xUhint87Jpki"
    },
    {
      "cell_type": "code",
      "metadata": {
        "colab": {
          "base_uri": "https://localhost:8080/"
        },
        "id": "e3283779",
        "outputId": "3366fc48-faf7-4482-ef68-d41f6bf37794"
      },
      "source": [
        "from google.colab import drive\n",
        "drive.mount('/content/drive')"
      ],
      "id": "e3283779",
      "execution_count": 2,
      "outputs": [
        {
          "output_type": "stream",
          "name": "stdout",
          "text": [
            "Mounted at /content/drive\n"
          ]
        }
      ]
    },
    {
      "cell_type": "markdown",
      "metadata": {
        "id": "QHD1R2bfJ3hv"
      },
      "source": [
        "1.   After running the cell, URL will appear.\n",
        "\n",
        "2.   Following this URL, you will be redirected to the page where you need to choose Google Drive account to mount to.\n",
        "\n",
        "3.   You will further be asked to give Google Drive Stream a permission to access the chosen Google account\n",
        "\n",
        "4.   After granting the access, authorization code will be given to you\n",
        "\n",
        "5.   Copy the authorization code into the dedicated textbox in Colab under '*Enter your authorization code:*' writing\n",
        "\n",
        "After copying the authorization code, you should get the message saying '*Mounted at /content/gdrive*'\n",
        "\n",
        "Path to the files from the mounted Drive will then be '/content/drive/MyDrive/'. By opening the Files tab (left sidebar, folder icon) you should also be able to see the accessible files."
      ],
      "id": "QHD1R2bfJ3hv"
    },
    {
      "cell_type": "markdown",
      "metadata": {
        "id": "GPTdUu5nKKZF"
      },
      "source": [
        "## **Required Libraries**"
      ],
      "id": "GPTdUu5nKKZF"
    },
    {
      "cell_type": "code",
      "metadata": {
        "colab": {
          "base_uri": "https://localhost:8080/"
        },
        "id": "ylZG2PXVZMEA",
        "outputId": "5b377abf-df56-474e-98fc-3c3606c9d286"
      },
      "source": [
        "!pip install qwikidata"
      ],
      "id": "ylZG2PXVZMEA",
      "execution_count": 4,
      "outputs": [
        {
          "output_type": "stream",
          "name": "stdout",
          "text": [
            "Requirement already satisfied: qwikidata in /usr/local/lib/python3.7/dist-packages (0.4.0)\n",
            "Requirement already satisfied: mypy-extensions in /usr/local/lib/python3.7/dist-packages (from qwikidata) (0.4.3)\n",
            "Requirement already satisfied: requests in /usr/local/lib/python3.7/dist-packages (from qwikidata) (2.23.0)\n",
            "Requirement already satisfied: urllib3!=1.25.0,!=1.25.1,<1.26,>=1.21.1 in /usr/local/lib/python3.7/dist-packages (from requests->qwikidata) (1.24.3)\n",
            "Requirement already satisfied: chardet<4,>=3.0.2 in /usr/local/lib/python3.7/dist-packages (from requests->qwikidata) (3.0.4)\n",
            "Requirement already satisfied: idna<3,>=2.5 in /usr/local/lib/python3.7/dist-packages (from requests->qwikidata) (2.10)\n",
            "Requirement already satisfied: certifi>=2017.4.17 in /usr/local/lib/python3.7/dist-packages (from requests->qwikidata) (2021.10.8)\n"
          ]
        }
      ]
    },
    {
      "cell_type": "code",
      "metadata": {
        "id": "946910a3"
      },
      "source": [
        "import bz2\n",
        "import json\n",
        "import pandas as pd\n",
        "import numpy as np\n",
        "import seaborn as sns\n",
        "import matplotlib.pyplot as plt\n",
        "import re\n",
        "import scipy.stats as stats\n",
        "from qwikidata.linked_data_interface import get_entity_dict_from_api"
      ],
      "id": "946910a3",
      "execution_count": 1,
      "outputs": []
    },
    {
      "cell_type": "markdown",
      "metadata": {
        "id": "bqQZyMcvKNBN"
      },
      "source": [
        "## **Load and Merge Preprocessed Data Into Single Dataframe**\n",
        "The first step is to merge together all different parquet files from different year in a single dataframe. It will allow to work easily on it, and perform the entire analysis.<br>\n",
        "After an initial analysis on the preprocessed data, it was noticed that further filtering operations were needed. All were performed in the same function loading the data, and are the following:\n",
        "- drop quotations of politicians who switched parties during the time frame (about 14,11%). Considering them would have meant integrating also the time frame related to each political party \"phase\" (not necessary for our analysis);\n",
        "- drop quotation with an unordered probability list (0,00092%);\n",
        "- remove entries with speaker maximum probability < 0.6, in order to reduce uncertainty. This value could be changed in the future, depending on the analysis results."
      ],
      "id": "bqQZyMcvKNBN"
    },
    {
      "cell_type": "code",
      "metadata": {
        "id": "ucDKMxkYKTvX",
        "colab": {
          "base_uri": "https://localhost:8080/",
          "height": 589
        },
        "outputId": "4a071c95-688d-4630-e089-54fca5fa1bb0"
      },
      "source": [
        "file_path_2020 = '/content/drive/MyDrive/Quotebank_Repub_Dem/new-quotes-2020-repub-dem.parquet'\n",
        "file_path_2019 = '/content/drive/MyDrive/Quotebank_Repub_Dem/new-quotes-2019-repub-dem.parquet'\n",
        "file_path_2018 = '/content/drive/MyDrive/Quotebank_Repub_Dem/new-quotes-2018-repub-dem.parquet'\n",
        "file_path_2017 = '/content/drive/MyDrive/Quotebank_Repub_Dem/new-quotes-2017-repub-dem.parquet'\n",
        "file_path_2016 = '/content/drive/MyDrive/Quotebank_Repub_Dem/new-quotes-2016-repub-dem.parquet'\n",
        "file_path_2015 = '/content/drive/MyDrive/Quotebank_Repub_Dem/new-quotes-2015-repub-dem.parquet'\n",
        "file_path_final = '/content/drive/MyDrive/Quotebank_Repub_Dem/new-quotes-final-repub-dem.parquet'\n",
        "\n",
        "prob_threshold = 0.6\n",
        "\n",
        "# load preprocessed data and merge them in a single dataframe\n",
        "def load_and_merge():\n",
        "  # load\n",
        "  df_20 = pd.read_parquet(file_path_2020)\n",
        "  df_19 = pd.read_parquet(file_path_2019)\n",
        "  df_18 = pd.read_parquet(file_path_2018)\n",
        "  df_17 = pd.read_parquet(file_path_2017)\n",
        "  df_16 = pd.read_parquet(file_path_2016)\n",
        "  df_15 = pd.read_parquet(file_path_2015)\n",
        "\n",
        "  # merge into single dataframe\n",
        "  df = pd.concat([df_20, df_19, df_18, df_17, df_16, df_15], ignore_index=True)\n",
        "\n",
        "  # delete unused variables for garbage collector\n",
        "  del df_20\n",
        "  del df_19\n",
        "  del df_18\n",
        "  del df_17\n",
        "  del df_16\n",
        "  del df_15\n",
        "\n",
        "  # remove entries with more then 1 party\n",
        "  df = df[df[\"party\"].apply(len) == 1]\n",
        "\n",
        "  # remove entries where the speaker with maximum probability is not the first in the list\n",
        "  max_prob_speaker = df['probas'].apply(lambda x: x[0][0])\n",
        "  df['max_prob_speaker'] = max_prob_speaker\n",
        "  df = df[df[\"speaker\"] == df['max_prob_speaker']]\n",
        "\n",
        "  # remove entries with best speaker probability less the 0.6\n",
        "  max_probas = df['probas'].apply(lambda x: x[0][1])\n",
        "  df['max_probas'] = max_probas.astype(float)\n",
        "  df = df[df[\"max_probas\"] > prob_threshold]\n",
        "\n",
        "  # remove added columns\n",
        "  #df = df.drop([\"max_probas\", \"max_prob_speaker\"], axis=1)\n",
        "\n",
        "  return df\n",
        "\n",
        "# Load and merge into a single dataframe\n",
        "df = load_and_merge()\n",
        "df"
      ],
      "id": "ucDKMxkYKTvX",
      "execution_count": 2,
      "outputs": [
        {
          "output_type": "execute_result",
          "data": {
            "text/html": [
              "<div>\n",
              "<style scoped>\n",
              "    .dataframe tbody tr th:only-of-type {\n",
              "        vertical-align: middle;\n",
              "    }\n",
              "\n",
              "    .dataframe tbody tr th {\n",
              "        vertical-align: top;\n",
              "    }\n",
              "\n",
              "    .dataframe thead th {\n",
              "        text-align: right;\n",
              "    }\n",
              "</style>\n",
              "<table border=\"1\" class=\"dataframe\">\n",
              "  <thead>\n",
              "    <tr style=\"text-align: right;\">\n",
              "      <th></th>\n",
              "      <th>quoteID</th>\n",
              "      <th>quotation</th>\n",
              "      <th>speaker</th>\n",
              "      <th>qids</th>\n",
              "      <th>probas</th>\n",
              "      <th>gender</th>\n",
              "      <th>occupation</th>\n",
              "      <th>party</th>\n",
              "      <th>max_prob_speaker</th>\n",
              "      <th>max_probas</th>\n",
              "    </tr>\n",
              "  </thead>\n",
              "  <tbody>\n",
              "    <tr>\n",
              "      <th>0</th>\n",
              "      <td>2020-01-16-000088</td>\n",
              "      <td>[ Department of Homeland Security ] was livid ...</td>\n",
              "      <td>Sue Myrick</td>\n",
              "      <td>Q367796</td>\n",
              "      <td>[[Sue Myrick, 0.8867], [None, 0.0992], [Ron Wy...</td>\n",
              "      <td>[Q6581072]</td>\n",
              "      <td>[Q82955]</td>\n",
              "      <td>[Q29468]</td>\n",
              "      <td>Sue Myrick</td>\n",
              "      <td>0.8867</td>\n",
              "    </tr>\n",
              "    <tr>\n",
              "      <th>9</th>\n",
              "      <td>2020-01-26-000499</td>\n",
              "      <td>a few of the candidates who will do better in ...</td>\n",
              "      <td>Dave Loebsack</td>\n",
              "      <td>Q771586</td>\n",
              "      <td>[[Dave Loebsack, 0.9011], [None, 0.0949], [Joe...</td>\n",
              "      <td>[Q6581097]</td>\n",
              "      <td>[Q82955, Q1622272, Q1238570]</td>\n",
              "      <td>[Q29552]</td>\n",
              "      <td>Dave Loebsack</td>\n",
              "      <td>0.9011</td>\n",
              "    </tr>\n",
              "    <tr>\n",
              "      <th>10</th>\n",
              "      <td>2020-01-26-040663</td>\n",
              "      <td>The generational thing is important, quite hon...</td>\n",
              "      <td>Dave Loebsack</td>\n",
              "      <td>Q771586</td>\n",
              "      <td>[[Dave Loebsack, 0.7419], [None, 0.2133], [Pet...</td>\n",
              "      <td>[Q6581097]</td>\n",
              "      <td>[Q82955, Q1622272, Q1238570]</td>\n",
              "      <td>[Q29552]</td>\n",
              "      <td>Dave Loebsack</td>\n",
              "      <td>0.7419</td>\n",
              "    </tr>\n",
              "    <tr>\n",
              "      <th>12</th>\n",
              "      <td>2020-01-09-060095</td>\n",
              "      <td>No, are you kidding? The way that this place l...</td>\n",
              "      <td>Debbie Lesko</td>\n",
              "      <td>Q16731415</td>\n",
              "      <td>[[Debbie Lesko, 0.7444], [None, 0.2323], [Pres...</td>\n",
              "      <td>[Q6581072]</td>\n",
              "      <td>[Q82955]</td>\n",
              "      <td>[Q29468]</td>\n",
              "      <td>Debbie Lesko</td>\n",
              "      <td>0.7444</td>\n",
              "    </tr>\n",
              "    <tr>\n",
              "      <th>14</th>\n",
              "      <td>2020-01-30-029113</td>\n",
              "      <td>I actually believe that we do need to change t...</td>\n",
              "      <td>Julián Castro</td>\n",
              "      <td>Q970720</td>\n",
              "      <td>[[Julián Castro, 0.9028], [None, 0.0972]]</td>\n",
              "      <td>[Q6581097]</td>\n",
              "      <td>[Q82955, Q40348]</td>\n",
              "      <td>[Q29552]</td>\n",
              "      <td>Julián Castro</td>\n",
              "      <td>0.9028</td>\n",
              "    </tr>\n",
              "    <tr>\n",
              "      <th>...</th>\n",
              "      <td>...</td>\n",
              "      <td>...</td>\n",
              "      <td>...</td>\n",
              "      <td>...</td>\n",
              "      <td>...</td>\n",
              "      <td>...</td>\n",
              "      <td>...</td>\n",
              "      <td>...</td>\n",
              "      <td>...</td>\n",
              "      <td>...</td>\n",
              "    </tr>\n",
              "    <tr>\n",
              "      <th>7681437</th>\n",
              "      <td>2015-10-07-024138</td>\n",
              "      <td>For them to come back sends a message that we'...</td>\n",
              "      <td>Steve Tumlin</td>\n",
              "      <td>Q7614169</td>\n",
              "      <td>[[Steve Tumlin, 0.7326], [None, 0.2674]]</td>\n",
              "      <td>[Q6581097]</td>\n",
              "      <td>[Q82955]</td>\n",
              "      <td>[Q29468]</td>\n",
              "      <td>Steve Tumlin</td>\n",
              "      <td>0.7326</td>\n",
              "    </tr>\n",
              "    <tr>\n",
              "      <th>7681438</th>\n",
              "      <td>2015-03-14-008824</td>\n",
              "      <td>From the beginning, the whole issue has had hi...</td>\n",
              "      <td>Jamie Raskin</td>\n",
              "      <td>Q640835</td>\n",
              "      <td>[[Jamie Raskin, 0.661], [None, 0.2843], [Jim O...</td>\n",
              "      <td>[Q6581097]</td>\n",
              "      <td>[Q82955, Q1622272]</td>\n",
              "      <td>[Q29552]</td>\n",
              "      <td>Jamie Raskin</td>\n",
              "      <td>0.6610</td>\n",
              "    </tr>\n",
              "    <tr>\n",
              "      <th>7681439</th>\n",
              "      <td>2015-10-17-014629</td>\n",
              "      <td>He [ Hansen ] was writing that grant while he ...</td>\n",
              "      <td>Teresa Fedor</td>\n",
              "      <td>Q7702134</td>\n",
              "      <td>[[Teresa Fedor, 0.7461], [None, 0.1156], [Rich...</td>\n",
              "      <td>[Q6581072]</td>\n",
              "      <td>[Q82955]</td>\n",
              "      <td>[Q29552]</td>\n",
              "      <td>Teresa Fedor</td>\n",
              "      <td>0.7461</td>\n",
              "    </tr>\n",
              "    <tr>\n",
              "      <th>7681440</th>\n",
              "      <td>2015-06-19-015086</td>\n",
              "      <td>help stop profitable multinationals from engag...</td>\n",
              "      <td>Carl Levin</td>\n",
              "      <td>Q444652</td>\n",
              "      <td>[[Carl Levin, 0.8162], [None, 0.1838]]</td>\n",
              "      <td>[Q6581097]</td>\n",
              "      <td>[Q82955, Q40348]</td>\n",
              "      <td>[Q29552]</td>\n",
              "      <td>Carl Levin</td>\n",
              "      <td>0.8162</td>\n",
              "    </tr>\n",
              "    <tr>\n",
              "      <th>7681442</th>\n",
              "      <td>2015-08-09-015594</td>\n",
              "      <td>Higher education should be a path to shared pr...</td>\n",
              "      <td>Tammy Baldwin</td>\n",
              "      <td>Q40628</td>\n",
              "      <td>[[Tammy Baldwin, 0.8135], [None, 0.1736], [Pre...</td>\n",
              "      <td>[Q6581072]</td>\n",
              "      <td>[Q82955, Q40348]</td>\n",
              "      <td>[Q29552]</td>\n",
              "      <td>Tammy Baldwin</td>\n",
              "      <td>0.8135</td>\n",
              "    </tr>\n",
              "  </tbody>\n",
              "</table>\n",
              "<p>5286461 rows × 10 columns</p>\n",
              "</div>"
            ],
            "text/plain": [
              "                   quoteID  ... max_probas\n",
              "0        2020-01-16-000088  ...     0.8867\n",
              "9        2020-01-26-000499  ...     0.9011\n",
              "10       2020-01-26-040663  ...     0.7419\n",
              "12       2020-01-09-060095  ...     0.7444\n",
              "14       2020-01-30-029113  ...     0.9028\n",
              "...                    ...  ...        ...\n",
              "7681437  2015-10-07-024138  ...     0.7326\n",
              "7681438  2015-03-14-008824  ...     0.6610\n",
              "7681439  2015-10-17-014629  ...     0.7461\n",
              "7681440  2015-06-19-015086  ...     0.8162\n",
              "7681442  2015-08-09-015594  ...     0.8135\n",
              "\n",
              "[5286461 rows x 10 columns]"
            ]
          },
          "metadata": {},
          "execution_count": 2
        }
      ]
    },
    {
      "cell_type": "code",
      "metadata": {
        "colab": {
          "base_uri": "https://localhost:8080/",
          "height": 589
        },
        "id": "a7b83287",
        "outputId": "7bd5b39b-e2af-427a-e8d1-29d3c75f7624"
      },
      "source": [
        "# Load the 2020 quotes compressed JSON file as a dataframe\n",
        "# We do not use it further on as we switched to parquet\n",
        "file_path = '/content/drive/MyDrive/ada/quotes-2020-repub-dem.json.bz2'\n",
        "df = pd.read_json(file_path, compression='bz2')\n",
        "df"
      ],
      "id": "a7b83287",
      "execution_count": null,
      "outputs": [
        {
          "output_type": "execute_result",
          "data": {
            "text/html": [
              "<div>\n",
              "<style scoped>\n",
              "    .dataframe tbody tr th:only-of-type {\n",
              "        vertical-align: middle;\n",
              "    }\n",
              "\n",
              "    .dataframe tbody tr th {\n",
              "        vertical-align: top;\n",
              "    }\n",
              "\n",
              "    .dataframe thead th {\n",
              "        text-align: right;\n",
              "    }\n",
              "</style>\n",
              "<table border=\"1\" class=\"dataframe\">\n",
              "  <thead>\n",
              "    <tr style=\"text-align: right;\">\n",
              "      <th></th>\n",
              "      <th>quoteID</th>\n",
              "      <th>quotation</th>\n",
              "      <th>speaker</th>\n",
              "      <th>qids</th>\n",
              "      <th>probas</th>\n",
              "      <th>gender</th>\n",
              "      <th>occupation</th>\n",
              "      <th>party</th>\n",
              "    </tr>\n",
              "  </thead>\n",
              "  <tbody>\n",
              "    <tr>\n",
              "      <th>0</th>\n",
              "      <td>2020-01-16-000088</td>\n",
              "      <td>[ Department of Homeland Security ] was livid ...</td>\n",
              "      <td>Sue Myrick</td>\n",
              "      <td>Q367796</td>\n",
              "      <td>[[Sue Myrick, 0.8867], [None, 0.0992], [Ron Wy...</td>\n",
              "      <td>[Q6581072]</td>\n",
              "      <td>[Q82955]</td>\n",
              "      <td>[Q29468]</td>\n",
              "    </tr>\n",
              "    <tr>\n",
              "      <th>1</th>\n",
              "      <td>2020-01-16-012811</td>\n",
              "      <td>cancel contracts to train Saudi police and oth...</td>\n",
              "      <td>Sue Myrick</td>\n",
              "      <td>Q367796</td>\n",
              "      <td>[[Sue Myrick, 0.8677], [None, 0.1323]]</td>\n",
              "      <td>[Q6581072]</td>\n",
              "      <td>[Q82955]</td>\n",
              "      <td>[Q29468]</td>\n",
              "    </tr>\n",
              "    <tr>\n",
              "      <th>2</th>\n",
              "      <td>2020-01-16-094237</td>\n",
              "      <td>to block the sale of sensitive military munitions</td>\n",
              "      <td>Sue Myrick</td>\n",
              "      <td>Q367796</td>\n",
              "      <td>[[Sue Myrick, 0.604], [Ron Wyden, 0.2891], [No...</td>\n",
              "      <td>[Q6581072]</td>\n",
              "      <td>[Q82955]</td>\n",
              "      <td>[Q29468]</td>\n",
              "    </tr>\n",
              "    <tr>\n",
              "      <th>3</th>\n",
              "      <td>2020-02-28-013721</td>\n",
              "      <td>enlisted the help of Hezbollah</td>\n",
              "      <td>Sue Myrick</td>\n",
              "      <td>Q367796</td>\n",
              "      <td>[[Sue Myrick, 0.7064], [None, 0.2936]]</td>\n",
              "      <td>[Q6581072]</td>\n",
              "      <td>[Q82955]</td>\n",
              "      <td>[Q29468]</td>\n",
              "    </tr>\n",
              "    <tr>\n",
              "      <th>4</th>\n",
              "      <td>2020-02-28-034001</td>\n",
              "      <td>implies a Persian influence that can likely be...</td>\n",
              "      <td>Sue Myrick</td>\n",
              "      <td>Q367796</td>\n",
              "      <td>[[Sue Myrick, 0.963], [None, 0.037]]</td>\n",
              "      <td>[Q6581072]</td>\n",
              "      <td>[Q82955]</td>\n",
              "      <td>[Q29468]</td>\n",
              "    </tr>\n",
              "    <tr>\n",
              "      <th>...</th>\n",
              "      <td>...</td>\n",
              "      <td>...</td>\n",
              "      <td>...</td>\n",
              "      <td>...</td>\n",
              "      <td>...</td>\n",
              "      <td>...</td>\n",
              "      <td>...</td>\n",
              "      <td>...</td>\n",
              "    </tr>\n",
              "    <tr>\n",
              "      <th>444089</th>\n",
              "      <td>2020-02-14-054657</td>\n",
              "      <td>It's not only affecting businesses but it's al...</td>\n",
              "      <td>Tim Stine</td>\n",
              "      <td>Q21064330</td>\n",
              "      <td>[[Tim Stine, 0.7644], [None, 0.2356]]</td>\n",
              "      <td>[Q6581097]</td>\n",
              "      <td>[Q43845, Q82955]</td>\n",
              "      <td>[Q29552]</td>\n",
              "    </tr>\n",
              "    <tr>\n",
              "      <th>444090</th>\n",
              "      <td>2020-02-06-002083</td>\n",
              "      <td>A nonprofit will open some other doors. It wil...</td>\n",
              "      <td>Pat McDonough</td>\n",
              "      <td>Q7143736</td>\n",
              "      <td>[[Pat McDonough, 0.9043], [None, 0.0957]]</td>\n",
              "      <td>[Q6581097]</td>\n",
              "      <td>[Q82955]</td>\n",
              "      <td>[Q29468]</td>\n",
              "    </tr>\n",
              "    <tr>\n",
              "      <th>444091</th>\n",
              "      <td>2020-02-07-000825</td>\n",
              "      <td>5-point Border Security Initiative,</td>\n",
              "      <td>Roger Hedgecock</td>\n",
              "      <td>Q3439068</td>\n",
              "      <td>[[Roger Hedgecock, 0.6745], [Carl DeMaio, 0.25...</td>\n",
              "      <td>[Q6581097]</td>\n",
              "      <td>[Q2722764, Q82955]</td>\n",
              "      <td>[Q29468]</td>\n",
              "    </tr>\n",
              "    <tr>\n",
              "      <th>444092</th>\n",
              "      <td>2020-02-18-007399</td>\n",
              "      <td>As the city's mayor, the issues that were most...</td>\n",
              "      <td>Daniel M. Pierce</td>\n",
              "      <td>Q18739817</td>\n",
              "      <td>[[Daniel M. Pierce, 0.5388], [None, 0.4612]]</td>\n",
              "      <td>[Q6581097]</td>\n",
              "      <td>[Q40348, Q82955]</td>\n",
              "      <td>[Q29552]</td>\n",
              "    </tr>\n",
              "    <tr>\n",
              "      <th>444093</th>\n",
              "      <td>2020-03-21-024086</td>\n",
              "      <td>NYCHA will continue to fall into deep disrepai...</td>\n",
              "      <td>Robert J. Rodriguez</td>\n",
              "      <td>Q7345965</td>\n",
              "      <td>[[Robert J. Rodriguez, 0.6855], [None, 0.3145]]</td>\n",
              "      <td>[Q6581097]</td>\n",
              "      <td>[Q82955]</td>\n",
              "      <td>[Q29552]</td>\n",
              "    </tr>\n",
              "  </tbody>\n",
              "</table>\n",
              "<p>444094 rows × 8 columns</p>\n",
              "</div>"
            ],
            "text/plain": [
              "                  quoteID  ...     party\n",
              "0       2020-01-16-000088  ...  [Q29468]\n",
              "1       2020-01-16-012811  ...  [Q29468]\n",
              "2       2020-01-16-094237  ...  [Q29468]\n",
              "3       2020-02-28-013721  ...  [Q29468]\n",
              "4       2020-02-28-034001  ...  [Q29468]\n",
              "...                   ...  ...       ...\n",
              "444089  2020-02-14-054657  ...  [Q29552]\n",
              "444090  2020-02-06-002083  ...  [Q29468]\n",
              "444091  2020-02-07-000825  ...  [Q29468]\n",
              "444092  2020-02-18-007399  ...  [Q29552]\n",
              "444093  2020-03-21-024086  ...  [Q29552]\n",
              "\n",
              "[444094 rows x 8 columns]"
            ]
          },
          "metadata": {},
          "execution_count": 111
        }
      ]
    },
    {
      "cell_type": "code",
      "metadata": {
        "colab": {
          "base_uri": "https://localhost:8080/",
          "height": 312
        },
        "id": "2dja8W6gu7Dh",
        "outputId": "f7a33b61-9f53-474b-93c3-473b14b42548"
      },
      "source": [
        "# Plot the distribution of the speakers' probabilities\n",
        "df['max_probas'] = df['max_probas'].astype(float) # transform the string values into float\n",
        "ax = df['max_probas'].plot.hist(bins=20, color = 'cornflowerblue')\n",
        "ax.set_title('Distribution of the Probability That a Speaker Delivered the Quote')\n",
        "ax.set_xlabel(\"Probability\")\n",
        "ax.set_ylabel(\"Number of Speakers\")\n"
      ],
      "id": "2dja8W6gu7Dh",
      "execution_count": 3,
      "outputs": [
        {
          "output_type": "execute_result",
          "data": {
            "text/plain": [
              "Text(0, 0.5, 'Number of Speakers')"
            ]
          },
          "metadata": {},
          "execution_count": 3
        },
        {
          "output_type": "display_data",
          "data": {
            "image/png": "[encoded data removed]",
            "text/plain": [
              "<Figure size 432x288 with 1 Axes>"
            ]
          },
          "metadata": {
            "needs_background": "light"
          }
        }
      ]
    },
    {
      "cell_type": "code",
      "metadata": {
        "id": "ePprO8R3_8Lm"
      },
      "source": [
        "# Add number of quotations per qid to dataframe (Caution: this column is already aggregated)\n",
        "df['quotationCounts'] = df.groupby(['qids'])['quoteID'].transform(\"count\")"
      ],
      "id": "ePprO8R3_8Lm",
      "execution_count": 5,
      "outputs": []
    },
    {
      "cell_type": "code",
      "metadata": {
        "id": "KCSItTBh-ae2"
      },
      "source": [
        "republican_qid = 'Q29468'\n",
        "democrats_qid = 'Q29552'\n",
        "republicans_df = df.loc[df['party'].str[0] == republican_qid] #People from the republican party\n",
        "democrats_df = df.loc[df['party'].str[0] == democrats_qid] #People from the democratic party"
      ],
      "id": "KCSItTBh-ae2",
      "execution_count": 6,
      "outputs": []
    },
    {
      "cell_type": "code",
      "metadata": {
        "id": "Hvi_cKv_AGRb",
        "colab": {
          "base_uri": "https://localhost:8080/"
        },
        "outputId": "c5420820-d6a1-43ef-d95f-04ee6af01ab0"
      },
      "source": [
        "# Number of of quotations per qid for republicans\n",
        "n_quotes_per_qid_repub = republicans_df.groupby(['qids'])['quotationCounts'].mean()\n",
        "n_quotes_per_qid_repub.describe()"
      ],
      "id": "Hvi_cKv_AGRb",
      "execution_count": 7,
      "outputs": [
        {
          "output_type": "execute_result",
          "data": {
            "text/plain": [
              "count     7927.000000\n",
              "mean       318.935789\n",
              "std       1496.761344\n",
              "min          1.000000\n",
              "25%         11.000000\n",
              "50%         48.000000\n",
              "75%        177.000000\n",
              "max      35694.000000\n",
              "Name: quotationCounts, dtype: float64"
            ]
          },
          "metadata": {},
          "execution_count": 7
        }
      ]
    },
    {
      "cell_type": "code",
      "metadata": {
        "id": "3dUsLzmbAdEx",
        "colab": {
          "base_uri": "https://localhost:8080/"
        },
        "outputId": "946367bf-f729-4bd1-c0d7-bcb3486638d7"
      },
      "source": [
        "# Number of of quotations per qid for democrats\n",
        "n_quotes_per_qid_demo = democrats_df.groupby(['qids'])['quotationCounts'].mean()\n",
        "n_quotes_per_qid_demo.describe()"
      ],
      "id": "3dUsLzmbAdEx",
      "execution_count": 8,
      "outputs": [
        {
          "output_type": "execute_result",
          "data": {
            "text/plain": [
              "count      7899.000000\n",
              "mean        349.190657\n",
              "std        1991.496176\n",
              "min           1.000000\n",
              "25%          10.000000\n",
              "50%          49.000000\n",
              "75%         193.000000\n",
              "max      118912.000000\n",
              "Name: quotationCounts, dtype: float64"
            ]
          },
          "metadata": {},
          "execution_count": 8
        }
      ]
    },
    {
      "cell_type": "markdown",
      "metadata": {
        "id": "kxLn6cZ3F9t7"
      },
      "source": [
        "The number of speakers of the Republican party (7927) and the number of speakers of the Democratic party (7899) is almost the same. "
      ],
      "id": "kxLn6cZ3F9t7"
    },
    {
      "cell_type": "code",
      "metadata": {
        "colab": {
          "base_uri": "https://localhost:8080/",
          "height": 530
        },
        "id": "7137bc49",
        "outputId": "7314e02d-cdc8-4412-ca54-bac59976b94f"
      },
      "source": [
        "# Visualize the number of quotations per speaker grouped by Democrats and Republicans\n",
        "fig, axes = plt.subplots(nrows=1, ncols=2, figsize=(12, 8))\n",
        "\n",
        "subplot = axes[0];\n",
        "subplot.hist(np.log10(n_quotes_per_qid_repub), bins = 50, color = 'lightsteelblue')\n",
        "subplot.set_title('Quotations per Speaker (Republican)')\n",
        "subplot.set_xlabel('log 10 Quotation Count')\n",
        "subplot.set_ylabel('Number of Speakers')\n",
        "\n",
        "\n",
        "subplot = axes[1];\n",
        "subplot.hist(np.log10(n_quotes_per_qid_demo), bins = 50, color = 'cornflowerblue')\n",
        "subplot.set_title('Quotations per Speaker (Democrat)')\n",
        "subplot.set_xlabel('log 10 Quotation Count')\n",
        "subplot.set_ylabel('Number of Speakers')\n"
      ],
      "id": "7137bc49",
      "execution_count": 9,
      "outputs": [
        {
          "output_type": "execute_result",
          "data": {
            "text/plain": [
              "Text(0, 0.5, 'Number of Speakers')"
            ]
          },
          "metadata": {},
          "execution_count": 9
        },
        {
          "output_type": "display_data",
          "data": {
            "image/png": "[encoded data removed]",
            "text/plain": [
              "<Figure size 864x576 with 2 Axes>"
            ]
          },
          "metadata": {
            "needs_background": "light"
          }
        }
      ]
    },
    {
      "cell_type": "code",
      "metadata": {
        "colab": {
          "base_uri": "https://localhost:8080/"
        },
        "id": "5db1aa32",
        "outputId": "ba21d897-de50-4185-ea53-34b591be0e8a"
      },
      "source": [
        "# Top speakers of the Democratic Party\n",
        "n_quotes_per_qid_demo.sort_values(ascending=False)"
      ],
      "id": "5db1aa32",
      "execution_count": 10,
      "outputs": [
        {
          "output_type": "execute_result",
          "data": {
            "text/plain": [
              "qids\n",
              "Q76          118912\n",
              "Q6279         42902\n",
              "Q170581       40580\n",
              "Q11673        37313\n",
              "Q434706       36874\n",
              "              ...  \n",
              "Q6134388          1\n",
              "Q6133705          1\n",
              "Q6133121          1\n",
              "Q6132468          1\n",
              "Q16187065         1\n",
              "Name: quotationCounts, Length: 7899, dtype: int64"
            ]
          },
          "metadata": {},
          "execution_count": 10
        }
      ]
    },
    {
      "cell_type": "code",
      "metadata": {
        "colab": {
          "base_uri": "https://localhost:8080/"
        },
        "id": "cb45c4d1",
        "outputId": "2591c495-588f-40d2-8806-7265f68c8913"
      },
      "source": [
        "# Top speakers of the Republican Party\n",
        "n_quotes_per_qid_repub.sort_values(ascending=False)"
      ],
      "id": "cb45c4d1",
      "execution_count": 11,
      "outputs": [
        {
          "output_type": "execute_result",
          "data": {
            "text/plain": [
              "qids\n",
              "Q473239      35694\n",
              "Q24313       35650\n",
              "Q22212       35365\n",
              "Q2036942     34682\n",
              "Q324546      32509\n",
              "             ...  \n",
              "Q363976          1\n",
              "Q363972          1\n",
              "Q34911531        1\n",
              "Q3258787         1\n",
              "Q1017083         1\n",
              "Name: quotationCounts, Length: 7927, dtype: int64"
            ]
          },
          "metadata": {},
          "execution_count": 11
        }
      ]
    },
    {
      "cell_type": "code",
      "metadata": {
        "colab": {
          "base_uri": "https://localhost:8080/",
          "height": 383
        },
        "id": "2xvJmgBtMOhU",
        "outputId": "b14bb747-3a6c-4e96-af9e-4fe4f07c8991"
      },
      "source": [
        "ax = sns.distplot(np.log10(n_quotes_per_qid_demo), hist=True, label='Democrats');\n",
        "ax = sns.distplot(np.log10(n_quotes_per_qid_repub), hist=True, label='Republicans')\n",
        "ax.set(title='Quotations per Speaker (Republican/Democrats)',xlabel='log 10 Number Of Quotes', ylabel='Speakers Density')\n",
        "plt.legend()\n",
        "plt.show()"
      ],
      "id": "2xvJmgBtMOhU",
      "execution_count": 13,
      "outputs": [
        {
          "output_type": "stream",
          "name": "stderr",
          "text": [
            "/usr/local/lib/python3.7/dist-packages/seaborn/distributions.py:2619: FutureWarning: `distplot` is a deprecated function and will be removed in a future version. Please adapt your code to use either `displot` (a figure-level function with similar flexibility) or `histplot` (an axes-level function for histograms).\n",
            "  warnings.warn(msg, FutureWarning)\n",
            "/usr/local/lib/python3.7/dist-packages/seaborn/distributions.py:2619: FutureWarning: `distplot` is a deprecated function and will be removed in a future version. Please adapt your code to use either `displot` (a figure-level function with similar flexibility) or `histplot` (an axes-level function for histograms).\n",
            "  warnings.warn(msg, FutureWarning)\n"
          ]
        },
        {
          "output_type": "display_data",
          "data": {
            "image/png": "[encoded data removed]",
            "text/plain": [
              "<Figure size 432x288 with 1 Axes>"
            ]
          },
          "metadata": {
            "needs_background": "light"
          }
        }
      ]
    },
    {
      "cell_type": "markdown",
      "metadata": {
        "id": "lZgY5Re0IqWb"
      },
      "source": [
        "## **Distribution of Male/Female Speaker within Each Political Party**"
      ],
      "id": "lZgY5Re0IqWb"
    },
    {
      "cell_type": "code",
      "metadata": {
        "colab": {
          "base_uri": "https://localhost:8080/",
          "height": 297
        },
        "id": "NYHa9--48iBa",
        "outputId": "77204028-40a0-460c-e975-73a16dbfd9ac"
      },
      "source": [
        "female_qid = 'Q6581072'\n",
        "male_qid = 'Q6581097'\n",
        "# Let's start with the Republicans\n",
        "repub_females = republicans_df[republicans_df['gender'].str[0] == female_qid ]\n",
        "repub_females.describe()"
      ],
      "id": "NYHa9--48iBa",
      "execution_count": 15,
      "outputs": [
        {
          "output_type": "execute_result",
          "data": {
            "text/html": [
              "<div>\n",
              "<style scoped>\n",
              "    .dataframe tbody tr th:only-of-type {\n",
              "        vertical-align: middle;\n",
              "    }\n",
              "\n",
              "    .dataframe tbody tr th {\n",
              "        vertical-align: top;\n",
              "    }\n",
              "\n",
              "    .dataframe thead th {\n",
              "        text-align: right;\n",
              "    }\n",
              "</style>\n",
              "<table border=\"1\" class=\"dataframe\">\n",
              "  <thead>\n",
              "    <tr style=\"text-align: right;\">\n",
              "      <th></th>\n",
              "      <th>max_probas</th>\n",
              "      <th>quotationCounts</th>\n",
              "    </tr>\n",
              "  </thead>\n",
              "  <tbody>\n",
              "    <tr>\n",
              "      <th>count</th>\n",
              "      <td>418644.000000</td>\n",
              "      <td>418644.000000</td>\n",
              "    </tr>\n",
              "    <tr>\n",
              "      <th>mean</th>\n",
              "      <td>0.795721</td>\n",
              "      <td>4758.786415</td>\n",
              "    </tr>\n",
              "    <tr>\n",
              "      <th>std</th>\n",
              "      <td>0.097809</td>\n",
              "      <td>6093.054274</td>\n",
              "    </tr>\n",
              "    <tr>\n",
              "      <th>min</th>\n",
              "      <td>0.600100</td>\n",
              "      <td>1.000000</td>\n",
              "    </tr>\n",
              "    <tr>\n",
              "      <th>25%</th>\n",
              "      <td>0.717500</td>\n",
              "      <td>451.000000</td>\n",
              "    </tr>\n",
              "    <tr>\n",
              "      <th>50%</th>\n",
              "      <td>0.805500</td>\n",
              "      <td>1723.000000</td>\n",
              "    </tr>\n",
              "    <tr>\n",
              "      <th>75%</th>\n",
              "      <td>0.877500</td>\n",
              "      <td>6763.000000</td>\n",
              "    </tr>\n",
              "    <tr>\n",
              "      <th>max</th>\n",
              "      <td>0.986700</td>\n",
              "      <td>20259.000000</td>\n",
              "    </tr>\n",
              "  </tbody>\n",
              "</table>\n",
              "</div>"
            ],
            "text/plain": [
              "          max_probas  quotationCounts\n",
              "count  418644.000000    418644.000000\n",
              "mean        0.795721      4758.786415\n",
              "std         0.097809      6093.054274\n",
              "min         0.600100         1.000000\n",
              "25%         0.717500       451.000000\n",
              "50%         0.805500      1723.000000\n",
              "75%         0.877500      6763.000000\n",
              "max         0.986700     20259.000000"
            ]
          },
          "metadata": {},
          "execution_count": 15
        }
      ]
    },
    {
      "cell_type": "code",
      "metadata": {
        "colab": {
          "base_uri": "https://localhost:8080/",
          "height": 297
        },
        "id": "KtPqEYTsJWXJ",
        "outputId": "dcab1e5c-8b9c-48fb-a7ff-1f7456879d3b"
      },
      "source": [
        "repub_males = republicans_df[republicans_df['gender'].str[0] == male_qid ]\n",
        "repub_males.describe()"
      ],
      "id": "KtPqEYTsJWXJ",
      "execution_count": 16,
      "outputs": [
        {
          "output_type": "execute_result",
          "data": {
            "text/html": [
              "<div>\n",
              "<style scoped>\n",
              "    .dataframe tbody tr th:only-of-type {\n",
              "        vertical-align: middle;\n",
              "    }\n",
              "\n",
              "    .dataframe tbody tr th {\n",
              "        vertical-align: top;\n",
              "    }\n",
              "\n",
              "    .dataframe thead th {\n",
              "        text-align: right;\n",
              "    }\n",
              "</style>\n",
              "<table border=\"1\" class=\"dataframe\">\n",
              "  <thead>\n",
              "    <tr style=\"text-align: right;\">\n",
              "      <th></th>\n",
              "      <th>max_probas</th>\n",
              "      <th>quotationCounts</th>\n",
              "    </tr>\n",
              "  </thead>\n",
              "  <tbody>\n",
              "    <tr>\n",
              "      <th>count</th>\n",
              "      <td>2.099264e+06</td>\n",
              "      <td>2.099264e+06</td>\n",
              "    </tr>\n",
              "    <tr>\n",
              "      <th>mean</th>\n",
              "      <td>7.965755e-01</td>\n",
              "      <td>7.854988e+03</td>\n",
              "    </tr>\n",
              "    <tr>\n",
              "      <th>std</th>\n",
              "      <td>9.926443e-02</td>\n",
              "      <td>1.058324e+04</td>\n",
              "    </tr>\n",
              "    <tr>\n",
              "      <th>min</th>\n",
              "      <td>6.001000e-01</td>\n",
              "      <td>1.000000e+00</td>\n",
              "    </tr>\n",
              "    <tr>\n",
              "      <th>25%</th>\n",
              "      <td>7.167000e-01</td>\n",
              "      <td>5.750000e+02</td>\n",
              "    </tr>\n",
              "    <tr>\n",
              "      <th>50%</th>\n",
              "      <td>8.052000e-01</td>\n",
              "      <td>2.529000e+03</td>\n",
              "    </tr>\n",
              "    <tr>\n",
              "      <th>75%</th>\n",
              "      <td>8.799000e-01</td>\n",
              "      <td>1.036200e+04</td>\n",
              "    </tr>\n",
              "    <tr>\n",
              "      <th>max</th>\n",
              "      <td>9.941000e-01</td>\n",
              "      <td>3.569400e+04</td>\n",
              "    </tr>\n",
              "  </tbody>\n",
              "</table>\n",
              "</div>"
            ],
            "text/plain": [
              "         max_probas  quotationCounts\n",
              "count  2.099264e+06     2.099264e+06\n",
              "mean   7.965755e-01     7.854988e+03\n",
              "std    9.926443e-02     1.058324e+04\n",
              "min    6.001000e-01     1.000000e+00\n",
              "25%    7.167000e-01     5.750000e+02\n",
              "50%    8.052000e-01     2.529000e+03\n",
              "75%    8.799000e-01     1.036200e+04\n",
              "max    9.941000e-01     3.569400e+04"
            ]
          },
          "metadata": {},
          "execution_count": 16
        }
      ]
    },
    {
      "cell_type": "code",
      "metadata": {
        "colab": {
          "base_uri": "https://localhost:8080/"
        },
        "id": "Wo0zPHBjJpoz",
        "outputId": "46ddda19-8345-4cb7-a9aa-3bfc80da3ee4"
      },
      "source": [
        "female_male_quotes_fraction_repub = len(repub_females)/len(republicans_df)*100\n",
        "print(f'only {female_male_quotes_fraction_repub:.2f} % of the republican quotes are delivered from women')"
      ],
      "id": "Wo0zPHBjJpoz",
      "execution_count": 17,
      "outputs": [
        {
          "output_type": "stream",
          "name": "stdout",
          "text": [
            "only 16.56 % of the republican quotes are delivered from women\n"
          ]
        }
      ]
    },
    {
      "cell_type": "code",
      "metadata": {
        "id": "xPTDqFZRUvoh",
        "colab": {
          "base_uri": "https://localhost:8080/",
          "height": 844
        },
        "outputId": "6d0c59f9-b5e3-4153-fdac-83e5cd6b64f0"
      },
      "source": [
        "# Let's do the same analysis with the democrats\n",
        "democrats_females = democrats_df[democrats_df['gender'].str[0] == female_qid ]\n",
        "democrats_females"
      ],
      "id": "xPTDqFZRUvoh",
      "execution_count": 18,
      "outputs": [
        {
          "output_type": "execute_result",
          "data": {
            "text/html": [
              "<div>\n",
              "<style scoped>\n",
              "    .dataframe tbody tr th:only-of-type {\n",
              "        vertical-align: middle;\n",
              "    }\n",
              "\n",
              "    .dataframe tbody tr th {\n",
              "        vertical-align: top;\n",
              "    }\n",
              "\n",
              "    .dataframe thead th {\n",
              "        text-align: right;\n",
              "    }\n",
              "</style>\n",
              "<table border=\"1\" class=\"dataframe\">\n",
              "  <thead>\n",
              "    <tr style=\"text-align: right;\">\n",
              "      <th></th>\n",
              "      <th>quoteID</th>\n",
              "      <th>quotation</th>\n",
              "      <th>speaker</th>\n",
              "      <th>qids</th>\n",
              "      <th>probas</th>\n",
              "      <th>gender</th>\n",
              "      <th>occupation</th>\n",
              "      <th>party</th>\n",
              "      <th>max_prob_speaker</th>\n",
              "      <th>max_probas</th>\n",
              "      <th>Diff</th>\n",
              "      <th>quotationCounts</th>\n",
              "    </tr>\n",
              "  </thead>\n",
              "  <tbody>\n",
              "    <tr>\n",
              "      <th>124</th>\n",
              "      <td>2020-01-11-002445</td>\n",
              "      <td>And help he always did. For someone who prefer...</td>\n",
              "      <td>Anna Wintour</td>\n",
              "      <td>Q230744</td>\n",
              "      <td>[[Anna Wintour, 0.9198], [None, 0.0802]]</td>\n",
              "      <td>[Q6581072]</td>\n",
              "      <td>[Q1930187, Q5436767, Q36180, Q1607826]</td>\n",
              "      <td>[Q29552]</td>\n",
              "      <td>Anna Wintour</td>\n",
              "      <td>0.9198</td>\n",
              "      <td>1</td>\n",
              "      <td>1809</td>\n",
              "    </tr>\n",
              "    <tr>\n",
              "      <th>125</th>\n",
              "      <td>2020-04-06-004609</td>\n",
              "      <td>As we are learning from health officials, this...</td>\n",
              "      <td>Anna Wintour</td>\n",
              "      <td>Q230744</td>\n",
              "      <td>[[Anna Wintour, 0.8864], [None, 0.0901], [Chan...</td>\n",
              "      <td>[Q6581072]</td>\n",
              "      <td>[Q1930187, Q5436767, Q36180, Q1607826]</td>\n",
              "      <td>[Q29552]</td>\n",
              "      <td>Anna Wintour</td>\n",
              "      <td>0.8864</td>\n",
              "      <td>1</td>\n",
              "      <td>1809</td>\n",
              "    </tr>\n",
              "    <tr>\n",
              "      <th>127</th>\n",
              "      <td>2020-03-16-057162</td>\n",
              "      <td>The Museum will remain closed through Saturday...</td>\n",
              "      <td>Anna Wintour</td>\n",
              "      <td>Q230744</td>\n",
              "      <td>[[Anna Wintour, 0.7464], [None, 0.2536]]</td>\n",
              "      <td>[Q6581072]</td>\n",
              "      <td>[Q1930187, Q5436767, Q36180, Q1607826]</td>\n",
              "      <td>[Q29552]</td>\n",
              "      <td>Anna Wintour</td>\n",
              "      <td>0.7464</td>\n",
              "      <td>1</td>\n",
              "      <td>1809</td>\n",
              "    </tr>\n",
              "    <tr>\n",
              "      <th>128</th>\n",
              "      <td>2020-03-16-022059</td>\n",
              "      <td>I have been impressed with the wider field of ...</td>\n",
              "      <td>Anna Wintour</td>\n",
              "      <td>Q230744</td>\n",
              "      <td>[[Anna Wintour, 0.6585], [None, 0.2532], [MICH...</td>\n",
              "      <td>[Q6581072]</td>\n",
              "      <td>[Q1930187, Q5436767, Q36180, Q1607826]</td>\n",
              "      <td>[Q29552]</td>\n",
              "      <td>Anna Wintour</td>\n",
              "      <td>0.6585</td>\n",
              "      <td>1</td>\n",
              "      <td>1809</td>\n",
              "    </tr>\n",
              "    <tr>\n",
              "      <th>129</th>\n",
              "      <td>2020-01-23-005418</td>\n",
              "      <td>And I think we've come to a time where we are ...</td>\n",
              "      <td>Sheila Oliver</td>\n",
              "      <td>Q7493177</td>\n",
              "      <td>[[Sheila Oliver, 0.9228], [None, 0.0772]]</td>\n",
              "      <td>[Q6581072]</td>\n",
              "      <td>[Q82955]</td>\n",
              "      <td>[Q29552]</td>\n",
              "      <td>Sheila Oliver</td>\n",
              "      <td>0.9228</td>\n",
              "      <td>1</td>\n",
              "      <td>598</td>\n",
              "    </tr>\n",
              "    <tr>\n",
              "      <th>...</th>\n",
              "      <td>...</td>\n",
              "      <td>...</td>\n",
              "      <td>...</td>\n",
              "      <td>...</td>\n",
              "      <td>...</td>\n",
              "      <td>...</td>\n",
              "      <td>...</td>\n",
              "      <td>...</td>\n",
              "      <td>...</td>\n",
              "      <td>...</td>\n",
              "      <td>...</td>\n",
              "      <td>...</td>\n",
              "    </tr>\n",
              "    <tr>\n",
              "      <th>7681407</th>\n",
              "      <td>2015-09-21-002169</td>\n",
              "      <td>a fun night. It's really a pleasure. I'm proud...</td>\n",
              "      <td>RoseLee Vincent</td>\n",
              "      <td>Q16886353</td>\n",
              "      <td>[[RoseLee Vincent, 0.6406], [None, 0.3054], [D...</td>\n",
              "      <td>[Q6581072]</td>\n",
              "      <td>[Q82955]</td>\n",
              "      <td>[Q29552]</td>\n",
              "      <td>RoseLee Vincent</td>\n",
              "      <td>0.6406</td>\n",
              "      <td>1</td>\n",
              "      <td>292</td>\n",
              "    </tr>\n",
              "    <tr>\n",
              "      <th>7681424</th>\n",
              "      <td>2015-04-28-005974</td>\n",
              "      <td>But I think the important thing about our case...</td>\n",
              "      <td>Dana Nessel</td>\n",
              "      <td>Q58333624</td>\n",
              "      <td>[[Dana Nessel, 0.8034], [None, 0.1966]]</td>\n",
              "      <td>[Q6581072]</td>\n",
              "      <td>[Q82955]</td>\n",
              "      <td>[Q29552]</td>\n",
              "      <td>Dana Nessel</td>\n",
              "      <td>0.8034</td>\n",
              "      <td>1</td>\n",
              "      <td>2002</td>\n",
              "    </tr>\n",
              "    <tr>\n",
              "      <th>7681436</th>\n",
              "      <td>2015-03-04-018543</td>\n",
              "      <td>For the sake of those people who are taking ca...</td>\n",
              "      <td>Jessyn Farrell</td>\n",
              "      <td>Q6187944</td>\n",
              "      <td>[[Jessyn Farrell, 0.8084], [None, 0.115], [Liz...</td>\n",
              "      <td>[Q6581072]</td>\n",
              "      <td>[Q82955]</td>\n",
              "      <td>[Q29552]</td>\n",
              "      <td>Jessyn Farrell</td>\n",
              "      <td>0.8084</td>\n",
              "      <td>1</td>\n",
              "      <td>201</td>\n",
              "    </tr>\n",
              "    <tr>\n",
              "      <th>7681439</th>\n",
              "      <td>2015-10-17-014629</td>\n",
              "      <td>He [ Hansen ] was writing that grant while he ...</td>\n",
              "      <td>Teresa Fedor</td>\n",
              "      <td>Q7702134</td>\n",
              "      <td>[[Teresa Fedor, 0.7461], [None, 0.1156], [Rich...</td>\n",
              "      <td>[Q6581072]</td>\n",
              "      <td>[Q82955]</td>\n",
              "      <td>[Q29552]</td>\n",
              "      <td>Teresa Fedor</td>\n",
              "      <td>0.7461</td>\n",
              "      <td>1</td>\n",
              "      <td>297</td>\n",
              "    </tr>\n",
              "    <tr>\n",
              "      <th>7681442</th>\n",
              "      <td>2015-08-09-015594</td>\n",
              "      <td>Higher education should be a path to shared pr...</td>\n",
              "      <td>Tammy Baldwin</td>\n",
              "      <td>Q40628</td>\n",
              "      <td>[[Tammy Baldwin, 0.8135], [None, 0.1736], [Pre...</td>\n",
              "      <td>[Q6581072]</td>\n",
              "      <td>[Q82955, Q40348]</td>\n",
              "      <td>[Q29552]</td>\n",
              "      <td>Tammy Baldwin</td>\n",
              "      <td>0.8135</td>\n",
              "      <td>1</td>\n",
              "      <td>3633</td>\n",
              "    </tr>\n",
              "  </tbody>\n",
              "</table>\n",
              "<p>951601 rows × 12 columns</p>\n",
              "</div>"
            ],
            "text/plain": [
              "                   quoteID  ... quotationCounts\n",
              "124      2020-01-11-002445  ...            1809\n",
              "125      2020-04-06-004609  ...            1809\n",
              "127      2020-03-16-057162  ...            1809\n",
              "128      2020-03-16-022059  ...            1809\n",
              "129      2020-01-23-005418  ...             598\n",
              "...                    ...  ...             ...\n",
              "7681407  2015-09-21-002169  ...             292\n",
              "7681424  2015-04-28-005974  ...            2002\n",
              "7681436  2015-03-04-018543  ...             201\n",
              "7681439  2015-10-17-014629  ...             297\n",
              "7681442  2015-08-09-015594  ...            3633\n",
              "\n",
              "[951601 rows x 12 columns]"
            ]
          },
          "metadata": {},
          "execution_count": 18
        }
      ]
    },
    {
      "cell_type": "code",
      "metadata": {
        "id": "-ifnF1PmJ82_",
        "colab": {
          "base_uri": "https://localhost:8080/",
          "height": 776
        },
        "outputId": "a844dfb2-24d0-4bf6-c7af-fda4f81c14fc"
      },
      "source": [
        "democrats_males = democrats_df[democrats_df['gender'].str[0] == male_qid ]\n",
        "democrats_males"
      ],
      "id": "-ifnF1PmJ82_",
      "execution_count": 19,
      "outputs": [
        {
          "output_type": "execute_result",
          "data": {
            "text/html": [
              "<div>\n",
              "<style scoped>\n",
              "    .dataframe tbody tr th:only-of-type {\n",
              "        vertical-align: middle;\n",
              "    }\n",
              "\n",
              "    .dataframe tbody tr th {\n",
              "        vertical-align: top;\n",
              "    }\n",
              "\n",
              "    .dataframe thead th {\n",
              "        text-align: right;\n",
              "    }\n",
              "</style>\n",
              "<table border=\"1\" class=\"dataframe\">\n",
              "  <thead>\n",
              "    <tr style=\"text-align: right;\">\n",
              "      <th></th>\n",
              "      <th>quoteID</th>\n",
              "      <th>quotation</th>\n",
              "      <th>speaker</th>\n",
              "      <th>qids</th>\n",
              "      <th>probas</th>\n",
              "      <th>gender</th>\n",
              "      <th>occupation</th>\n",
              "      <th>party</th>\n",
              "      <th>max_prob_speaker</th>\n",
              "      <th>max_probas</th>\n",
              "      <th>Diff</th>\n",
              "      <th>quotationCounts</th>\n",
              "    </tr>\n",
              "  </thead>\n",
              "  <tbody>\n",
              "    <tr>\n",
              "      <th>9</th>\n",
              "      <td>2020-01-26-000499</td>\n",
              "      <td>a few of the candidates who will do better in ...</td>\n",
              "      <td>Dave Loebsack</td>\n",
              "      <td>Q771586</td>\n",
              "      <td>[[Dave Loebsack, 0.9011], [None, 0.0949], [Joe...</td>\n",
              "      <td>[Q6581097]</td>\n",
              "      <td>[Q82955, Q1622272, Q1238570]</td>\n",
              "      <td>[Q29552]</td>\n",
              "      <td>Dave Loebsack</td>\n",
              "      <td>0.9011</td>\n",
              "      <td>1</td>\n",
              "      <td>1113</td>\n",
              "    </tr>\n",
              "    <tr>\n",
              "      <th>10</th>\n",
              "      <td>2020-01-26-040663</td>\n",
              "      <td>The generational thing is important, quite hon...</td>\n",
              "      <td>Dave Loebsack</td>\n",
              "      <td>Q771586</td>\n",
              "      <td>[[Dave Loebsack, 0.7419], [None, 0.2133], [Pet...</td>\n",
              "      <td>[Q6581097]</td>\n",
              "      <td>[Q82955, Q1622272, Q1238570]</td>\n",
              "      <td>[Q29552]</td>\n",
              "      <td>Dave Loebsack</td>\n",
              "      <td>0.7419</td>\n",
              "      <td>1</td>\n",
              "      <td>1113</td>\n",
              "    </tr>\n",
              "    <tr>\n",
              "      <th>14</th>\n",
              "      <td>2020-01-30-029113</td>\n",
              "      <td>I actually believe that we do need to change t...</td>\n",
              "      <td>Julián Castro</td>\n",
              "      <td>Q970720</td>\n",
              "      <td>[[Julián Castro, 0.9028], [None, 0.0972]]</td>\n",
              "      <td>[Q6581097]</td>\n",
              "      <td>[Q82955, Q40348]</td>\n",
              "      <td>[Q29552]</td>\n",
              "      <td>Julián Castro</td>\n",
              "      <td>0.9028</td>\n",
              "      <td>1</td>\n",
              "      <td>6947</td>\n",
              "    </tr>\n",
              "    <tr>\n",
              "      <th>16</th>\n",
              "      <td>2020-01-06-052782</td>\n",
              "      <td>She has got a great team over there. She is fa...</td>\n",
              "      <td>Julián Castro</td>\n",
              "      <td>Q970720</td>\n",
              "      <td>[[Julián Castro, 0.6826], [None, 0.1977], [Eli...</td>\n",
              "      <td>[Q6581097]</td>\n",
              "      <td>[Q82955, Q40348]</td>\n",
              "      <td>[Q29552]</td>\n",
              "      <td>Julián Castro</td>\n",
              "      <td>0.6826</td>\n",
              "      <td>1</td>\n",
              "      <td>6947</td>\n",
              "    </tr>\n",
              "    <tr>\n",
              "      <th>17</th>\n",
              "      <td>2020-01-05-025623</td>\n",
              "      <td>Obviously, a message that some people responde...</td>\n",
              "      <td>Julián Castro</td>\n",
              "      <td>Q970720</td>\n",
              "      <td>[[Julián Castro, 0.8279], [None, 0.1651], [Ber...</td>\n",
              "      <td>[Q6581097]</td>\n",
              "      <td>[Q82955, Q40348]</td>\n",
              "      <td>[Q29552]</td>\n",
              "      <td>Julián Castro</td>\n",
              "      <td>0.8279</td>\n",
              "      <td>1</td>\n",
              "      <td>6947</td>\n",
              "    </tr>\n",
              "    <tr>\n",
              "      <th>...</th>\n",
              "      <td>...</td>\n",
              "      <td>...</td>\n",
              "      <td>...</td>\n",
              "      <td>...</td>\n",
              "      <td>...</td>\n",
              "      <td>...</td>\n",
              "      <td>...</td>\n",
              "      <td>...</td>\n",
              "      <td>...</td>\n",
              "      <td>...</td>\n",
              "      <td>...</td>\n",
              "      <td>...</td>\n",
              "    </tr>\n",
              "    <tr>\n",
              "      <th>7681426</th>\n",
              "      <td>2015-09-09-015309</td>\n",
              "      <td>Clearly, we must continue working to eliminate...</td>\n",
              "      <td>Tom Torlakson</td>\n",
              "      <td>Q7817857</td>\n",
              "      <td>[[Tom Torlakson, 0.7516], [None, 0.2484]]</td>\n",
              "      <td>[Q6581097]</td>\n",
              "      <td>[Q82955]</td>\n",
              "      <td>[Q29552]</td>\n",
              "      <td>Tom Torlakson</td>\n",
              "      <td>0.7516</td>\n",
              "      <td>1</td>\n",
              "      <td>1008</td>\n",
              "    </tr>\n",
              "    <tr>\n",
              "      <th>7681427</th>\n",
              "      <td>2015-12-14-014287</td>\n",
              "      <td>Comfortable and Fair Flights Act of 2015,</td>\n",
              "      <td>Dan Lipinski</td>\n",
              "      <td>Q518424</td>\n",
              "      <td>[[Dan Lipinski, 0.809], [None, 0.191]]</td>\n",
              "      <td>[Q6581097]</td>\n",
              "      <td>[Q82955, Q1622272, Q1622272, Q1622272]</td>\n",
              "      <td>[Q29552]</td>\n",
              "      <td>Dan Lipinski</td>\n",
              "      <td>0.8090</td>\n",
              "      <td>1</td>\n",
              "      <td>820</td>\n",
              "    </tr>\n",
              "    <tr>\n",
              "      <th>7681435</th>\n",
              "      <td>2015-03-25-018635</td>\n",
              "      <td>For the sake of safety, commerce, and recreati...</td>\n",
              "      <td>Sanford Bishop</td>\n",
              "      <td>Q983428</td>\n",
              "      <td>[[Sanford Bishop, 0.657], [None, 0.2482], [Mar...</td>\n",
              "      <td>[Q6581097]</td>\n",
              "      <td>[Q82955, Q40348]</td>\n",
              "      <td>[Q29552]</td>\n",
              "      <td>Sanford Bishop</td>\n",
              "      <td>0.6570</td>\n",
              "      <td>1</td>\n",
              "      <td>425</td>\n",
              "    </tr>\n",
              "    <tr>\n",
              "      <th>7681438</th>\n",
              "      <td>2015-03-14-008824</td>\n",
              "      <td>From the beginning, the whole issue has had hi...</td>\n",
              "      <td>Jamie Raskin</td>\n",
              "      <td>Q640835</td>\n",
              "      <td>[[Jamie Raskin, 0.661], [None, 0.2843], [Jim O...</td>\n",
              "      <td>[Q6581097]</td>\n",
              "      <td>[Q82955, Q1622272]</td>\n",
              "      <td>[Q29552]</td>\n",
              "      <td>Jamie Raskin</td>\n",
              "      <td>0.6610</td>\n",
              "      <td>1</td>\n",
              "      <td>2276</td>\n",
              "    </tr>\n",
              "    <tr>\n",
              "      <th>7681440</th>\n",
              "      <td>2015-06-19-015086</td>\n",
              "      <td>help stop profitable multinationals from engag...</td>\n",
              "      <td>Carl Levin</td>\n",
              "      <td>Q444652</td>\n",
              "      <td>[[Carl Levin, 0.8162], [None, 0.1838]]</td>\n",
              "      <td>[Q6581097]</td>\n",
              "      <td>[Q82955, Q40348]</td>\n",
              "      <td>[Q29552]</td>\n",
              "      <td>Carl Levin</td>\n",
              "      <td>0.8162</td>\n",
              "      <td>1</td>\n",
              "      <td>281</td>\n",
              "    </tr>\n",
              "  </tbody>\n",
              "</table>\n",
              "<p>1790005 rows × 12 columns</p>\n",
              "</div>"
            ],
            "text/plain": [
              "                   quoteID  ... quotationCounts\n",
              "9        2020-01-26-000499  ...            1113\n",
              "10       2020-01-26-040663  ...            1113\n",
              "14       2020-01-30-029113  ...            6947\n",
              "16       2020-01-06-052782  ...            6947\n",
              "17       2020-01-05-025623  ...            6947\n",
              "...                    ...  ...             ...\n",
              "7681426  2015-09-09-015309  ...            1008\n",
              "7681427  2015-12-14-014287  ...             820\n",
              "7681435  2015-03-25-018635  ...             425\n",
              "7681438  2015-03-14-008824  ...            2276\n",
              "7681440  2015-06-19-015086  ...             281\n",
              "\n",
              "[1790005 rows x 12 columns]"
            ]
          },
          "metadata": {},
          "execution_count": 19
        }
      ]
    },
    {
      "cell_type": "code",
      "metadata": {
        "colab": {
          "base_uri": "https://localhost:8080/"
        },
        "id": "wxhk-c6JLYLN",
        "outputId": "5cf7db30-fd9a-4b45-96ce-f0c04ea63c88"
      },
      "source": [
        "female_male_quotes_fraction_demo = len(democrats_females)/len(democrats_df)*100\n",
        "print(f' {female_male_quotes_fraction_demo:.2f} % of the democrats quotes are delivered from women')"
      ],
      "id": "wxhk-c6JLYLN",
      "execution_count": 20,
      "outputs": [
        {
          "output_type": "stream",
          "name": "stdout",
          "text": [
            " 34.50 % of the democrats quotes are delivered from women\n"
          ]
        }
      ]
    },
    {
      "cell_type": "code",
      "metadata": {
        "id": "IDXn_OdKRZQ5"
      },
      "source": [
        "n_quotes_female_per_qid_demo = democrats_females.groupby(['qids'])['quotationCounts'].mean()\n",
        "n_quotes_female_per_qid_repub = repub_females.groupby(['qids'])['quotationCounts'].mean()\n",
        "n_quotes_male_per_qid_demo = democrats_males.groupby(['qids'])['quotationCounts'].mean()\n",
        "n_quotes_male_per_qid_repub = repub_males.groupby(['qids'])['quotationCounts'].mean()"
      ],
      "id": "IDXn_OdKRZQ5",
      "execution_count": 21,
      "outputs": []
    },
    {
      "cell_type": "code",
      "metadata": {
        "colab": {
          "base_uri": "https://localhost:8080/"
        },
        "id": "zo1VVFecVB42",
        "outputId": "0c52b207-dc16-4bc2-bf87-52ffc16998ef"
      },
      "source": [
        "n_quotes_female_per_qid_demo.describe()"
      ],
      "id": "zo1VVFecVB42",
      "execution_count": 22,
      "outputs": [
        {
          "output_type": "execute_result",
          "data": {
            "text/plain": [
              "count     2601.000000\n",
              "mean       365.859669\n",
              "std       1532.438884\n",
              "min          1.000000\n",
              "25%         14.000000\n",
              "50%         63.000000\n",
              "75%        219.000000\n",
              "max      40580.000000\n",
              "Name: quotationCounts, dtype: float64"
            ]
          },
          "metadata": {},
          "execution_count": 22
        }
      ]
    },
    {
      "cell_type": "code",
      "metadata": {
        "colab": {
          "base_uri": "https://localhost:8080/"
        },
        "id": "T5N_HY30VUkB",
        "outputId": "c36463be-f6ec-43c4-f5c0-979417966f1e"
      },
      "source": [
        "n_quotes_female_per_qid_repub.describe()"
      ],
      "id": "T5N_HY30VUkB",
      "execution_count": 23,
      "outputs": [
        {
          "output_type": "execute_result",
          "data": {
            "text/plain": [
              "count     1534.000000\n",
              "mean       272.910039\n",
              "std       1106.814930\n",
              "min          1.000000\n",
              "25%         11.000000\n",
              "50%         48.000000\n",
              "75%        167.000000\n",
              "max      20259.000000\n",
              "Name: quotationCounts, dtype: float64"
            ]
          },
          "metadata": {},
          "execution_count": 23
        }
      ]
    },
    {
      "cell_type": "code",
      "metadata": {
        "colab": {
          "base_uri": "https://localhost:8080/",
          "height": 729
        },
        "id": "w7WB7OT7Qi2g",
        "outputId": "56b0c4e2-e1a8-46a7-df05-e512c706ab7b"
      },
      "source": [
        "# Visualize quotations per speaker by same gender and different party\n",
        "ax = sns.distplot(np.log10(n_quotes_female_per_qid_demo), hist=True, label='Female Democrats');\n",
        "ax = sns.distplot(np.log10(n_quotes_female_per_qid_repub), hist=True, label='Female Republicans')\n",
        "ax.set(title='Quotations per Female Speaker (Republican/Democrats)',xlabel='log 10 Number of Quotes', ylabel='Speakers Density')\n",
        "plt.legend()\n",
        "plt.show()\n",
        "\n",
        "ax2 = sns.distplot(np.log10(n_quotes_male_per_qid_demo), hist=True, label='Male Democrats');\n",
        "ax2 = sns.distplot(np.log10(n_quotes_male_per_qid_repub), hist=True, label='Male Republicans')\n",
        "ax2.set(title='Quotations per Male Speaker (Republican/Democrats)',xlabel='log 10 Number of Quotes', ylabel='Speakers Density')\n",
        "plt.legend()\n",
        "plt.show()"
      ],
      "id": "w7WB7OT7Qi2g",
      "execution_count": 28,
      "outputs": [
        {
          "output_type": "stream",
          "name": "stderr",
          "text": [
            "/usr/local/lib/python3.7/dist-packages/seaborn/distributions.py:2619: FutureWarning: `distplot` is a deprecated function and will be removed in a future version. Please adapt your code to use either `displot` (a figure-level function with similar flexibility) or `histplot` (an axes-level function for histograms).\n",
            "  warnings.warn(msg, FutureWarning)\n",
            "/usr/local/lib/python3.7/dist-packages/seaborn/distributions.py:2619: FutureWarning: `distplot` is a deprecated function and will be removed in a future version. Please adapt your code to use either `displot` (a figure-level function with similar flexibility) or `histplot` (an axes-level function for histograms).\n",
            "  warnings.warn(msg, FutureWarning)\n"
          ]
        },
        {
          "output_type": "display_data",
          "data": {
            "image/png": "[encoded data removed]",
            "text/plain": [
              "<Figure size 432x288 with 1 Axes>"
            ]
          },
          "metadata": {
            "needs_background": "light"
          }
        },
        {
          "output_type": "stream",
          "name": "stderr",
          "text": [
            "/usr/local/lib/python3.7/dist-packages/seaborn/distributions.py:2619: FutureWarning: `distplot` is a deprecated function and will be removed in a future version. Please adapt your code to use either `displot` (a figure-level function with similar flexibility) or `histplot` (an axes-level function for histograms).\n",
            "  warnings.warn(msg, FutureWarning)\n",
            "/usr/local/lib/python3.7/dist-packages/seaborn/distributions.py:2619: FutureWarning: `distplot` is a deprecated function and will be removed in a future version. Please adapt your code to use either `displot` (a figure-level function with similar flexibility) or `histplot` (an axes-level function for histograms).\n",
            "  warnings.warn(msg, FutureWarning)\n"
          ]
        },
        {
          "output_type": "display_data",
          "data": {
            "image/png": "[encoded data removed]",
            "text/plain": [
              "<Figure size 432x288 with 1 Axes>"
            ]
          },
          "metadata": {
            "needs_background": "light"
          }
        }
      ]
    },
    {
      "cell_type": "code",
      "metadata": {
        "colab": {
          "base_uri": "https://localhost:8080/",
          "height": 729
        },
        "id": "Dda2OD-IR7fm",
        "outputId": "f52251de-72b5-4189-b4ae-207bb9e88b1a"
      },
      "source": [
        "# Visualize quotations per speaker by different gender and same party\n",
        "ax = sns.distplot(np.log10(n_quotes_male_per_qid_repub), hist=True, label='Male Republicans');\n",
        "axes = sns.distplot(np.log10(n_quotes_female_per_qid_repub), hist=True, label='Female Republicans')\n",
        "ax.set(title='Quotations per Republican Republican Speaker (Female/Male)',xlabel='log 10 Number of Quotes', ylabel='Speakers Density')\n",
        "plt.legend()\n",
        "plt.show()\n",
        "ax2 = sns.distplot(np.log10(n_quotes_male_per_qid_demo), hist=True, label='Male Democrats');\n",
        "ax2 = sns.distplot(np.log10(n_quotes_female_per_qid_demo), hist=True, label='Female Democrats')\n",
        "ax2.set(title='Quotations per Democrats Speaker (Female/Male)',xlabel='log 10 Number of Quotes', ylabel='Speakers Density')\n",
        "plt.legend()\n",
        "plt.show()"
      ],
      "id": "Dda2OD-IR7fm",
      "execution_count": 29,
      "outputs": [
        {
          "output_type": "stream",
          "name": "stderr",
          "text": [
            "/usr/local/lib/python3.7/dist-packages/seaborn/distributions.py:2619: FutureWarning: `distplot` is a deprecated function and will be removed in a future version. Please adapt your code to use either `displot` (a figure-level function with similar flexibility) or `histplot` (an axes-level function for histograms).\n",
            "  warnings.warn(msg, FutureWarning)\n",
            "/usr/local/lib/python3.7/dist-packages/seaborn/distributions.py:2619: FutureWarning: `distplot` is a deprecated function and will be removed in a future version. Please adapt your code to use either `displot` (a figure-level function with similar flexibility) or `histplot` (an axes-level function for histograms).\n",
            "  warnings.warn(msg, FutureWarning)\n"
          ]
        },
        {
          "output_type": "display_data",
          "data": {
            "image/png": "[encoded data removed]",
            "text/plain": [
              "<Figure size 432x288 with 1 Axes>"
            ]
          },
          "metadata": {
            "needs_background": "light"
          }
        },
        {
          "output_type": "stream",
          "name": "stderr",
          "text": [
            "/usr/local/lib/python3.7/dist-packages/seaborn/distributions.py:2619: FutureWarning: `distplot` is a deprecated function and will be removed in a future version. Please adapt your code to use either `displot` (a figure-level function with similar flexibility) or `histplot` (an axes-level function for histograms).\n",
            "  warnings.warn(msg, FutureWarning)\n",
            "/usr/local/lib/python3.7/dist-packages/seaborn/distributions.py:2619: FutureWarning: `distplot` is a deprecated function and will be removed in a future version. Please adapt your code to use either `displot` (a figure-level function with similar flexibility) or `histplot` (an axes-level function for histograms).\n",
            "  warnings.warn(msg, FutureWarning)\n"
          ]
        },
        {
          "output_type": "display_data",
          "data": {
            "image/png": "[encoded data removed]",
            "text/plain": [
              "<Figure size 432x288 with 1 Axes>"
            ]
          },
          "metadata": {
            "needs_background": "light"
          }
        }
      ]
    },
    {
      "cell_type": "markdown",
      "metadata": {
        "id": "EZyPIvuhe9o0"
      },
      "source": [
        "## **How to Extract Information From qid**\n"
      ],
      "id": "EZyPIvuhe9o0"
    },
    {
      "cell_type": "code",
      "metadata": {
        "id": "BfAHaniUaAXe"
      },
      "source": [
        "# Extract information from qid\n",
        "# from qwikidata.linked_data_interface import get_entity_dict_from_api\n",
        "def extract_value_from_qid(qid):\n",
        "  '''\n",
        "  qid = string\n",
        "  '''\n",
        "  q_dict = get_entity_dict_from_api(qid)\n",
        "  return q_dict['aliases']['en'][0]['value']"
      ],
      "id": "BfAHaniUaAXe",
      "execution_count": null,
      "outputs": []
    },
    {
      "cell_type": "code",
      "metadata": {
        "colab": {
          "base_uri": "https://localhost:8080/",
          "height": 37
        },
        "id": "d-m374-obD1Y",
        "outputId": "5a899d9e-797c-4055-f571-0abd93f40821"
      },
      "source": [
        "extract_value_from_qid(female_qid)"
      ],
      "id": "d-m374-obD1Y",
      "execution_count": null,
      "outputs": [
        {
          "output_type": "execute_result",
          "data": {
            "application/vnd.google.colaboratory.intrinsic+json": {
              "type": "string"
            },
            "text/plain": [
              "'woman'"
            ]
          },
          "metadata": {},
          "execution_count": 108
        }
      ]
    },
    {
      "cell_type": "markdown",
      "metadata": {
        "id": "yoMksPR-ioGp"
      },
      "source": [
        "## Sample Topic: **Climate Change**"
      ],
      "id": "yoMksPR-ioGp"
    },
    {
      "cell_type": "code",
      "metadata": {
        "id": "djoI33K33kek"
      },
      "source": [
        "# Only get quotes that contain key vocabulary related to climate change\n",
        "# Vocabulary list extracted from https://www.health.state.mn.us/communities/environment/climate/docs/film/vocab_list.pdf\n",
        "df['climate_change_voc'] = df['quotation'].str.findall('climate change|ecosystem|habitat|atmosphere|weather|precipitation|climate|global climate|\\\n",
        "fossil fuel|coal|oil|natural gas|greenhouse gas|water vapor|carbon dioxide|methane|ozone|ultraviolet radioation|greenhouse effect|global warming|\\\n",
        "adaptation|mitigation|carbon footprint|renewable resource|extreme weather event|drought|infectious disease|invasive species|pollutant|allergen|asthma', flags=re.IGNORECASE)"
      ],
      "id": "djoI33K33kek",
      "execution_count": 32,
      "outputs": []
    },
    {
      "cell_type": "code",
      "metadata": {
        "colab": {
          "base_uri": "https://localhost:8080/",
          "height": 1000
        },
        "id": "e3DUjTuP4aD0",
        "outputId": "31274527-70fb-4e05-b596-14cbfb2fd362"
      },
      "source": [
        "df_climate_change = df[df['climate_change_voc'].apply(lambda x: len(x)) > 0]\n",
        "df_climate_change"
      ],
      "id": "e3DUjTuP4aD0",
      "execution_count": 33,
      "outputs": [
        {
          "output_type": "execute_result",
          "data": {
            "text/html": [
              "<div>\n",
              "<style scoped>\n",
              "    .dataframe tbody tr th:only-of-type {\n",
              "        vertical-align: middle;\n",
              "    }\n",
              "\n",
              "    .dataframe tbody tr th {\n",
              "        vertical-align: top;\n",
              "    }\n",
              "\n",
              "    .dataframe thead th {\n",
              "        text-align: right;\n",
              "    }\n",
              "</style>\n",
              "<table border=\"1\" class=\"dataframe\">\n",
              "  <thead>\n",
              "    <tr style=\"text-align: right;\">\n",
              "      <th></th>\n",
              "      <th>quoteID</th>\n",
              "      <th>quotation</th>\n",
              "      <th>speaker</th>\n",
              "      <th>qids</th>\n",
              "      <th>probas</th>\n",
              "      <th>gender</th>\n",
              "      <th>occupation</th>\n",
              "      <th>party</th>\n",
              "      <th>max_prob_speaker</th>\n",
              "      <th>max_probas</th>\n",
              "      <th>Diff</th>\n",
              "      <th>quotationCounts</th>\n",
              "      <th>climate_change_voc</th>\n",
              "    </tr>\n",
              "  </thead>\n",
              "  <tbody>\n",
              "    <tr>\n",
              "      <th>17</th>\n",
              "      <td>2020-01-05-025623</td>\n",
              "      <td>Obviously, a message that some people responde...</td>\n",
              "      <td>Julián Castro</td>\n",
              "      <td>Q970720</td>\n",
              "      <td>[[Julián Castro, 0.8279], [None, 0.1651], [Ber...</td>\n",
              "      <td>[Q6581097]</td>\n",
              "      <td>[Q82955, Q40348]</td>\n",
              "      <td>[Q29552]</td>\n",
              "      <td>Julián Castro</td>\n",
              "      <td>0.8279</td>\n",
              "      <td>1</td>\n",
              "      <td>6947</td>\n",
              "      <td>[ecosystem]</td>\n",
              "    </tr>\n",
              "    <tr>\n",
              "      <th>38</th>\n",
              "      <td>2020-03-27-028836</td>\n",
              "      <td>is poised to reverse course on state climate p...</td>\n",
              "      <td>Gavin Newsom</td>\n",
              "      <td>Q461391</td>\n",
              "      <td>[[Gavin Newsom, 0.7522], [None, 0.2478]]</td>\n",
              "      <td>[Q6581097]</td>\n",
              "      <td>[Q82955, Q3427922, Q43845]</td>\n",
              "      <td>[Q29552]</td>\n",
              "      <td>Gavin Newsom</td>\n",
              "      <td>0.7522</td>\n",
              "      <td>1</td>\n",
              "      <td>12705</td>\n",
              "      <td>[climate]</td>\n",
              "    </tr>\n",
              "    <tr>\n",
              "      <th>142</th>\n",
              "      <td>2020-02-03-092855</td>\n",
              "      <td>We discussed ways, too, to further improve the...</td>\n",
              "      <td>Mike Pompeo</td>\n",
              "      <td>Q473239</td>\n",
              "      <td>[[Mike Pompeo, 0.8043], [None, 0.1655], [Abdul...</td>\n",
              "      <td>[Q6581097]</td>\n",
              "      <td>[Q40348, Q43845, Q2961975, Q189290, Q82955]</td>\n",
              "      <td>[Q29468]</td>\n",
              "      <td>Mike Pompeo</td>\n",
              "      <td>0.8043</td>\n",
              "      <td>1</td>\n",
              "      <td>35694</td>\n",
              "      <td>[climate]</td>\n",
              "    </tr>\n",
              "    <tr>\n",
              "      <th>157</th>\n",
              "      <td>2020-02-18-014398</td>\n",
              "      <td>cutting off (Venezuelan President Nicolas) Mad...</td>\n",
              "      <td>Mike Pompeo</td>\n",
              "      <td>Q473239</td>\n",
              "      <td>[[Mike Pompeo, 0.711], [Jorge Arreaza, 0.2204]...</td>\n",
              "      <td>[Q6581097]</td>\n",
              "      <td>[Q40348, Q43845, Q2961975, Q189290, Q82955]</td>\n",
              "      <td>[Q29468]</td>\n",
              "      <td>Mike Pompeo</td>\n",
              "      <td>0.7110</td>\n",
              "      <td>1</td>\n",
              "      <td>35694</td>\n",
              "      <td>[oil]</td>\n",
              "    </tr>\n",
              "    <tr>\n",
              "      <th>197</th>\n",
              "      <td>2020-03-27-055096</td>\n",
              "      <td>Their failure has harmed US-Afghan relations a...</td>\n",
              "      <td>Mike Pompeo</td>\n",
              "      <td>Q473239</td>\n",
              "      <td>[[Mike Pompeo, 0.6216], [None, 0.3572], [Abdul...</td>\n",
              "      <td>[Q6581097]</td>\n",
              "      <td>[Q40348, Q43845, Q2961975, Q189290, Q82955]</td>\n",
              "      <td>[Q29468]</td>\n",
              "      <td>Mike Pompeo</td>\n",
              "      <td>0.6216</td>\n",
              "      <td>1</td>\n",
              "      <td>35694</td>\n",
              "      <td>[coal]</td>\n",
              "    </tr>\n",
              "    <tr>\n",
              "      <th>...</th>\n",
              "      <td>...</td>\n",
              "      <td>...</td>\n",
              "      <td>...</td>\n",
              "      <td>...</td>\n",
              "      <td>...</td>\n",
              "      <td>...</td>\n",
              "      <td>...</td>\n",
              "      <td>...</td>\n",
              "      <td>...</td>\n",
              "      <td>...</td>\n",
              "      <td>...</td>\n",
              "      <td>...</td>\n",
              "      <td>...</td>\n",
              "    </tr>\n",
              "    <tr>\n",
              "      <th>7681054</th>\n",
              "      <td>2015-03-06-037886</td>\n",
              "      <td>I'm not really surprised, considering the weat...</td>\n",
              "      <td>Dan Dodd</td>\n",
              "      <td>Q5213385</td>\n",
              "      <td>[[Dan Dodd, 0.9388], [None, 0.0612]]</td>\n",
              "      <td>[Q6581097]</td>\n",
              "      <td>[Q82955]</td>\n",
              "      <td>[Q29552]</td>\n",
              "      <td>Dan Dodd</td>\n",
              "      <td>0.9388</td>\n",
              "      <td>1</td>\n",
              "      <td>21</td>\n",
              "      <td>[weather]</td>\n",
              "    </tr>\n",
              "    <tr>\n",
              "      <th>7681325</th>\n",
              "      <td>2015-12-10-086303</td>\n",
              "      <td>Our sense is that ISIL is taking its profits b...</td>\n",
              "      <td>Adam Szubin</td>\n",
              "      <td>Q28514306</td>\n",
              "      <td>[[Adam Szubin, 0.6549], [None, 0.3372], [Abu S...</td>\n",
              "      <td>[Q6581097]</td>\n",
              "      <td>[Q82955]</td>\n",
              "      <td>[Q29552]</td>\n",
              "      <td>Adam Szubin</td>\n",
              "      <td>0.6549</td>\n",
              "      <td>1</td>\n",
              "      <td>353</td>\n",
              "      <td>[oil]</td>\n",
              "    </tr>\n",
              "    <tr>\n",
              "      <th>7681348</th>\n",
              "      <td>2015-09-28-097756</td>\n",
              "      <td>The Spirit of the Sound will aid The Maritime ...</td>\n",
              "      <td>Bob Duff</td>\n",
              "      <td>Q16213499</td>\n",
              "      <td>[[Bob Duff, 0.7904], [None, 0.2096]]</td>\n",
              "      <td>[Q6581097]</td>\n",
              "      <td>[Q82955]</td>\n",
              "      <td>[Q29552]</td>\n",
              "      <td>Bob Duff</td>\n",
              "      <td>0.7904</td>\n",
              "      <td>1</td>\n",
              "      <td>1083</td>\n",
              "      <td>[ecosystem]</td>\n",
              "    </tr>\n",
              "    <tr>\n",
              "      <th>7681380</th>\n",
              "      <td>2015-09-30-121830</td>\n",
              "      <td>We are no longer at the point of political tal...</td>\n",
              "      <td>John Pippy</td>\n",
              "      <td>Q16213411</td>\n",
              "      <td>[[John Pippy, 0.8482], [None, 0.1518]]</td>\n",
              "      <td>[Q6581097]</td>\n",
              "      <td>[Q82955]</td>\n",
              "      <td>[Q29468]</td>\n",
              "      <td>John Pippy</td>\n",
              "      <td>0.8482</td>\n",
              "      <td>1</td>\n",
              "      <td>79</td>\n",
              "      <td>[coal]</td>\n",
              "    </tr>\n",
              "    <tr>\n",
              "      <th>7681432</th>\n",
              "      <td>2015-03-20-015055</td>\n",
              "      <td>enemy number one to the climate change agenda,</td>\n",
              "      <td>Myron Ebell</td>\n",
              "      <td>Q6948430</td>\n",
              "      <td>[[Myron Ebell, 0.6456], [None, 0.2019], [John ...</td>\n",
              "      <td>[Q6581097]</td>\n",
              "      <td>[Q27827744, Q8125919]</td>\n",
              "      <td>[Q29468]</td>\n",
              "      <td>Myron Ebell</td>\n",
              "      <td>0.6456</td>\n",
              "      <td>1</td>\n",
              "      <td>1077</td>\n",
              "      <td>[climate change]</td>\n",
              "    </tr>\n",
              "  </tbody>\n",
              "</table>\n",
              "<p>72577 rows × 13 columns</p>\n",
              "</div>"
            ],
            "text/plain": [
              "                   quoteID  ... climate_change_voc\n",
              "17       2020-01-05-025623  ...        [ecosystem]\n",
              "38       2020-03-27-028836  ...          [climate]\n",
              "142      2020-02-03-092855  ...          [climate]\n",
              "157      2020-02-18-014398  ...              [oil]\n",
              "197      2020-03-27-055096  ...             [coal]\n",
              "...                    ...  ...                ...\n",
              "7681054  2015-03-06-037886  ...          [weather]\n",
              "7681325  2015-12-10-086303  ...              [oil]\n",
              "7681348  2015-09-28-097756  ...        [ecosystem]\n",
              "7681380  2015-09-30-121830  ...             [coal]\n",
              "7681432  2015-03-20-015055  ...   [climate change]\n",
              "\n",
              "[72577 rows x 13 columns]"
            ]
          },
          "metadata": {},
          "execution_count": 33
        }
      ]
    },
    {
      "cell_type": "markdown",
      "metadata": {
        "id": "fhbgcmXIfEIU"
      },
      "source": [
        "## **Draft Framework to Handle the Quotes for Next Milestone**"
      ],
      "id": "fhbgcmXIfEIU"
    },
    {
      "cell_type": "code",
      "metadata": {
        "colab": {
          "base_uri": "https://localhost:8080/"
        },
        "id": "W6PczdkXehKR",
        "outputId": "ed3407c9-855a-48ce-f9d9-6092ad28e178"
      },
      "source": [
        "from nltk.stem import PorterStemmer, WordNetLemmatizer\n",
        "import nltk\n",
        "from sklearn.feature_extraction.text import CountVectorizer, TfidfVectorizer\n",
        "from sklearn.metrics.pairwise import linear_kernel\n",
        "import string\n",
        "from nltk.corpus import stopwords\n",
        "import math\n",
        "from collections import Counter\n",
        "import numpy as np\n",
        "nltk.download('stopwords')\n",
        "nltk.download('punkt')\n",
        "\n",
        "stemmer = PorterStemmer()\n",
        "\n",
        "# Tokenize, stem a document\n",
        "def tokenize(text):\n",
        "    text = \"\".join([ch for ch in text if ch not in string.punctuation])\n",
        "    tokens = nltk.word_tokenize(text)\n",
        "    return \" \".join([stemmer.stem(word.lower()) for word in tokens])\n"
      ],
      "id": "W6PczdkXehKR",
      "execution_count": 30,
      "outputs": [
        {
          "output_type": "stream",
          "name": "stdout",
          "text": [
            "[nltk_data] Downloading package stopwords to /root/nltk_data...\n",
            "[nltk_data]   Unzipping corpora/stopwords.zip.\n",
            "[nltk_data] Downloading package punkt to /root/nltk_data...\n",
            "[nltk_data]   Unzipping tokenizers/punkt.zip.\n"
          ]
        }
      ]
    },
    {
      "cell_type": "code",
      "metadata": {
        "id": "O236FopCgAns"
      },
      "source": [
        "content = df['quotation'] # Quotations\n",
        "original_documents = [x.strip() for x in content] \n",
        "documents = [tokenize(d).split() for d in original_documents]\n",
        "docs_n_doc_ids = list(zip(range(len(documents)), documents))\n"
      ],
      "id": "O236FopCgAns",
      "execution_count": null,
      "outputs": []
    },
    {
      "cell_type": "code",
      "metadata": {
        "id": "DeT_jq6esbT8"
      },
      "source": [
        "# Create the vocabulary\n",
        "vocabulary = set([item for sublist in documents for item in sublist])\n",
        "vocabulary = [word for word in vocabulary if word not in stopwords.words('english')]\n",
        "vocabulary.sort()"
      ],
      "id": "DeT_jq6esbT8",
      "execution_count": null,
      "outputs": []
    },
    {
      "cell_type": "code",
      "metadata": {
        "id": "H2Um7BDDsQgc"
      },
      "source": [
        "# Compute IDF, storing idf values in a dictionary\n",
        "def idf_values(vocabulary, documents):\n",
        "    idf = {}\n",
        "    num_documents = len(documents)\n",
        "    for i, term in enumerate(vocabulary):\n",
        "        idf[term] = math.log(num_documents/sum(term in document for document in documents), math.e)\n",
        "    return idf\n",
        "\n",
        "# Function to generate the vector for a document (with normalisation)\n",
        "def vectorize(document, vocabulary, idf):\n",
        "    vector = [0]*len(vocabulary)\n",
        "    counts = Counter(document)\n",
        "    max_count = counts.most_common(1)[0][1]\n",
        "    for i,term in enumerate(vocabulary):\n",
        "        vector[i] = idf[term] * counts[term]/max_count\n",
        "    return vector\n",
        "\n",
        "# Function to compute cosine similarity\n",
        "def cosine_similarity(v1,v2):\n",
        "    sumxx, sumxy, sumyy = 0, 0, 0\n",
        "    for i in range(len(v1)):\n",
        "        x = v1[i]; y = v2[i]\n",
        "        sumxx += x*x\n",
        "        sumyy += y*y\n",
        "        sumxy += x*y\n",
        "    if sumxy == 0:\n",
        "            result = 0\n",
        "    else:\n",
        "            result = sumxy/math.sqrt(sumxx*sumyy)\n",
        "    return result\n",
        "\n",
        "def vectorize_query(query, vocabulary, idf):\n",
        "    q = query.split()\n",
        "    q = [stemmer.stem(w) for w in q]\n",
        "    query_vector = vectorize(q, vocabulary, idf)\n",
        "    return query_vector\n",
        "    \n",
        "def search_vec(query, k):\n",
        "    query_vector = vectorize_query(query, vocabulary, idf)\n",
        "    scores = [[cosine_similarity(query_vector, document_vectors[d]), d] for d in range(len(documents))]\n",
        "    scores.sort(key=lambda x: -x[0])\n",
        "    ans = []\n",
        "    indices = []\n",
        "    for i in range(min(k,len(original_documents))):\n",
        "        ans.append(original_documents[scores[i][1]])\n",
        "        indices.append(scores[i][1])\n",
        "    return ans, indices, query_vector\n",
        "\n",
        "# Compute IDF values and vectors\n",
        "idf = idf_values(vocabulary, documents)\n",
        "document_vectors = [vectorize(s, vocabulary, idf) for s in documents]"
      ],
      "id": "H2Um7BDDsQgc",
      "execution_count": null,
      "outputs": []
    },
    {
      "cell_type": "code",
      "metadata": {
        "id": "hbbAd3Uwskzv"
      },
      "source": [
        "import operator\n",
        "\n",
        "doc_vecs = np.transpose(np.array(document_vectors))\n",
        "h = {}\n",
        "for i, term in enumerate(vocabulary):\n",
        "    ha = {}\n",
        "    for docj in range(len(original_documents)):\n",
        "        tfidf = doc_vecs[i][docj]\n",
        "        ha[docj] = tfidf\n",
        "    sorted_ha = sorted(ha.items(), key=operator.itemgetter(1), reverse=True)\n",
        "    h[term] = sorted_ha"
      ],
      "id": "hbbAd3Uwskzv",
      "execution_count": null,
      "outputs": []
    }
  ]
}